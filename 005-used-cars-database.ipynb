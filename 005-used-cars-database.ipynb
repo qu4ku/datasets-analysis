{
 "cells": [
  {
   "cell_type": "code",
   "execution_count": 1,
   "metadata": {
    "ExecuteTime": {
     "end_time": "2017-12-04T23:37:14.869788Z",
     "start_time": "2017-12-04T23:37:14.865637Z"
    }
   },
   "outputs": [],
   "source": [
    "# WIP\n",
    "# Dmn, this DB is one big mess. "
   ]
  },
  {
   "cell_type": "code",
   "execution_count": 2,
   "metadata": {
    "ExecuteTime": {
     "end_time": "2017-12-04T23:37:16.263727Z",
     "start_time": "2017-12-04T23:37:14.892054Z"
    },
    "scrolled": true
   },
   "outputs": [
    {
     "data": {
      "text/html": [
       "\n",
       "    <div class=\"bk-root\">\n",
       "        <a href=\"https://bokeh.pydata.org\" target=\"_blank\" class=\"bk-logo bk-logo-small bk-logo-notebook\"></a>\n",
       "        <span id=\"a6676f2a-96c7-463f-8058-9a21abe73cfe\">Loading BokehJS ...</span>\n",
       "    </div>"
      ]
     },
     "metadata": {},
     "output_type": "display_data"
    },
    {
     "data": {
      "application/javascript": [
       "\n",
       "(function(root) {\n",
       "  function now() {\n",
       "    return new Date();\n",
       "  }\n",
       "\n",
       "  var force = true;\n",
       "\n",
       "  if (typeof (root._bokeh_onload_callbacks) === \"undefined\" || force === true) {\n",
       "    root._bokeh_onload_callbacks = [];\n",
       "    root._bokeh_is_loading = undefined;\n",
       "  }\n",
       "\n",
       "  var JS_MIME_TYPE = 'application/javascript';\n",
       "  var HTML_MIME_TYPE = 'text/html';\n",
       "  var EXEC_MIME_TYPE = 'application/vnd.bokehjs_exec.v0+json';\n",
       "  var CLASS_NAME = 'output_bokeh rendered_html';\n",
       "\n",
       "  /**\n",
       "   * Render data to the DOM node\n",
       "   */\n",
       "  function render(props, node) {\n",
       "    var script = document.createElement(\"script\");\n",
       "    node.appendChild(script);\n",
       "  }\n",
       "\n",
       "  /**\n",
       "   * Handle when an output is cleared or removed\n",
       "   */\n",
       "  function handleClearOutput(event, handle) {\n",
       "    var cell = handle.cell;\n",
       "\n",
       "    var id = cell.output_area._bokeh_element_id;\n",
       "    var server_id = cell.output_area._bokeh_server_id;\n",
       "    // Clean up Bokeh references\n",
       "    if (id !== undefined) {\n",
       "      Bokeh.index[id].model.document.clear();\n",
       "      delete Bokeh.index[id];\n",
       "    }\n",
       "\n",
       "    if (server_id !== undefined) {\n",
       "      // Clean up Bokeh references\n",
       "      var cmd = \"from bokeh.io.state import curstate; print(curstate().uuid_to_server['\" + server_id + \"'].get_sessions()[0].document.roots[0]._id)\";\n",
       "      cell.notebook.kernel.execute(cmd, {\n",
       "        iopub: {\n",
       "          output: function(msg) {\n",
       "            var element_id = msg.content.text.trim();\n",
       "            Bokeh.index[element_id].model.document.clear();\n",
       "            delete Bokeh.index[element_id];\n",
       "          }\n",
       "        }\n",
       "      });\n",
       "      // Destroy server and session\n",
       "      var cmd = \"import bokeh.io.notebook as ion; ion.destroy_server('\" + server_id + \"')\";\n",
       "      cell.notebook.kernel.execute(cmd);\n",
       "    }\n",
       "  }\n",
       "\n",
       "  /**\n",
       "   * Handle when a new output is added\n",
       "   */\n",
       "  function handleAddOutput(event, handle) {\n",
       "    var output_area = handle.output_area;\n",
       "    var output = handle.output;\n",
       "\n",
       "    // limit handleAddOutput to display_data with EXEC_MIME_TYPE content only\n",
       "    if ((output.output_type != \"display_data\") || (!output.data.hasOwnProperty(EXEC_MIME_TYPE))) {\n",
       "      return\n",
       "    }\n",
       "\n",
       "    var toinsert = output_area.element.find(`.${CLASS_NAME.split(' ')[0]}`);\n",
       "\n",
       "    if (output.metadata[EXEC_MIME_TYPE][\"id\"] !== undefined) {\n",
       "      toinsert[0].firstChild.textContent = output.data[JS_MIME_TYPE];\n",
       "      // store reference to embed id on output_area\n",
       "      output_area._bokeh_element_id = output.metadata[EXEC_MIME_TYPE][\"id\"];\n",
       "    }\n",
       "    if (output.metadata[EXEC_MIME_TYPE][\"server_id\"] !== undefined) {\n",
       "      var bk_div = document.createElement(\"div\");\n",
       "      bk_div.innerHTML = output.data[HTML_MIME_TYPE];\n",
       "      var script_attrs = bk_div.children[0].attributes;\n",
       "      for (var i = 0; i < script_attrs.length; i++) {\n",
       "        toinsert[0].firstChild.setAttribute(script_attrs[i].name, script_attrs[i].value);\n",
       "      }\n",
       "      // store reference to server id on output_area\n",
       "      output_area._bokeh_server_id = output.metadata[EXEC_MIME_TYPE][\"server_id\"];\n",
       "    }\n",
       "  }\n",
       "\n",
       "  function register_renderer(events, OutputArea) {\n",
       "\n",
       "    function append_mime(data, metadata, element) {\n",
       "      // create a DOM node to render to\n",
       "      var toinsert = this.create_output_subarea(\n",
       "        metadata,\n",
       "        CLASS_NAME,\n",
       "        EXEC_MIME_TYPE\n",
       "      );\n",
       "      this.keyboard_manager.register_events(toinsert);\n",
       "      // Render to node\n",
       "      var props = {data: data, metadata: metadata[EXEC_MIME_TYPE]};\n",
       "      render(props, toinsert[0]);\n",
       "      element.append(toinsert);\n",
       "      return toinsert\n",
       "    }\n",
       "\n",
       "    /* Handle when an output is cleared or removed */\n",
       "    events.on('clear_output.CodeCell', handleClearOutput);\n",
       "    events.on('delete.Cell', handleClearOutput);\n",
       "\n",
       "    /* Handle when a new output is added */\n",
       "    events.on('output_added.OutputArea', handleAddOutput);\n",
       "\n",
       "    /**\n",
       "     * Register the mime type and append_mime function with output_area\n",
       "     */\n",
       "    OutputArea.prototype.register_mime_type(EXEC_MIME_TYPE, append_mime, {\n",
       "      /* Is output safe? */\n",
       "      safe: true,\n",
       "      /* Index of renderer in `output_area.display_order` */\n",
       "      index: 0\n",
       "    });\n",
       "  }\n",
       "\n",
       "  // register the mime type if in Jupyter Notebook environment and previously unregistered\n",
       "  if (root.Jupyter !== undefined) {\n",
       "    var events = require('base/js/events');\n",
       "    var OutputArea = require('notebook/js/outputarea').OutputArea;\n",
       "\n",
       "    if (OutputArea.prototype.mime_types().indexOf(EXEC_MIME_TYPE) == -1) {\n",
       "      register_renderer(events, OutputArea);\n",
       "    }\n",
       "  }\n",
       "\n",
       "  \n",
       "  if (typeof (root._bokeh_timeout) === \"undefined\" || force === true) {\n",
       "    root._bokeh_timeout = Date.now() + 5000;\n",
       "    root._bokeh_failed_load = false;\n",
       "  }\n",
       "\n",
       "  var NB_LOAD_WARNING = {'data': {'text/html':\n",
       "     \"<div style='background-color: #fdd'>\\n\"+\n",
       "     \"<p>\\n\"+\n",
       "     \"BokehJS does not appear to have successfully loaded. If loading BokehJS from CDN, this \\n\"+\n",
       "     \"may be due to a slow or bad network connection. Possible fixes:\\n\"+\n",
       "     \"</p>\\n\"+\n",
       "     \"<ul>\\n\"+\n",
       "     \"<li>re-rerun `output_notebook()` to attempt to load from CDN again, or</li>\\n\"+\n",
       "     \"<li>use INLINE resources instead, as so:</li>\\n\"+\n",
       "     \"</ul>\\n\"+\n",
       "     \"<code>\\n\"+\n",
       "     \"from bokeh.resources import INLINE\\n\"+\n",
       "     \"output_notebook(resources=INLINE)\\n\"+\n",
       "     \"</code>\\n\"+\n",
       "     \"</div>\"}};\n",
       "\n",
       "  function display_loaded() {\n",
       "    var el = document.getElementById(\"a6676f2a-96c7-463f-8058-9a21abe73cfe\");\n",
       "    if (el != null) {\n",
       "      el.textContent = \"BokehJS is loading...\";\n",
       "    }\n",
       "    if (root.Bokeh !== undefined) {\n",
       "      if (el != null) {\n",
       "        el.textContent = \"BokehJS \" + root.Bokeh.version + \" successfully loaded.\";\n",
       "      }\n",
       "    } else if (Date.now() < root._bokeh_timeout) {\n",
       "      setTimeout(display_loaded, 100)\n",
       "    }\n",
       "  }\n",
       "\n",
       "\n",
       "  function run_callbacks() {\n",
       "    try {\n",
       "      root._bokeh_onload_callbacks.forEach(function(callback) { callback() });\n",
       "    }\n",
       "    finally {\n",
       "      delete root._bokeh_onload_callbacks\n",
       "    }\n",
       "    console.info(\"Bokeh: all callbacks have finished\");\n",
       "  }\n",
       "\n",
       "  function load_libs(js_urls, callback) {\n",
       "    root._bokeh_onload_callbacks.push(callback);\n",
       "    if (root._bokeh_is_loading > 0) {\n",
       "      console.log(\"Bokeh: BokehJS is being loaded, scheduling callback at\", now());\n",
       "      return null;\n",
       "    }\n",
       "    if (js_urls == null || js_urls.length === 0) {\n",
       "      run_callbacks();\n",
       "      return null;\n",
       "    }\n",
       "    console.log(\"Bokeh: BokehJS not loaded, scheduling load and callback at\", now());\n",
       "    root._bokeh_is_loading = js_urls.length;\n",
       "    for (var i = 0; i < js_urls.length; i++) {\n",
       "      var url = js_urls[i];\n",
       "      var s = document.createElement('script');\n",
       "      s.src = url;\n",
       "      s.async = false;\n",
       "      s.onreadystatechange = s.onload = function() {\n",
       "        root._bokeh_is_loading--;\n",
       "        if (root._bokeh_is_loading === 0) {\n",
       "          console.log(\"Bokeh: all BokehJS libraries loaded\");\n",
       "          run_callbacks()\n",
       "        }\n",
       "      };\n",
       "      s.onerror = function() {\n",
       "        console.warn(\"failed to load library \" + url);\n",
       "      };\n",
       "      console.log(\"Bokeh: injecting script tag for BokehJS library: \", url);\n",
       "      document.getElementsByTagName(\"head\")[0].appendChild(s);\n",
       "    }\n",
       "  };var element = document.getElementById(\"a6676f2a-96c7-463f-8058-9a21abe73cfe\");\n",
       "  if (element == null) {\n",
       "    console.log(\"Bokeh: ERROR: autoload.js configured with elementid 'a6676f2a-96c7-463f-8058-9a21abe73cfe' but no matching script tag was found. \")\n",
       "    return false;\n",
       "  }\n",
       "\n",
       "  var js_urls = [\"https://cdn.pydata.org/bokeh/release/bokeh-0.12.10.min.js\", \"https://cdn.pydata.org/bokeh/release/bokeh-widgets-0.12.10.min.js\", \"https://cdn.pydata.org/bokeh/release/bokeh-tables-0.12.10.min.js\", \"https://cdn.pydata.org/bokeh/release/bokeh-gl-0.12.10.min.js\"];\n",
       "\n",
       "  var inline_js = [\n",
       "    function(Bokeh) {\n",
       "      Bokeh.set_log_level(\"info\");\n",
       "    },\n",
       "    \n",
       "    function(Bokeh) {\n",
       "      \n",
       "    },\n",
       "    function(Bokeh) {\n",
       "      console.log(\"Bokeh: injecting CSS: https://cdn.pydata.org/bokeh/release/bokeh-0.12.10.min.css\");\n",
       "      Bokeh.embed.inject_css(\"https://cdn.pydata.org/bokeh/release/bokeh-0.12.10.min.css\");\n",
       "      console.log(\"Bokeh: injecting CSS: https://cdn.pydata.org/bokeh/release/bokeh-widgets-0.12.10.min.css\");\n",
       "      Bokeh.embed.inject_css(\"https://cdn.pydata.org/bokeh/release/bokeh-widgets-0.12.10.min.css\");\n",
       "      console.log(\"Bokeh: injecting CSS: https://cdn.pydata.org/bokeh/release/bokeh-tables-0.12.10.min.css\");\n",
       "      Bokeh.embed.inject_css(\"https://cdn.pydata.org/bokeh/release/bokeh-tables-0.12.10.min.css\");\n",
       "    }\n",
       "  ];\n",
       "\n",
       "  function run_inline_js() {\n",
       "    \n",
       "    if ((root.Bokeh !== undefined) || (force === true)) {\n",
       "      for (var i = 0; i < inline_js.length; i++) {\n",
       "        inline_js[i].call(root, root.Bokeh);\n",
       "      }if (force === true) {\n",
       "        display_loaded();\n",
       "      }} else if (Date.now() < root._bokeh_timeout) {\n",
       "      setTimeout(run_inline_js, 100);\n",
       "    } else if (!root._bokeh_failed_load) {\n",
       "      console.log(\"Bokeh: BokehJS failed to load within specified timeout.\");\n",
       "      root._bokeh_failed_load = true;\n",
       "    } else if (force !== true) {\n",
       "      var cell = $(document.getElementById(\"a6676f2a-96c7-463f-8058-9a21abe73cfe\")).parents('.cell').data().cell;\n",
       "      cell.output_area.append_execute_result(NB_LOAD_WARNING)\n",
       "    }\n",
       "\n",
       "  }\n",
       "\n",
       "  if (root._bokeh_is_loading === 0) {\n",
       "    console.log(\"Bokeh: BokehJS loaded, going straight to plotting\");\n",
       "    run_inline_js();\n",
       "  } else {\n",
       "    load_libs(js_urls, function() {\n",
       "      console.log(\"Bokeh: BokehJS plotting callback run at\", now());\n",
       "      run_inline_js();\n",
       "    });\n",
       "  }\n",
       "}(window));"
      ],
      "application/vnd.bokehjs_load.v0+json": "\n(function(root) {\n  function now() {\n    return new Date();\n  }\n\n  var force = true;\n\n  if (typeof (root._bokeh_onload_callbacks) === \"undefined\" || force === true) {\n    root._bokeh_onload_callbacks = [];\n    root._bokeh_is_loading = undefined;\n  }\n\n  \n\n  \n  if (typeof (root._bokeh_timeout) === \"undefined\" || force === true) {\n    root._bokeh_timeout = Date.now() + 5000;\n    root._bokeh_failed_load = false;\n  }\n\n  var NB_LOAD_WARNING = {'data': {'text/html':\n     \"<div style='background-color: #fdd'>\\n\"+\n     \"<p>\\n\"+\n     \"BokehJS does not appear to have successfully loaded. If loading BokehJS from CDN, this \\n\"+\n     \"may be due to a slow or bad network connection. Possible fixes:\\n\"+\n     \"</p>\\n\"+\n     \"<ul>\\n\"+\n     \"<li>re-rerun `output_notebook()` to attempt to load from CDN again, or</li>\\n\"+\n     \"<li>use INLINE resources instead, as so:</li>\\n\"+\n     \"</ul>\\n\"+\n     \"<code>\\n\"+\n     \"from bokeh.resources import INLINE\\n\"+\n     \"output_notebook(resources=INLINE)\\n\"+\n     \"</code>\\n\"+\n     \"</div>\"}};\n\n  function display_loaded() {\n    var el = document.getElementById(\"a6676f2a-96c7-463f-8058-9a21abe73cfe\");\n    if (el != null) {\n      el.textContent = \"BokehJS is loading...\";\n    }\n    if (root.Bokeh !== undefined) {\n      if (el != null) {\n        el.textContent = \"BokehJS \" + root.Bokeh.version + \" successfully loaded.\";\n      }\n    } else if (Date.now() < root._bokeh_timeout) {\n      setTimeout(display_loaded, 100)\n    }\n  }\n\n\n  function run_callbacks() {\n    try {\n      root._bokeh_onload_callbacks.forEach(function(callback) { callback() });\n    }\n    finally {\n      delete root._bokeh_onload_callbacks\n    }\n    console.info(\"Bokeh: all callbacks have finished\");\n  }\n\n  function load_libs(js_urls, callback) {\n    root._bokeh_onload_callbacks.push(callback);\n    if (root._bokeh_is_loading > 0) {\n      console.log(\"Bokeh: BokehJS is being loaded, scheduling callback at\", now());\n      return null;\n    }\n    if (js_urls == null || js_urls.length === 0) {\n      run_callbacks();\n      return null;\n    }\n    console.log(\"Bokeh: BokehJS not loaded, scheduling load and callback at\", now());\n    root._bokeh_is_loading = js_urls.length;\n    for (var i = 0; i < js_urls.length; i++) {\n      var url = js_urls[i];\n      var s = document.createElement('script');\n      s.src = url;\n      s.async = false;\n      s.onreadystatechange = s.onload = function() {\n        root._bokeh_is_loading--;\n        if (root._bokeh_is_loading === 0) {\n          console.log(\"Bokeh: all BokehJS libraries loaded\");\n          run_callbacks()\n        }\n      };\n      s.onerror = function() {\n        console.warn(\"failed to load library \" + url);\n      };\n      console.log(\"Bokeh: injecting script tag for BokehJS library: \", url);\n      document.getElementsByTagName(\"head\")[0].appendChild(s);\n    }\n  };var element = document.getElementById(\"a6676f2a-96c7-463f-8058-9a21abe73cfe\");\n  if (element == null) {\n    console.log(\"Bokeh: ERROR: autoload.js configured with elementid 'a6676f2a-96c7-463f-8058-9a21abe73cfe' but no matching script tag was found. \")\n    return false;\n  }\n\n  var js_urls = [\"https://cdn.pydata.org/bokeh/release/bokeh-0.12.10.min.js\", \"https://cdn.pydata.org/bokeh/release/bokeh-widgets-0.12.10.min.js\", \"https://cdn.pydata.org/bokeh/release/bokeh-tables-0.12.10.min.js\", \"https://cdn.pydata.org/bokeh/release/bokeh-gl-0.12.10.min.js\"];\n\n  var inline_js = [\n    function(Bokeh) {\n      Bokeh.set_log_level(\"info\");\n    },\n    \n    function(Bokeh) {\n      \n    },\n    function(Bokeh) {\n      console.log(\"Bokeh: injecting CSS: https://cdn.pydata.org/bokeh/release/bokeh-0.12.10.min.css\");\n      Bokeh.embed.inject_css(\"https://cdn.pydata.org/bokeh/release/bokeh-0.12.10.min.css\");\n      console.log(\"Bokeh: injecting CSS: https://cdn.pydata.org/bokeh/release/bokeh-widgets-0.12.10.min.css\");\n      Bokeh.embed.inject_css(\"https://cdn.pydata.org/bokeh/release/bokeh-widgets-0.12.10.min.css\");\n      console.log(\"Bokeh: injecting CSS: https://cdn.pydata.org/bokeh/release/bokeh-tables-0.12.10.min.css\");\n      Bokeh.embed.inject_css(\"https://cdn.pydata.org/bokeh/release/bokeh-tables-0.12.10.min.css\");\n    }\n  ];\n\n  function run_inline_js() {\n    \n    if ((root.Bokeh !== undefined) || (force === true)) {\n      for (var i = 0; i < inline_js.length; i++) {\n        inline_js[i].call(root, root.Bokeh);\n      }if (force === true) {\n        display_loaded();\n      }} else if (Date.now() < root._bokeh_timeout) {\n      setTimeout(run_inline_js, 100);\n    } else if (!root._bokeh_failed_load) {\n      console.log(\"Bokeh: BokehJS failed to load within specified timeout.\");\n      root._bokeh_failed_load = true;\n    } else if (force !== true) {\n      var cell = $(document.getElementById(\"a6676f2a-96c7-463f-8058-9a21abe73cfe\")).parents('.cell').data().cell;\n      cell.output_area.append_execute_result(NB_LOAD_WARNING)\n    }\n\n  }\n\n  if (root._bokeh_is_loading === 0) {\n    console.log(\"Bokeh: BokehJS loaded, going straight to plotting\");\n    run_inline_js();\n  } else {\n    load_libs(js_urls, function() {\n      console.log(\"Bokeh: BokehJS plotting callback run at\", now());\n      run_inline_js();\n    });\n  }\n}(window));"
     },
     "metadata": {},
     "output_type": "display_data"
    }
   ],
   "source": [
    "# V 1.00\n",
    "# Standard imports\n",
    "import pandas as pd\n",
    "import numpy as np\n",
    "from zipfile import ZipFile\n",
    "\n",
    "# Plotting \n",
    "import matplotlib.pyplot as plt\n",
    "import matplotlib.colors as mcolors\n",
    "from bokeh.plotting import figure, output_notebook, show, output_file\n",
    "import seaborn as sns\n",
    "\n",
    "output_notebook()\n",
    "%matplotlib inline\n",
    "\n",
    "# Housekeeping\n",
    "pd.options.mode.chained_assignment = None\n",
    "pd.options.display.max_columns = 999\n",
    "pd.set_option('display.float_format', lambda x: '{:,.2f}'.format(x))\n",
    "\n",
    "# Colour management\n",
    "MC = '#242a49'  # Main\n",
    "SC = '#ededed'  # Secondary\n",
    "TC = 'red'  # Tertiary (:\n",
    "\n",
    "colors = [MC, '#17b5ff', 'navy', 'red', 'pink']\n",
    "cmap = mcolors.LinearSegmentedColormap.from_list('n', ['red', 'white', MC])\n",
    "\n",
    "plt.rcParams.update({\n",
    "    'font.family': 'monospace',\n",
    "    'font.size': 10,\n",
    "    'figure.figsize': (12, 6),\n",
    "    'grid.color': SC,\n",
    "    'axes.titlesize': 16.0,\n",
    "    'axes.facecolor': 'none',\n",
    "    'axes.formatter.useoffset': False,  # Scientific notation\n",
    "})\n"
   ]
  },
  {
   "cell_type": "code",
   "execution_count": 3,
   "metadata": {
    "ExecuteTime": {
     "end_time": "2017-12-04T23:37:19.493072Z",
     "start_time": "2017-12-04T23:37:16.265418Z"
    },
    "scrolled": true
   },
   "outputs": [
    {
     "data": {
      "text/html": [
       "<div>\n",
       "<style scoped>\n",
       "    .dataframe tbody tr th:only-of-type {\n",
       "        vertical-align: middle;\n",
       "    }\n",
       "\n",
       "    .dataframe tbody tr th {\n",
       "        vertical-align: top;\n",
       "    }\n",
       "\n",
       "    .dataframe thead th {\n",
       "        text-align: right;\n",
       "    }\n",
       "</style>\n",
       "<table border=\"1\" class=\"dataframe\">\n",
       "  <thead>\n",
       "    <tr style=\"text-align: right;\">\n",
       "      <th></th>\n",
       "      <th>dateCrawled</th>\n",
       "      <th>name</th>\n",
       "      <th>seller</th>\n",
       "      <th>offerType</th>\n",
       "      <th>price</th>\n",
       "      <th>abtest</th>\n",
       "      <th>vehicleType</th>\n",
       "      <th>yearOfRegistration</th>\n",
       "      <th>gearbox</th>\n",
       "      <th>powerPS</th>\n",
       "      <th>model</th>\n",
       "      <th>kilometer</th>\n",
       "      <th>monthOfRegistration</th>\n",
       "      <th>fuelType</th>\n",
       "      <th>brand</th>\n",
       "      <th>notRepairedDamage</th>\n",
       "      <th>dateCreated</th>\n",
       "      <th>nrOfPictures</th>\n",
       "      <th>postalCode</th>\n",
       "      <th>lastSeen</th>\n",
       "    </tr>\n",
       "  </thead>\n",
       "  <tbody>\n",
       "    <tr>\n",
       "      <th>0</th>\n",
       "      <td>2016-03-24 11:52:17</td>\n",
       "      <td>Golf_3_1.6</td>\n",
       "      <td>privat</td>\n",
       "      <td>Angebot</td>\n",
       "      <td>480</td>\n",
       "      <td>test</td>\n",
       "      <td>NaN</td>\n",
       "      <td>1993</td>\n",
       "      <td>manuell</td>\n",
       "      <td>0</td>\n",
       "      <td>golf</td>\n",
       "      <td>150000</td>\n",
       "      <td>0</td>\n",
       "      <td>benzin</td>\n",
       "      <td>volkswagen</td>\n",
       "      <td>NaN</td>\n",
       "      <td>2016-03-24</td>\n",
       "      <td>0</td>\n",
       "      <td>70435</td>\n",
       "      <td>2016-04-07 03:16:57</td>\n",
       "    </tr>\n",
       "    <tr>\n",
       "      <th>1</th>\n",
       "      <td>2016-03-24 10:58:45</td>\n",
       "      <td>A5_Sportback_2.7_Tdi</td>\n",
       "      <td>privat</td>\n",
       "      <td>Angebot</td>\n",
       "      <td>18300</td>\n",
       "      <td>test</td>\n",
       "      <td>coupe</td>\n",
       "      <td>2011</td>\n",
       "      <td>manuell</td>\n",
       "      <td>190</td>\n",
       "      <td>NaN</td>\n",
       "      <td>125000</td>\n",
       "      <td>5</td>\n",
       "      <td>diesel</td>\n",
       "      <td>audi</td>\n",
       "      <td>ja</td>\n",
       "      <td>2016-03-24</td>\n",
       "      <td>0</td>\n",
       "      <td>66954</td>\n",
       "      <td>2016-04-07 01:46:50</td>\n",
       "    </tr>\n",
       "    <tr>\n",
       "      <th>2</th>\n",
       "      <td>2016-03-14 12:52:21</td>\n",
       "      <td>Jeep_Grand_Cherokee_\"Overland\"</td>\n",
       "      <td>privat</td>\n",
       "      <td>Angebot</td>\n",
       "      <td>9800</td>\n",
       "      <td>test</td>\n",
       "      <td>suv</td>\n",
       "      <td>2004</td>\n",
       "      <td>automatik</td>\n",
       "      <td>163</td>\n",
       "      <td>grand</td>\n",
       "      <td>125000</td>\n",
       "      <td>8</td>\n",
       "      <td>diesel</td>\n",
       "      <td>jeep</td>\n",
       "      <td>NaN</td>\n",
       "      <td>2016-03-14</td>\n",
       "      <td>0</td>\n",
       "      <td>90480</td>\n",
       "      <td>2016-04-05 12:47:46</td>\n",
       "    </tr>\n",
       "  </tbody>\n",
       "</table>\n",
       "</div>"
      ],
      "text/plain": [
       "          dateCrawled                            name  seller offerType  \\\n",
       "0 2016-03-24 11:52:17                      Golf_3_1.6  privat   Angebot   \n",
       "1 2016-03-24 10:58:45            A5_Sportback_2.7_Tdi  privat   Angebot   \n",
       "2 2016-03-14 12:52:21  Jeep_Grand_Cherokee_\"Overland\"  privat   Angebot   \n",
       "\n",
       "   price abtest vehicleType  yearOfRegistration    gearbox  powerPS  model  \\\n",
       "0    480   test         NaN                1993    manuell        0   golf   \n",
       "1  18300   test       coupe                2011    manuell      190    NaN   \n",
       "2   9800   test         suv                2004  automatik      163  grand   \n",
       "\n",
       "   kilometer  monthOfRegistration fuelType       brand notRepairedDamage  \\\n",
       "0     150000                    0   benzin  volkswagen               NaN   \n",
       "1     125000                    5   diesel        audi                ja   \n",
       "2     125000                    8   diesel        jeep               NaN   \n",
       "\n",
       "  dateCreated  nrOfPictures  postalCode            lastSeen  \n",
       "0  2016-03-24             0       70435 2016-04-07 03:16:57  \n",
       "1  2016-03-24             0       66954 2016-04-07 01:46:50  \n",
       "2  2016-03-14             0       90480 2016-04-05 12:47:46  "
      ]
     },
     "execution_count": 3,
     "metadata": {},
     "output_type": "execute_result"
    }
   ],
   "source": [
    "df = pd.read_csv(ZipFile('data/used-cars-database.zip').open('autos.csv'),\n",
    "                encoding='Latin1', parse_dates=['dateCrawled', 'dateCreated', 'lastSeen'])\n",
    "df.head(3)"
   ]
  },
  {
   "cell_type": "code",
   "execution_count": 4,
   "metadata": {
    "ExecuteTime": {
     "end_time": "2017-12-04T23:37:19.528386Z",
     "start_time": "2017-12-04T23:37:19.495174Z"
    },
    "scrolled": true
   },
   "outputs": [
    {
     "data": {
      "text/html": [
       "<div>\n",
       "<style scoped>\n",
       "    .dataframe tbody tr th:only-of-type {\n",
       "        vertical-align: middle;\n",
       "    }\n",
       "\n",
       "    .dataframe tbody tr th {\n",
       "        vertical-align: top;\n",
       "    }\n",
       "\n",
       "    .dataframe thead th {\n",
       "        text-align: right;\n",
       "    }\n",
       "</style>\n",
       "<table border=\"1\" class=\"dataframe\">\n",
       "  <thead>\n",
       "    <tr style=\"text-align: right;\">\n",
       "      <th></th>\n",
       "      <th>DateCrawled</th>\n",
       "      <th>Name</th>\n",
       "      <th>Seller</th>\n",
       "      <th>OfferType</th>\n",
       "      <th>Price</th>\n",
       "      <th>ABTest</th>\n",
       "      <th>VehicleType</th>\n",
       "      <th>Year</th>\n",
       "      <th>Gearbox</th>\n",
       "      <th>PowerPS</th>\n",
       "      <th>Model</th>\n",
       "      <th>KM</th>\n",
       "      <th>Month</th>\n",
       "      <th>FuelType</th>\n",
       "      <th>Brand</th>\n",
       "      <th>Damage</th>\n",
       "      <th>DateCreated</th>\n",
       "      <th>Pictures</th>\n",
       "      <th>PostalCode</th>\n",
       "      <th>LastSeen</th>\n",
       "    </tr>\n",
       "  </thead>\n",
       "  <tbody>\n",
       "    <tr>\n",
       "      <th>0</th>\n",
       "      <td>2016-03-24 11:52:17</td>\n",
       "      <td>Golf_3_1.6</td>\n",
       "      <td>privat</td>\n",
       "      <td>Angebot</td>\n",
       "      <td>480</td>\n",
       "      <td>test</td>\n",
       "      <td>NaN</td>\n",
       "      <td>1993</td>\n",
       "      <td>manuell</td>\n",
       "      <td>0</td>\n",
       "      <td>golf</td>\n",
       "      <td>150000</td>\n",
       "      <td>0</td>\n",
       "      <td>benzin</td>\n",
       "      <td>volkswagen</td>\n",
       "      <td>NaN</td>\n",
       "      <td>2016-03-24</td>\n",
       "      <td>0</td>\n",
       "      <td>70435</td>\n",
       "      <td>2016-04-07 03:16:57</td>\n",
       "    </tr>\n",
       "    <tr>\n",
       "      <th>1</th>\n",
       "      <td>2016-03-24 10:58:45</td>\n",
       "      <td>A5_Sportback_2.7_Tdi</td>\n",
       "      <td>privat</td>\n",
       "      <td>Angebot</td>\n",
       "      <td>18300</td>\n",
       "      <td>test</td>\n",
       "      <td>coupe</td>\n",
       "      <td>2011</td>\n",
       "      <td>manuell</td>\n",
       "      <td>190</td>\n",
       "      <td>NaN</td>\n",
       "      <td>125000</td>\n",
       "      <td>5</td>\n",
       "      <td>diesel</td>\n",
       "      <td>audi</td>\n",
       "      <td>ja</td>\n",
       "      <td>2016-03-24</td>\n",
       "      <td>0</td>\n",
       "      <td>66954</td>\n",
       "      <td>2016-04-07 01:46:50</td>\n",
       "    </tr>\n",
       "    <tr>\n",
       "      <th>2</th>\n",
       "      <td>2016-03-14 12:52:21</td>\n",
       "      <td>Jeep_Grand_Cherokee_\"Overland\"</td>\n",
       "      <td>privat</td>\n",
       "      <td>Angebot</td>\n",
       "      <td>9800</td>\n",
       "      <td>test</td>\n",
       "      <td>suv</td>\n",
       "      <td>2004</td>\n",
       "      <td>automatik</td>\n",
       "      <td>163</td>\n",
       "      <td>grand</td>\n",
       "      <td>125000</td>\n",
       "      <td>8</td>\n",
       "      <td>diesel</td>\n",
       "      <td>jeep</td>\n",
       "      <td>NaN</td>\n",
       "      <td>2016-03-14</td>\n",
       "      <td>0</td>\n",
       "      <td>90480</td>\n",
       "      <td>2016-04-05 12:47:46</td>\n",
       "    </tr>\n",
       "    <tr>\n",
       "      <th>3</th>\n",
       "      <td>2016-03-17 16:54:04</td>\n",
       "      <td>GOLF_4_1_4__3TÜRER</td>\n",
       "      <td>privat</td>\n",
       "      <td>Angebot</td>\n",
       "      <td>1500</td>\n",
       "      <td>test</td>\n",
       "      <td>kleinwagen</td>\n",
       "      <td>2001</td>\n",
       "      <td>manuell</td>\n",
       "      <td>75</td>\n",
       "      <td>golf</td>\n",
       "      <td>150000</td>\n",
       "      <td>6</td>\n",
       "      <td>benzin</td>\n",
       "      <td>volkswagen</td>\n",
       "      <td>nein</td>\n",
       "      <td>2016-03-17</td>\n",
       "      <td>0</td>\n",
       "      <td>91074</td>\n",
       "      <td>2016-03-17 17:40:17</td>\n",
       "    </tr>\n",
       "    <tr>\n",
       "      <th>4</th>\n",
       "      <td>2016-03-31 17:25:20</td>\n",
       "      <td>Skoda_Fabia_1.4_TDI_PD_Classic</td>\n",
       "      <td>privat</td>\n",
       "      <td>Angebot</td>\n",
       "      <td>3600</td>\n",
       "      <td>test</td>\n",
       "      <td>kleinwagen</td>\n",
       "      <td>2008</td>\n",
       "      <td>manuell</td>\n",
       "      <td>69</td>\n",
       "      <td>fabia</td>\n",
       "      <td>90000</td>\n",
       "      <td>7</td>\n",
       "      <td>diesel</td>\n",
       "      <td>skoda</td>\n",
       "      <td>nein</td>\n",
       "      <td>2016-03-31</td>\n",
       "      <td>0</td>\n",
       "      <td>60437</td>\n",
       "      <td>2016-04-06 10:17:21</td>\n",
       "    </tr>\n",
       "  </tbody>\n",
       "</table>\n",
       "</div>"
      ],
      "text/plain": [
       "          DateCrawled                            Name  Seller OfferType  \\\n",
       "0 2016-03-24 11:52:17                      Golf_3_1.6  privat   Angebot   \n",
       "1 2016-03-24 10:58:45            A5_Sportback_2.7_Tdi  privat   Angebot   \n",
       "2 2016-03-14 12:52:21  Jeep_Grand_Cherokee_\"Overland\"  privat   Angebot   \n",
       "3 2016-03-17 16:54:04              GOLF_4_1_4__3TÜRER  privat   Angebot   \n",
       "4 2016-03-31 17:25:20  Skoda_Fabia_1.4_TDI_PD_Classic  privat   Angebot   \n",
       "\n",
       "   Price ABTest VehicleType  Year    Gearbox  PowerPS  Model      KM  Month  \\\n",
       "0    480   test         NaN  1993    manuell        0   golf  150000      0   \n",
       "1  18300   test       coupe  2011    manuell      190    NaN  125000      5   \n",
       "2   9800   test         suv  2004  automatik      163  grand  125000      8   \n",
       "3   1500   test  kleinwagen  2001    manuell       75   golf  150000      6   \n",
       "4   3600   test  kleinwagen  2008    manuell       69  fabia   90000      7   \n",
       "\n",
       "  FuelType       Brand Damage DateCreated  Pictures  PostalCode  \\\n",
       "0   benzin  volkswagen    NaN  2016-03-24         0       70435   \n",
       "1   diesel        audi     ja  2016-03-24         0       66954   \n",
       "2   diesel        jeep    NaN  2016-03-14         0       90480   \n",
       "3   benzin  volkswagen   nein  2016-03-17         0       91074   \n",
       "4   diesel       skoda   nein  2016-03-31         0       60437   \n",
       "\n",
       "             LastSeen  \n",
       "0 2016-04-07 03:16:57  \n",
       "1 2016-04-07 01:46:50  \n",
       "2 2016-04-05 12:47:46  \n",
       "3 2016-03-17 17:40:17  \n",
       "4 2016-04-06 10:17:21  "
      ]
     },
     "execution_count": 4,
     "metadata": {},
     "output_type": "execute_result"
    }
   ],
   "source": [
    "df.columns\n",
    "\n",
    "new_columns = ['DateCrawled', 'Name', 'Seller', 'OfferType', 'Price', 'ABTest',\n",
    "              'VehicleType', 'Year', 'Gearbox', 'PowerPS',\n",
    "              'Model', 'KM', 'Month', 'FuelType', 'Brand',\n",
    "              'Damage', 'DateCreated', 'Pictures', 'PostalCode',\n",
    "              'LastSeen']\n",
    "df.columns = new_columns\n",
    "df.head()"
   ]
  },
  {
   "cell_type": "code",
   "execution_count": 5,
   "metadata": {
    "ExecuteTime": {
     "end_time": "2017-12-04T23:37:19.825695Z",
     "start_time": "2017-12-04T23:37:19.530243Z"
    }
   },
   "outputs": [
    {
     "name": "stdout",
     "output_type": "stream",
     "text": [
      "<class 'pandas.core.frame.DataFrame'>\n",
      "RangeIndex: 371528 entries, 0 to 371527\n",
      "Data columns (total 20 columns):\n",
      "DateCrawled    371528 non-null datetime64[ns]\n",
      "Name           371528 non-null object\n",
      "Seller         371528 non-null object\n",
      "OfferType      371528 non-null object\n",
      "Price          371528 non-null int64\n",
      "ABTest         371528 non-null object\n",
      "VehicleType    333659 non-null object\n",
      "Year           371528 non-null int64\n",
      "Gearbox        351319 non-null object\n",
      "PowerPS        371528 non-null int64\n",
      "Model          351044 non-null object\n",
      "KM             371528 non-null int64\n",
      "Month          371528 non-null int64\n",
      "FuelType       338142 non-null object\n",
      "Brand          371528 non-null object\n",
      "Damage         299468 non-null object\n",
      "DateCreated    371528 non-null datetime64[ns]\n",
      "Pictures       371528 non-null int64\n",
      "PostalCode     371528 non-null int64\n",
      "LastSeen       371528 non-null datetime64[ns]\n",
      "dtypes: datetime64[ns](3), int64(7), object(10)\n",
      "memory usage: 56.7+ MB\n"
     ]
    }
   ],
   "source": [
    "df.info()"
   ]
  },
  {
   "cell_type": "code",
   "execution_count": 6,
   "metadata": {
    "ExecuteTime": {
     "end_time": "2017-12-04T23:37:20.018818Z",
     "start_time": "2017-12-04T23:37:19.827479Z"
    }
   },
   "outputs": [
    {
     "data": {
      "text/html": [
       "<div>\n",
       "<style scoped>\n",
       "    .dataframe tbody tr th:only-of-type {\n",
       "        vertical-align: middle;\n",
       "    }\n",
       "\n",
       "    .dataframe tbody tr th {\n",
       "        vertical-align: top;\n",
       "    }\n",
       "\n",
       "    .dataframe thead th {\n",
       "        text-align: right;\n",
       "    }\n",
       "</style>\n",
       "<table border=\"1\" class=\"dataframe\">\n",
       "  <thead>\n",
       "    <tr style=\"text-align: right;\">\n",
       "      <th></th>\n",
       "      <th>Price</th>\n",
       "      <th>Year</th>\n",
       "      <th>PowerPS</th>\n",
       "      <th>KM</th>\n",
       "      <th>Month</th>\n",
       "      <th>Pictures</th>\n",
       "      <th>PostalCode</th>\n",
       "    </tr>\n",
       "  </thead>\n",
       "  <tbody>\n",
       "    <tr>\n",
       "      <th>count</th>\n",
       "      <td>371,528.00</td>\n",
       "      <td>371,528.00</td>\n",
       "      <td>371,528.00</td>\n",
       "      <td>371,528.00</td>\n",
       "      <td>371,528.00</td>\n",
       "      <td>371,528.00</td>\n",
       "      <td>371,528.00</td>\n",
       "    </tr>\n",
       "    <tr>\n",
       "      <th>mean</th>\n",
       "      <td>17,295.14</td>\n",
       "      <td>2,004.58</td>\n",
       "      <td>115.55</td>\n",
       "      <td>125,618.69</td>\n",
       "      <td>5.73</td>\n",
       "      <td>0.00</td>\n",
       "      <td>50,820.67</td>\n",
       "    </tr>\n",
       "    <tr>\n",
       "      <th>std</th>\n",
       "      <td>3,587,953.74</td>\n",
       "      <td>92.87</td>\n",
       "      <td>192.14</td>\n",
       "      <td>40,112.34</td>\n",
       "      <td>3.71</td>\n",
       "      <td>0.00</td>\n",
       "      <td>25,799.08</td>\n",
       "    </tr>\n",
       "    <tr>\n",
       "      <th>min</th>\n",
       "      <td>0.00</td>\n",
       "      <td>1,000.00</td>\n",
       "      <td>0.00</td>\n",
       "      <td>5,000.00</td>\n",
       "      <td>0.00</td>\n",
       "      <td>0.00</td>\n",
       "      <td>1,067.00</td>\n",
       "    </tr>\n",
       "    <tr>\n",
       "      <th>25%</th>\n",
       "      <td>1,150.00</td>\n",
       "      <td>1,999.00</td>\n",
       "      <td>70.00</td>\n",
       "      <td>125,000.00</td>\n",
       "      <td>3.00</td>\n",
       "      <td>0.00</td>\n",
       "      <td>30,459.00</td>\n",
       "    </tr>\n",
       "    <tr>\n",
       "      <th>50%</th>\n",
       "      <td>2,950.00</td>\n",
       "      <td>2,003.00</td>\n",
       "      <td>105.00</td>\n",
       "      <td>150,000.00</td>\n",
       "      <td>6.00</td>\n",
       "      <td>0.00</td>\n",
       "      <td>49,610.00</td>\n",
       "    </tr>\n",
       "    <tr>\n",
       "      <th>75%</th>\n",
       "      <td>7,200.00</td>\n",
       "      <td>2,008.00</td>\n",
       "      <td>150.00</td>\n",
       "      <td>150,000.00</td>\n",
       "      <td>9.00</td>\n",
       "      <td>0.00</td>\n",
       "      <td>71,546.00</td>\n",
       "    </tr>\n",
       "    <tr>\n",
       "      <th>max</th>\n",
       "      <td>2,147,483,647.00</td>\n",
       "      <td>9,999.00</td>\n",
       "      <td>20,000.00</td>\n",
       "      <td>150,000.00</td>\n",
       "      <td>12.00</td>\n",
       "      <td>0.00</td>\n",
       "      <td>99,998.00</td>\n",
       "    </tr>\n",
       "  </tbody>\n",
       "</table>\n",
       "</div>"
      ],
      "text/plain": [
       "                 Price       Year    PowerPS         KM      Month   Pictures  \\\n",
       "count       371,528.00 371,528.00 371,528.00 371,528.00 371,528.00 371,528.00   \n",
       "mean         17,295.14   2,004.58     115.55 125,618.69       5.73       0.00   \n",
       "std       3,587,953.74      92.87     192.14  40,112.34       3.71       0.00   \n",
       "min               0.00   1,000.00       0.00   5,000.00       0.00       0.00   \n",
       "25%           1,150.00   1,999.00      70.00 125,000.00       3.00       0.00   \n",
       "50%           2,950.00   2,003.00     105.00 150,000.00       6.00       0.00   \n",
       "75%           7,200.00   2,008.00     150.00 150,000.00       9.00       0.00   \n",
       "max   2,147,483,647.00   9,999.00  20,000.00 150,000.00      12.00       0.00   \n",
       "\n",
       "       PostalCode  \n",
       "count  371,528.00  \n",
       "mean    50,820.67  \n",
       "std     25,799.08  \n",
       "min      1,067.00  \n",
       "25%     30,459.00  \n",
       "50%     49,610.00  \n",
       "75%     71,546.00  \n",
       "max     99,998.00  "
      ]
     },
     "execution_count": 6,
     "metadata": {},
     "output_type": "execute_result"
    }
   ],
   "source": [
    "df.describe()"
   ]
  },
  {
   "cell_type": "code",
   "execution_count": 7,
   "metadata": {
    "ExecuteTime": {
     "end_time": "2017-12-04T23:37:21.066791Z",
     "start_time": "2017-12-04T23:37:20.020242Z"
    }
   },
   "outputs": [
    {
     "data": {
      "text/html": [
       "<div>\n",
       "<style scoped>\n",
       "    .dataframe tbody tr th:only-of-type {\n",
       "        vertical-align: middle;\n",
       "    }\n",
       "\n",
       "    .dataframe tbody tr th {\n",
       "        vertical-align: top;\n",
       "    }\n",
       "\n",
       "    .dataframe thead th {\n",
       "        text-align: right;\n",
       "    }\n",
       "</style>\n",
       "<table border=\"1\" class=\"dataframe\">\n",
       "  <thead>\n",
       "    <tr style=\"text-align: right;\">\n",
       "      <th></th>\n",
       "      <th>count</th>\n",
       "      <th>unique</th>\n",
       "      <th>top</th>\n",
       "      <th>freq</th>\n",
       "    </tr>\n",
       "  </thead>\n",
       "  <tbody>\n",
       "    <tr>\n",
       "      <th>Name</th>\n",
       "      <td>371528</td>\n",
       "      <td>233531</td>\n",
       "      <td>Ford_Fiesta</td>\n",
       "      <td>657</td>\n",
       "    </tr>\n",
       "    <tr>\n",
       "      <th>Seller</th>\n",
       "      <td>371528</td>\n",
       "      <td>2</td>\n",
       "      <td>privat</td>\n",
       "      <td>371525</td>\n",
       "    </tr>\n",
       "    <tr>\n",
       "      <th>OfferType</th>\n",
       "      <td>371528</td>\n",
       "      <td>2</td>\n",
       "      <td>Angebot</td>\n",
       "      <td>371516</td>\n",
       "    </tr>\n",
       "    <tr>\n",
       "      <th>ABTest</th>\n",
       "      <td>371528</td>\n",
       "      <td>2</td>\n",
       "      <td>test</td>\n",
       "      <td>192585</td>\n",
       "    </tr>\n",
       "    <tr>\n",
       "      <th>VehicleType</th>\n",
       "      <td>333659</td>\n",
       "      <td>8</td>\n",
       "      <td>limousine</td>\n",
       "      <td>95894</td>\n",
       "    </tr>\n",
       "    <tr>\n",
       "      <th>Gearbox</th>\n",
       "      <td>351319</td>\n",
       "      <td>2</td>\n",
       "      <td>manuell</td>\n",
       "      <td>274214</td>\n",
       "    </tr>\n",
       "    <tr>\n",
       "      <th>Model</th>\n",
       "      <td>351044</td>\n",
       "      <td>251</td>\n",
       "      <td>golf</td>\n",
       "      <td>30070</td>\n",
       "    </tr>\n",
       "    <tr>\n",
       "      <th>FuelType</th>\n",
       "      <td>338142</td>\n",
       "      <td>7</td>\n",
       "      <td>benzin</td>\n",
       "      <td>223857</td>\n",
       "    </tr>\n",
       "    <tr>\n",
       "      <th>Brand</th>\n",
       "      <td>371528</td>\n",
       "      <td>40</td>\n",
       "      <td>volkswagen</td>\n",
       "      <td>79640</td>\n",
       "    </tr>\n",
       "    <tr>\n",
       "      <th>Damage</th>\n",
       "      <td>299468</td>\n",
       "      <td>2</td>\n",
       "      <td>nein</td>\n",
       "      <td>263182</td>\n",
       "    </tr>\n",
       "  </tbody>\n",
       "</table>\n",
       "</div>"
      ],
      "text/plain": [
       "              count  unique          top    freq\n",
       "Name         371528  233531  Ford_Fiesta     657\n",
       "Seller       371528       2       privat  371525\n",
       "OfferType    371528       2      Angebot  371516\n",
       "ABTest       371528       2         test  192585\n",
       "VehicleType  333659       8    limousine   95894\n",
       "Gearbox      351319       2      manuell  274214\n",
       "Model        351044     251         golf   30070\n",
       "FuelType     338142       7       benzin  223857\n",
       "Brand        371528      40   volkswagen   79640\n",
       "Damage       299468       2         nein  263182"
      ]
     },
     "execution_count": 7,
     "metadata": {},
     "output_type": "execute_result"
    }
   ],
   "source": [
    "df.describe(include=['object']).T"
   ]
  },
  {
   "cell_type": "code",
   "execution_count": 8,
   "metadata": {
    "ExecuteTime": {
     "end_time": "2017-12-04T23:37:21.310756Z",
     "start_time": "2017-12-04T23:37:21.068075Z"
    }
   },
   "outputs": [
    {
     "data": {
      "text/plain": [
       "DateCrawled        0\n",
       "Name               0\n",
       "Seller             0\n",
       "OfferType          0\n",
       "Price              0\n",
       "ABTest             0\n",
       "VehicleType    37869\n",
       "Year               0\n",
       "Gearbox        20209\n",
       "PowerPS            0\n",
       "Model          20484\n",
       "KM                 0\n",
       "Month              0\n",
       "FuelType       33386\n",
       "Brand              0\n",
       "Damage         72060\n",
       "DateCreated        0\n",
       "Pictures           0\n",
       "PostalCode         0\n",
       "LastSeen           0\n",
       "dtype: int64"
      ]
     },
     "execution_count": 8,
     "metadata": {},
     "output_type": "execute_result"
    }
   ],
   "source": [
    "df.isnull().sum()"
   ]
  },
  {
   "cell_type": "markdown",
   "metadata": {},
   "source": [
    "We are deleting useless features"
   ]
  },
  {
   "cell_type": "code",
   "execution_count": 9,
   "metadata": {
    "ExecuteTime": {
     "end_time": "2017-12-04T23:37:21.340638Z",
     "start_time": "2017-12-04T23:37:21.312279Z"
    }
   },
   "outputs": [],
   "source": [
    "df.drop(['Name', 'ABTest', 'Pictures', 'Seller', 'OfferType', 'PostalCode'], axis=1, inplace=True)"
   ]
  },
  {
   "cell_type": "markdown",
   "metadata": {},
   "source": [
    "'Andere' means 'other' in german. So it's nan value."
   ]
  },
  {
   "cell_type": "code",
   "execution_count": 10,
   "metadata": {
    "ExecuteTime": {
     "end_time": "2017-12-04T23:37:26.219269Z",
     "start_time": "2017-12-04T23:37:21.342831Z"
    }
   },
   "outputs": [],
   "source": [
    "df.replace('andere', np.nan, inplace=True)"
   ]
  },
  {
   "cell_type": "markdown",
   "metadata": {},
   "source": [
    "### New Features"
   ]
  },
  {
   "cell_type": "markdown",
   "metadata": {},
   "source": [
    "We create 'Age' feature and convert outliers into nan values"
   ]
  },
  {
   "cell_type": "code",
   "execution_count": 11,
   "metadata": {
    "ExecuteTime": {
     "end_time": "2017-12-04T23:37:26.401985Z",
     "start_time": "2017-12-04T23:37:26.221429Z"
    }
   },
   "outputs": [],
   "source": [
    "df['Age'] = df.DateCrawled.dt.year - df.Year\n",
    "df.Age[(df.Age < 1) | (df.Age > 36)] = np.nan"
   ]
  },
  {
   "cell_type": "code",
   "execution_count": 12,
   "metadata": {
    "ExecuteTime": {
     "end_time": "2017-12-04T23:37:26.409548Z",
     "start_time": "2017-12-04T23:37:26.404640Z"
    },
    "scrolled": true
   },
   "outputs": [
    {
     "data": {
      "text/plain": [
       "Index(['DateCrawled', 'Price', 'VehicleType', 'Year', 'Gearbox', 'PowerPS',\n",
       "       'Model', 'KM', 'Month', 'FuelType', 'Brand', 'Damage', 'DateCreated',\n",
       "       'LastSeen', 'Age'],\n",
       "      dtype='object')"
      ]
     },
     "execution_count": 12,
     "metadata": {},
     "output_type": "execute_result"
    }
   ],
   "source": [
    "df.columns"
   ]
  },
  {
   "cell_type": "markdown",
   "metadata": {},
   "source": [
    "# 1. Variable identification\n",
    "Type of Variable:\n",
    "    Predictor Variable: Name, VehicleType, Year, Gearbox, PowerPs, Model, KM, Month, FuelType, Age,\n",
    "                        Brand, NotRepairedDemage\n",
    "                        \n",
    "    Target Variable: Price\n",
    "    \n",
    "Data Type:\n",
    "\n",
    "    Datetype: Year, Month, DateCrawled, DateCreated, LastSeen\n",
    "    String: Name, VehicleType, Gearbox, Model, FuelType, Brand, NotRepairedDemage, PostalCode\n",
    "    Number: Price, PowerPS, KM, Age\n",
    "    \n",
    "Variable Category:\n",
    "\n",
    "    Categorical: Name, VehicleType, Year, Gearbox, Model, FuelType,\n",
    "                        Brand, NotRepairedDemage\n",
    "                        \n",
    "    Continuous: Price, PowerPS, KM, Age"
   ]
  },
  {
   "cell_type": "markdown",
   "metadata": {},
   "source": [
    "# Outliers "
   ]
  },
  {
   "cell_type": "markdown",
   "metadata": {},
   "source": [
    "### Outlier Detection IRQ Rule - Price\n",
    "We are anaysing brands separately."
   ]
  },
  {
   "cell_type": "code",
   "execution_count": 13,
   "metadata": {
    "ExecuteTime": {
     "end_time": "2017-12-04T23:37:26.425532Z",
     "start_time": "2017-12-04T23:37:26.411555Z"
    }
   },
   "outputs": [],
   "source": [
    "df.Price.replace(0, np.nan, inplace=True)"
   ]
  },
  {
   "cell_type": "code",
   "execution_count": 14,
   "metadata": {
    "ExecuteTime": {
     "end_time": "2017-12-04T23:37:31.241533Z",
     "start_time": "2017-12-04T23:37:26.427245Z"
    }
   },
   "outputs": [
    {
     "name": "stderr",
     "output_type": "stream",
     "text": [
      "/Users/kamilwroniewicz/anaconda3/lib/python3.6/site-packages/seaborn/categorical.py:454: FutureWarning: remove_na is deprecated and is a private function. Do not use.\n",
      "  box_data = remove_na(group_data)\n"
     ]
    },
    {
     "data": {
      "text/plain": [
       "(0, 2576980376.4000001)"
      ]
     },
     "execution_count": 14,
     "metadata": {},
     "output_type": "execute_result"
    },
    {
     "data": {
      "image/png": "[encoded data removed]",
      "text/plain": [
       "<matplotlib.figure.Figure at 0x10edeab70>"
      ]
     },
     "metadata": {},
     "output_type": "display_data"
    }
   ],
   "source": [
    "plt.figure(figsize=(12, 12))\n",
    "plt.subplot(211)\n",
    "df.Price.plot(kind='kde')\n",
    "plt.xlim([0, df.Price.max() * 1.2])\n",
    "plt.subplot(212)\n",
    "sns.boxplot(df.Price)\n",
    "plt.xlim([0, df.Price.max() * 1.2])"
   ]
  },
  {
   "cell_type": "code",
   "execution_count": 15,
   "metadata": {
    "ExecuteTime": {
     "end_time": "2017-12-04T23:37:31.250466Z",
     "start_time": "2017-12-04T23:37:31.243271Z"
    }
   },
   "outputs": [
    {
     "data": {
      "text/plain": [
       "10778"
      ]
     },
     "execution_count": 15,
     "metadata": {},
     "output_type": "execute_result"
    }
   ],
   "source": [
    "df.Price.isnull().sum()"
   ]
  },
  {
   "cell_type": "code",
   "execution_count": 16,
   "metadata": {
    "ExecuteTime": {
     "end_time": "2017-12-04T23:37:36.885829Z",
     "start_time": "2017-12-04T23:37:31.252244Z"
    }
   },
   "outputs": [
    {
     "name": "stdout",
     "output_type": "stream",
     "text": [
      "Found 23349 outliers.\n"
     ]
    },
    {
     "data": {
      "image/png": "[encoded data removed]",
      "text/plain": [
       "<matplotlib.figure.Figure at 0x117e4cd68>"
      ]
     },
     "metadata": {},
     "output_type": "display_data"
    }
   ],
   "source": [
    "outliers_all_idx = []\n",
    "brands = df.Brand.unique()\n",
    "kw = dict(marker='o', linestyle='none', color='r', alpha=0.3)\n",
    "for brand in brands:\n",
    "    q75 = df.Price[df.Brand == brand].quantile(.75)\n",
    "    q25 = df.Price[df.Brand == brand].quantile(.25)\n",
    "    iqr = q75 - q25\n",
    "    price_min = q25 - (iqr * 1.5)\n",
    "    price_max = q75 + (iqr * 1.5)\n",
    "    brand_df = df[df.Brand == brand]\n",
    "    mask = (brand_df.Price < price_min) | (brand_df.Price > price_max)\n",
    "    outliers_idx = brand_df[mask].index\n",
    "    outliers_all_idx.extend(outliers_idx)\n",
    "\n",
    "print('Found {} outliers.'.format(len(outliers_all_idx)))\n",
    "\n",
    "df.Price.plot(color=MC)\n",
    "df.Price[outliers_all_idx].plot(**kw)\n",
    "plt.ylim([0, df.Price.max() * 1.1]);"
   ]
  },
  {
   "cell_type": "code",
   "execution_count": 17,
   "metadata": {
    "ExecuteTime": {
     "end_time": "2017-12-04T23:37:36.898837Z",
     "start_time": "2017-12-04T23:37:36.888659Z"
    }
   },
   "outputs": [],
   "source": [
    "# Filling outliers with nan\n",
    "df.Price[outliers_all_idx] = np.nan"
   ]
  },
  {
   "cell_type": "code",
   "execution_count": 18,
   "metadata": {
    "ExecuteTime": {
     "end_time": "2017-12-04T23:37:36.911667Z",
     "start_time": "2017-12-04T23:37:36.900525Z"
    }
   },
   "outputs": [
    {
     "data": {
      "text/plain": [
       "34127"
      ]
     },
     "execution_count": 18,
     "metadata": {},
     "output_type": "execute_result"
    }
   ],
   "source": [
    "df.Price.isnull().sum()"
   ]
  },
  {
   "cell_type": "code",
   "execution_count": 19,
   "metadata": {
    "ExecuteTime": {
     "end_time": "2017-12-04T23:37:41.899538Z",
     "start_time": "2017-12-04T23:37:36.913523Z"
    }
   },
   "outputs": [
    {
     "name": "stderr",
     "output_type": "stream",
     "text": [
      "/Users/kamilwroniewicz/anaconda3/lib/python3.6/site-packages/seaborn/categorical.py:454: FutureWarning: remove_na is deprecated and is a private function. Do not use.\n",
      "  box_data = remove_na(group_data)\n"
     ]
    },
    {
     "data": {
      "image/png": "[encoded data removed]",
      "text/plain": [
       "<matplotlib.figure.Figure at 0x117e53c18>"
      ]
     },
     "metadata": {},
     "output_type": "display_data"
    }
   ],
   "source": [
    "plt.figure(figsize=(12, 12))\n",
    "plt.subplot(211)\n",
    "df.Price.plot(kind='kde', color=MC)\n",
    "plt.xlim([0, df.Price.max() * 1.1])\n",
    "plt.subplot(212)\n",
    "sns.boxplot(df.Price, color=MC)\n",
    "plt.xlim([0, df.Price.max() * 1.1]);"
   ]
  },
  {
   "cell_type": "markdown",
   "metadata": {},
   "source": [
    "### Outlier Detection IRQ Rule - KM"
   ]
  },
  {
   "cell_type": "code",
   "execution_count": 20,
   "metadata": {
    "ExecuteTime": {
     "end_time": "2017-12-04T23:37:48.692554Z",
     "start_time": "2017-12-04T23:37:41.901054Z"
    },
    "scrolled": false
   },
   "outputs": [
    {
     "name": "stderr",
     "output_type": "stream",
     "text": [
      "/Users/kamilwroniewicz/anaconda3/lib/python3.6/site-packages/seaborn/categorical.py:454: FutureWarning: remove_na is deprecated and is a private function. Do not use.\n",
      "  box_data = remove_na(group_data)\n"
     ]
    },
    {
     "data": {
      "image/png": "[encoded data removed]",
      "text/plain": [
       "<matplotlib.figure.Figure at 0x10f160ac8>"
      ]
     },
     "metadata": {},
     "output_type": "display_data"
    }
   ],
   "source": [
    "plt.figure(figsize=(12, 12))\n",
    "plt.subplot(211)\n",
    "df.KM.plot(kind='kde', color=MC, linewidth=2)\n",
    "plt.xlim([df.KM.min(), df.KM.max() * 1.1])\n",
    "plt.subplot(212)\n",
    "sns.boxplot(df.KM, color=MC)\n",
    "plt.xlim([df.KM.min(), df.KM.max() * 1.1]);"
   ]
  },
  {
   "cell_type": "code",
   "execution_count": 21,
   "metadata": {
    "ExecuteTime": {
     "end_time": "2017-12-04T23:37:48.724877Z",
     "start_time": "2017-12-04T23:37:48.694232Z"
    }
   },
   "outputs": [],
   "source": [
    "q75 = df.KM.quantile(.75)\n",
    "q25 = df.KM.quantile(.25)\n",
    "iqr = q75 - q25\n",
    "km_min = q25 - (iqr * 1.5)\n",
    "km_max = q75 + (iqr * 1.5)\n",
    "mask = (df.KM < km_min) | (df.KM > km_max)\n",
    "df.KM[mask] = np.nan"
   ]
  },
  {
   "cell_type": "code",
   "execution_count": 22,
   "metadata": {
    "ExecuteTime": {
     "end_time": "2017-12-04T23:37:54.312635Z",
     "start_time": "2017-12-04T23:37:48.726593Z"
    },
    "scrolled": false
   },
   "outputs": [
    {
     "name": "stderr",
     "output_type": "stream",
     "text": [
      "/Users/kamilwroniewicz/anaconda3/lib/python3.6/site-packages/seaborn/categorical.py:454: FutureWarning: remove_na is deprecated and is a private function. Do not use.\n",
      "  box_data = remove_na(group_data)\n"
     ]
    },
    {
     "data": {
      "image/png": "[encoded data removed]",
      "text/plain": [
       "<matplotlib.figure.Figure at 0x1136f4390>"
      ]
     },
     "metadata": {},
     "output_type": "display_data"
    }
   ],
   "source": [
    "plt.figure(figsize=(12, 12))\n",
    "plt.subplot(211)\n",
    "df.KM.plot(kind='kde', color=MC)\n",
    "plt.xlim([df.KM.min(), df.KM.max() * 1.1])\n",
    "plt.subplot(212)\n",
    "sns.boxplot(df.KM, color=MC)\n",
    "plt.xlim([df.KM.min(), df.KM.max() * 1.1]);"
   ]
  },
  {
   "cell_type": "markdown",
   "metadata": {},
   "source": [
    "# 4. Missing Value Treatment"
   ]
  },
  {
   "cell_type": "markdown",
   "metadata": {},
   "source": [
    "### How many missing values?"
   ]
  },
  {
   "cell_type": "code",
   "execution_count": 23,
   "metadata": {
    "ExecuteTime": {
     "end_time": "2017-12-04T23:37:54.554810Z",
     "start_time": "2017-12-04T23:37:54.317790Z"
    }
   },
   "outputs": [
    {
     "data": {
      "text/plain": [
       "DateCrawled        0\n",
       "Price          34127\n",
       "VehicleType    41226\n",
       "Year               0\n",
       "Gearbox        20209\n",
       "PowerPS            0\n",
       "Model          46884\n",
       "KM             64221\n",
       "Month              0\n",
       "FuelType       33594\n",
       "Brand              0\n",
       "Damage         72060\n",
       "DateCreated        0\n",
       "LastSeen           0\n",
       "Age            28658\n",
       "dtype: int64"
      ]
     },
     "execution_count": 23,
     "metadata": {},
     "output_type": "execute_result"
    }
   ],
   "source": [
    "df.isnull().sum()"
   ]
  },
  {
   "cell_type": "markdown",
   "metadata": {},
   "source": [
    "#### Missing values as a percentage"
   ]
  },
  {
   "cell_type": "code",
   "execution_count": 24,
   "metadata": {
    "ExecuteTime": {
     "end_time": "2017-12-04T23:37:54.699435Z",
     "start_time": "2017-12-04T23:37:54.556340Z"
    }
   },
   "outputs": [
    {
     "data": {
      "text/plain": [
       "DateCrawled    0.00\n",
       "Price          9.19\n",
       "VehicleType   11.10\n",
       "Year           0.00\n",
       "Gearbox        5.44\n",
       "PowerPS        0.00\n",
       "Model         12.62\n",
       "KM            17.29\n",
       "Month          0.00\n",
       "FuelType       9.04\n",
       "Brand          0.00\n",
       "Damage        19.40\n",
       "DateCreated    0.00\n",
       "LastSeen       0.00\n",
       "Age            7.71\n",
       "dtype: float64"
      ]
     },
     "execution_count": 24,
     "metadata": {},
     "output_type": "execute_result"
    }
   ],
   "source": [
    "df.isnull().sum() / df.shape[0] * 100"
   ]
  },
  {
   "cell_type": "code",
   "execution_count": 25,
   "metadata": {
    "ExecuteTime": {
     "end_time": "2017-12-04T23:37:54.866193Z",
     "start_time": "2017-12-04T23:37:54.703333Z"
    },
    "scrolled": false
   },
   "outputs": [
    {
     "data": {
      "text/html": [
       "<div>\n",
       "<style scoped>\n",
       "    .dataframe tbody tr th:only-of-type {\n",
       "        vertical-align: middle;\n",
       "    }\n",
       "\n",
       "    .dataframe tbody tr th {\n",
       "        vertical-align: top;\n",
       "    }\n",
       "\n",
       "    .dataframe thead th {\n",
       "        text-align: right;\n",
       "    }\n",
       "</style>\n",
       "<table border=\"1\" class=\"dataframe\">\n",
       "  <thead>\n",
       "    <tr style=\"text-align: right;\">\n",
       "      <th></th>\n",
       "      <th>DateCrawled</th>\n",
       "      <th>Price</th>\n",
       "      <th>VehicleType</th>\n",
       "      <th>Year</th>\n",
       "      <th>Gearbox</th>\n",
       "      <th>PowerPS</th>\n",
       "      <th>Model</th>\n",
       "      <th>KM</th>\n",
       "      <th>Month</th>\n",
       "      <th>FuelType</th>\n",
       "      <th>Brand</th>\n",
       "      <th>Damage</th>\n",
       "      <th>DateCreated</th>\n",
       "      <th>LastSeen</th>\n",
       "      <th>Age</th>\n",
       "    </tr>\n",
       "  </thead>\n",
       "  <tbody>\n",
       "    <tr>\n",
       "      <th>0</th>\n",
       "      <td>2016-03-24 11:52:17</td>\n",
       "      <td>480.00</td>\n",
       "      <td>NaN</td>\n",
       "      <td>1993</td>\n",
       "      <td>manuell</td>\n",
       "      <td>0</td>\n",
       "      <td>golf</td>\n",
       "      <td>150,000.00</td>\n",
       "      <td>0</td>\n",
       "      <td>benzin</td>\n",
       "      <td>volkswagen</td>\n",
       "      <td>NaN</td>\n",
       "      <td>2016-03-24</td>\n",
       "      <td>2016-04-07 03:16:57</td>\n",
       "      <td>23.00</td>\n",
       "    </tr>\n",
       "    <tr>\n",
       "      <th>1</th>\n",
       "      <td>2016-03-24 10:58:45</td>\n",
       "      <td>18,300.00</td>\n",
       "      <td>coupe</td>\n",
       "      <td>2011</td>\n",
       "      <td>manuell</td>\n",
       "      <td>190</td>\n",
       "      <td>NaN</td>\n",
       "      <td>125,000.00</td>\n",
       "      <td>5</td>\n",
       "      <td>diesel</td>\n",
       "      <td>audi</td>\n",
       "      <td>ja</td>\n",
       "      <td>2016-03-24</td>\n",
       "      <td>2016-04-07 01:46:50</td>\n",
       "      <td>5.00</td>\n",
       "    </tr>\n",
       "    <tr>\n",
       "      <th>2</th>\n",
       "      <td>2016-03-14 12:52:21</td>\n",
       "      <td>9,800.00</td>\n",
       "      <td>suv</td>\n",
       "      <td>2004</td>\n",
       "      <td>automatik</td>\n",
       "      <td>163</td>\n",
       "      <td>grand</td>\n",
       "      <td>125,000.00</td>\n",
       "      <td>8</td>\n",
       "      <td>diesel</td>\n",
       "      <td>jeep</td>\n",
       "      <td>NaN</td>\n",
       "      <td>2016-03-14</td>\n",
       "      <td>2016-04-05 12:47:46</td>\n",
       "      <td>12.00</td>\n",
       "    </tr>\n",
       "    <tr>\n",
       "      <th>7</th>\n",
       "      <td>2016-03-21 18:54:38</td>\n",
       "      <td>nan</td>\n",
       "      <td>limousine</td>\n",
       "      <td>1980</td>\n",
       "      <td>manuell</td>\n",
       "      <td>50</td>\n",
       "      <td>NaN</td>\n",
       "      <td>nan</td>\n",
       "      <td>7</td>\n",
       "      <td>benzin</td>\n",
       "      <td>volkswagen</td>\n",
       "      <td>nein</td>\n",
       "      <td>2016-03-21</td>\n",
       "      <td>2016-03-25 16:47:58</td>\n",
       "      <td>36.00</td>\n",
       "    </tr>\n",
       "    <tr>\n",
       "      <th>8</th>\n",
       "      <td>2016-04-04 23:42:13</td>\n",
       "      <td>nan</td>\n",
       "      <td>bus</td>\n",
       "      <td>2014</td>\n",
       "      <td>manuell</td>\n",
       "      <td>125</td>\n",
       "      <td>c_max</td>\n",
       "      <td>nan</td>\n",
       "      <td>8</td>\n",
       "      <td>benzin</td>\n",
       "      <td>ford</td>\n",
       "      <td>NaN</td>\n",
       "      <td>2016-04-04</td>\n",
       "      <td>2016-04-04 23:42:13</td>\n",
       "      <td>2.00</td>\n",
       "    </tr>\n",
       "    <tr>\n",
       "      <th>9</th>\n",
       "      <td>2016-03-17 10:53:50</td>\n",
       "      <td>999.00</td>\n",
       "      <td>kleinwagen</td>\n",
       "      <td>1998</td>\n",
       "      <td>manuell</td>\n",
       "      <td>101</td>\n",
       "      <td>golf</td>\n",
       "      <td>150,000.00</td>\n",
       "      <td>0</td>\n",
       "      <td>NaN</td>\n",
       "      <td>volkswagen</td>\n",
       "      <td>NaN</td>\n",
       "      <td>2016-03-17</td>\n",
       "      <td>2016-03-31 17:17:06</td>\n",
       "      <td>18.00</td>\n",
       "    </tr>\n",
       "    <tr>\n",
       "      <th>12</th>\n",
       "      <td>2016-03-15 22:49:09</td>\n",
       "      <td>999.00</td>\n",
       "      <td>kombi</td>\n",
       "      <td>1995</td>\n",
       "      <td>manuell</td>\n",
       "      <td>115</td>\n",
       "      <td>passat</td>\n",
       "      <td>150,000.00</td>\n",
       "      <td>11</td>\n",
       "      <td>benzin</td>\n",
       "      <td>volkswagen</td>\n",
       "      <td>NaN</td>\n",
       "      <td>2016-03-15</td>\n",
       "      <td>2016-04-01 13:16:16</td>\n",
       "      <td>21.00</td>\n",
       "    </tr>\n",
       "    <tr>\n",
       "      <th>13</th>\n",
       "      <td>2016-03-21 21:37:40</td>\n",
       "      <td>2,500.00</td>\n",
       "      <td>kombi</td>\n",
       "      <td>2004</td>\n",
       "      <td>manuell</td>\n",
       "      <td>131</td>\n",
       "      <td>passat</td>\n",
       "      <td>150,000.00</td>\n",
       "      <td>2</td>\n",
       "      <td>NaN</td>\n",
       "      <td>volkswagen</td>\n",
       "      <td>nein</td>\n",
       "      <td>2016-03-21</td>\n",
       "      <td>2016-03-23 02:50:54</td>\n",
       "      <td>12.00</td>\n",
       "    </tr>\n",
       "    <tr>\n",
       "      <th>14</th>\n",
       "      <td>2016-03-21 12:57:01</td>\n",
       "      <td>nan</td>\n",
       "      <td>suv</td>\n",
       "      <td>2011</td>\n",
       "      <td>manuell</td>\n",
       "      <td>190</td>\n",
       "      <td>navara</td>\n",
       "      <td>nan</td>\n",
       "      <td>3</td>\n",
       "      <td>diesel</td>\n",
       "      <td>nissan</td>\n",
       "      <td>nein</td>\n",
       "      <td>2016-03-21</td>\n",
       "      <td>2016-04-06 07:45:42</td>\n",
       "      <td>5.00</td>\n",
       "    </tr>\n",
       "    <tr>\n",
       "      <th>15</th>\n",
       "      <td>2016-03-11 21:39:15</td>\n",
       "      <td>450.00</td>\n",
       "      <td>kleinwagen</td>\n",
       "      <td>1910</td>\n",
       "      <td>NaN</td>\n",
       "      <td>0</td>\n",
       "      <td>ka</td>\n",
       "      <td>nan</td>\n",
       "      <td>0</td>\n",
       "      <td>benzin</td>\n",
       "      <td>ford</td>\n",
       "      <td>NaN</td>\n",
       "      <td>2016-03-11</td>\n",
       "      <td>2016-03-19 08:46:47</td>\n",
       "      <td>nan</td>\n",
       "    </tr>\n",
       "  </tbody>\n",
       "</table>\n",
       "</div>"
      ],
      "text/plain": [
       "           DateCrawled     Price VehicleType  Year    Gearbox  PowerPS  \\\n",
       "0  2016-03-24 11:52:17    480.00         NaN  1993    manuell        0   \n",
       "1  2016-03-24 10:58:45 18,300.00       coupe  2011    manuell      190   \n",
       "2  2016-03-14 12:52:21  9,800.00         suv  2004  automatik      163   \n",
       "7  2016-03-21 18:54:38       nan   limousine  1980    manuell       50   \n",
       "8  2016-04-04 23:42:13       nan         bus  2014    manuell      125   \n",
       "9  2016-03-17 10:53:50    999.00  kleinwagen  1998    manuell      101   \n",
       "12 2016-03-15 22:49:09    999.00       kombi  1995    manuell      115   \n",
       "13 2016-03-21 21:37:40  2,500.00       kombi  2004    manuell      131   \n",
       "14 2016-03-21 12:57:01       nan         suv  2011    manuell      190   \n",
       "15 2016-03-11 21:39:15    450.00  kleinwagen  1910        NaN        0   \n",
       "\n",
       "     Model         KM  Month FuelType       Brand Damage DateCreated  \\\n",
       "0     golf 150,000.00      0   benzin  volkswagen    NaN  2016-03-24   \n",
       "1      NaN 125,000.00      5   diesel        audi     ja  2016-03-24   \n",
       "2    grand 125,000.00      8   diesel        jeep    NaN  2016-03-14   \n",
       "7      NaN        nan      7   benzin  volkswagen   nein  2016-03-21   \n",
       "8    c_max        nan      8   benzin        ford    NaN  2016-04-04   \n",
       "9     golf 150,000.00      0      NaN  volkswagen    NaN  2016-03-17   \n",
       "12  passat 150,000.00     11   benzin  volkswagen    NaN  2016-03-15   \n",
       "13  passat 150,000.00      2      NaN  volkswagen   nein  2016-03-21   \n",
       "14  navara        nan      3   diesel      nissan   nein  2016-03-21   \n",
       "15      ka        nan      0   benzin        ford    NaN  2016-03-11   \n",
       "\n",
       "              LastSeen   Age  \n",
       "0  2016-04-07 03:16:57 23.00  \n",
       "1  2016-04-07 01:46:50  5.00  \n",
       "2  2016-04-05 12:47:46 12.00  \n",
       "7  2016-03-25 16:47:58 36.00  \n",
       "8  2016-04-04 23:42:13  2.00  \n",
       "9  2016-03-31 17:17:06 18.00  \n",
       "12 2016-04-01 13:16:16 21.00  \n",
       "13 2016-03-23 02:50:54 12.00  \n",
       "14 2016-04-06 07:45:42  5.00  \n",
       "15 2016-03-19 08:46:47   nan  "
      ]
     },
     "execution_count": 25,
     "metadata": {},
     "output_type": "execute_result"
    }
   ],
   "source": [
    "# Shows rows that include missing values.\n",
    "df[df.isnull().T.any().T][:10]"
   ]
  },
  {
   "cell_type": "code",
   "execution_count": 26,
   "metadata": {
    "ExecuteTime": {
     "end_time": "2017-12-04T23:37:55.027551Z",
     "start_time": "2017-12-04T23:37:54.867967Z"
    }
   },
   "outputs": [
    {
     "data": {
      "text/plain": [
       "DateCrawled        0\n",
       "Price          34127\n",
       "VehicleType    41226\n",
       "Year               0\n",
       "Gearbox        20209\n",
       "PowerPS            0\n",
       "Model          46884\n",
       "KM             64221\n",
       "Month              0\n",
       "FuelType       33594\n",
       "Brand              0\n",
       "Damage         72060\n",
       "DateCreated        0\n",
       "LastSeen           0\n",
       "Age            28658\n",
       "dtype: int64"
      ]
     },
     "execution_count": 26,
     "metadata": {},
     "output_type": "execute_result"
    }
   ],
   "source": [
    "df.isnull().sum()"
   ]
  },
  {
   "cell_type": "code",
   "execution_count": 27,
   "metadata": {
    "ExecuteTime": {
     "end_time": "2017-12-04T23:38:27.011577Z",
     "start_time": "2017-12-04T23:37:55.029226Z"
    }
   },
   "outputs": [],
   "source": [
    "model_power_dict = dict(df.groupby('Model')['PowerPS'].mean())\n",
    "\n",
    "def clean_power(row):\n",
    "    if pd.isnull(row.PowerPS):\n",
    "        try:\n",
    "            return model_power_dict[row.Model]\n",
    "        except:\n",
    "            return np.nan\n",
    "    else:\n",
    "        return row.PowerPS\n",
    "               \n",
    "df.PowerPS = df.apply(clean_power, axis=1)"
   ]
  },
  {
   "cell_type": "code",
   "execution_count": 28,
   "metadata": {
    "ExecuteTime": {
     "end_time": "2017-12-04T23:38:27.194814Z",
     "start_time": "2017-12-04T23:38:27.013252Z"
    }
   },
   "outputs": [
    {
     "data": {
      "text/plain": [
       "DateCrawled   0.00\n",
       "Price         0.09\n",
       "VehicleType   0.11\n",
       "Year          0.00\n",
       "Gearbox       0.05\n",
       "PowerPS       0.00\n",
       "Model         0.13\n",
       "KM            0.17\n",
       "Month         0.00\n",
       "FuelType      0.09\n",
       "Brand         0.00\n",
       "Damage        0.19\n",
       "DateCreated   0.00\n",
       "LastSeen      0.00\n",
       "Age           0.08\n",
       "dtype: float64"
      ]
     },
     "execution_count": 28,
     "metadata": {},
     "output_type": "execute_result"
    }
   ],
   "source": [
    "df.isnull().sum() / df.shape[0]"
   ]
  },
  {
   "cell_type": "code",
   "execution_count": 29,
   "metadata": {
    "ExecuteTime": {
     "end_time": "2017-12-04T23:38:34.123058Z",
     "start_time": "2017-12-04T23:38:27.196578Z"
    }
   },
   "outputs": [],
   "source": [
    "# builds dict of model types\n",
    "model_type_dict = {}\n",
    "\n",
    "for model in df.Model.unique():\n",
    "    try:\n",
    "        model_type_dict[model] = df[df.Model == model].VehicleType.mode().values[0]\n",
    "    except:\n",
    "        model_type_dict[model] = np.nan"
   ]
  },
  {
   "cell_type": "code",
   "execution_count": 30,
   "metadata": {
    "ExecuteTime": {
     "end_time": "2017-12-04T23:39:06.382903Z",
     "start_time": "2017-12-04T23:38:34.125015Z"
    }
   },
   "outputs": [],
   "source": [
    "def clean_type(row):\n",
    "    if pd.isnull(row.VehicleType):\n",
    "        try:\n",
    "            return model_type_dict[row.Model]\n",
    "        except:\n",
    "            return np.nan\n",
    "    else:\n",
    "        return row.VehicleType\n",
    "               \n",
    "df.VehicleType = df.apply(clean_type, axis=1)"
   ]
  },
  {
   "cell_type": "code",
   "execution_count": 31,
   "metadata": {
    "ExecuteTime": {
     "end_time": "2017-12-04T23:39:06.585454Z",
     "start_time": "2017-12-04T23:39:06.384636Z"
    }
   },
   "outputs": [
    {
     "data": {
      "text/plain": [
       "DateCrawled   0.00\n",
       "Price         0.09\n",
       "VehicleType   0.03\n",
       "Year          0.00\n",
       "Gearbox       0.05\n",
       "PowerPS       0.00\n",
       "Model         0.13\n",
       "KM            0.17\n",
       "Month         0.00\n",
       "FuelType      0.09\n",
       "Brand         0.00\n",
       "Damage        0.19\n",
       "DateCreated   0.00\n",
       "LastSeen      0.00\n",
       "Age           0.08\n",
       "dtype: float64"
      ]
     },
     "execution_count": 31,
     "metadata": {},
     "output_type": "execute_result"
    }
   ],
   "source": [
    "df.isnull().sum() / df.shape[0]"
   ]
  },
  {
   "cell_type": "markdown",
   "metadata": {
    "ExecuteTime": {
     "end_time": "2017-11-28T19:15:28.797741Z",
     "start_time": "2017-11-28T19:15:28.794747Z"
    }
   },
   "source": [
    "# 2. Univariate Analysis"
   ]
  },
  {
   "cell_type": "markdown",
   "metadata": {},
   "source": [
    "### Continuous Variables - Central Tendency\n",
    "Mean, Median, Mode, Min, Max"
   ]
  },
  {
   "cell_type": "code",
   "execution_count": 32,
   "metadata": {
    "ExecuteTime": {
     "end_time": "2017-12-04T23:39:06.765925Z",
     "start_time": "2017-12-04T23:39:06.587228Z"
    }
   },
   "outputs": [
    {
     "data": {
      "text/html": [
       "<div>\n",
       "<style scoped>\n",
       "    .dataframe tbody tr th:only-of-type {\n",
       "        vertical-align: middle;\n",
       "    }\n",
       "\n",
       "    .dataframe tbody tr th {\n",
       "        vertical-align: top;\n",
       "    }\n",
       "\n",
       "    .dataframe thead th {\n",
       "        text-align: right;\n",
       "    }\n",
       "</style>\n",
       "<table border=\"1\" class=\"dataframe\">\n",
       "  <thead>\n",
       "    <tr style=\"text-align: right;\">\n",
       "      <th></th>\n",
       "      <th>count</th>\n",
       "      <th>mean</th>\n",
       "      <th>std</th>\n",
       "      <th>min</th>\n",
       "      <th>25%</th>\n",
       "      <th>50%</th>\n",
       "      <th>75%</th>\n",
       "      <th>max</th>\n",
       "    </tr>\n",
       "  </thead>\n",
       "  <tbody>\n",
       "    <tr>\n",
       "      <th>Price</th>\n",
       "      <td>337,401.00</td>\n",
       "      <td>4,664.55</td>\n",
       "      <td>5,620.97</td>\n",
       "      <td>1.00</td>\n",
       "      <td>1,199.00</td>\n",
       "      <td>2,800.00</td>\n",
       "      <td>6,250.00</td>\n",
       "      <td>113,500.00</td>\n",
       "    </tr>\n",
       "    <tr>\n",
       "      <th>PowerPS</th>\n",
       "      <td>371,528.00</td>\n",
       "      <td>115.55</td>\n",
       "      <td>192.14</td>\n",
       "      <td>0.00</td>\n",
       "      <td>70.00</td>\n",
       "      <td>105.00</td>\n",
       "      <td>150.00</td>\n",
       "      <td>20,000.00</td>\n",
       "    </tr>\n",
       "    <tr>\n",
       "      <th>KM</th>\n",
       "      <td>307,307.00</td>\n",
       "      <td>141,867.89</td>\n",
       "      <td>16,955.98</td>\n",
       "      <td>90,000.00</td>\n",
       "      <td>150,000.00</td>\n",
       "      <td>150,000.00</td>\n",
       "      <td>150,000.00</td>\n",
       "      <td>150,000.00</td>\n",
       "    </tr>\n",
       "    <tr>\n",
       "      <th>Age</th>\n",
       "      <td>342,870.00</td>\n",
       "      <td>13.19</td>\n",
       "      <td>5.95</td>\n",
       "      <td>1.00</td>\n",
       "      <td>9.00</td>\n",
       "      <td>13.00</td>\n",
       "      <td>17.00</td>\n",
       "      <td>36.00</td>\n",
       "    </tr>\n",
       "  </tbody>\n",
       "</table>\n",
       "</div>"
      ],
      "text/plain": [
       "             count       mean       std       min        25%        50%  \\\n",
       "Price   337,401.00   4,664.55  5,620.97      1.00   1,199.00   2,800.00   \n",
       "PowerPS 371,528.00     115.55    192.14      0.00      70.00     105.00   \n",
       "KM      307,307.00 141,867.89 16,955.98 90,000.00 150,000.00 150,000.00   \n",
       "Age     342,870.00      13.19      5.95      1.00       9.00      13.00   \n",
       "\n",
       "               75%        max  \n",
       "Price     6,250.00 113,500.00  \n",
       "PowerPS     150.00  20,000.00  \n",
       "KM      150,000.00 150,000.00  \n",
       "Age          17.00      36.00  "
      ]
     },
     "execution_count": 32,
     "metadata": {},
     "output_type": "execute_result"
    }
   ],
   "source": [
    "df[['Price', 'PowerPS', 'KM', 'Age']].describe().T"
   ]
  },
  {
   "cell_type": "code",
   "execution_count": 33,
   "metadata": {
    "ExecuteTime": {
     "end_time": "2017-12-04T23:39:06.907211Z",
     "start_time": "2017-12-04T23:39:06.769209Z"
    }
   },
   "outputs": [
    {
     "name": "stdout",
     "output_type": "stream",
     "text": [
      "Mode\n",
      "Price: 500.0\n",
      "PowerPS: 0\n",
      "KM: 150000.0\n",
      "Age: 16.0\n"
     ]
    }
   ],
   "source": [
    "print('Mode')\n",
    "for col in ['Price', 'PowerPS', 'KM', 'Age']:\n",
    "    print('{}: {}'.format(col, df[col].mode().values[0]))"
   ]
  },
  {
   "cell_type": "markdown",
   "metadata": {},
   "source": [
    "### Continuous Variables - Boxplots and Histograms"
   ]
  },
  {
   "cell_type": "code",
   "execution_count": 34,
   "metadata": {
    "ExecuteTime": {
     "end_time": "2017-12-04T23:39:11.249249Z",
     "start_time": "2017-12-04T23:39:06.909181Z"
    },
    "scrolled": false
   },
   "outputs": [
    {
     "data": {
      "image/png": "[encoded data removed]",
      "text/plain": [
       "<matplotlib.figure.Figure at 0x1151be208>"
      ]
     },
     "metadata": {},
     "output_type": "display_data"
    }
   ],
   "source": [
    "plt.suptitle('Box Plots of Price, PowerPS and KM', fontsize=16)\n",
    "plt.subplot(1, 3, 1)\n",
    "df.Price.dropna().plot(kind='box');\n",
    "plt.subplot(1, 3, 2)\n",
    "df.PowerPS.dropna().plot(kind='box');\n",
    "plt.subplot(1, 3, 3)\n",
    "df.KM.dropna().plot(kind='box');"
   ]
  },
  {
   "cell_type": "code",
   "execution_count": 35,
   "metadata": {
    "ExecuteTime": {
     "end_time": "2017-12-04T23:39:11.699969Z",
     "start_time": "2017-12-04T23:39:11.250668Z"
    }
   },
   "outputs": [
    {
     "data": {
      "image/png": "[encoded data removed]",
      "text/plain": [
       "<matplotlib.figure.Figure at 0x10f6deac8>"
      ]
     },
     "metadata": {},
     "output_type": "display_data"
    }
   ],
   "source": [
    "plt.hist(df.Price.dropna(), range=[10, 70000], bins=100, color=MC);\n",
    "plt.title('Price - Histogram');\n",
    "plt.xlabel('Price')\n",
    "plt.ylabel('Frequency');"
   ]
  },
  {
   "cell_type": "code",
   "execution_count": 36,
   "metadata": {
    "ExecuteTime": {
     "end_time": "2017-12-04T23:39:11.975576Z",
     "start_time": "2017-12-04T23:39:11.701605Z"
    }
   },
   "outputs": [
    {
     "data": {
      "image/png": "[encoded data removed]",
      "text/plain": [
       "<matplotlib.figure.Figure at 0x1136f22e8>"
      ]
     },
     "metadata": {},
     "output_type": "display_data"
    }
   ],
   "source": [
    "plt.hist(df.PowerPS.dropna(), range=[0,500], bins=50, color=MC);\n",
    "plt.title('PowerPS - Histogram');\n",
    "plt.xlabel('PowerPS')\n",
    "plt.ylabel('Frequency');"
   ]
  },
  {
   "cell_type": "code",
   "execution_count": 39,
   "metadata": {
    "ExecuteTime": {
     "end_time": "2017-12-04T23:39:59.458994Z",
     "start_time": "2017-12-04T23:39:59.160877Z"
    }
   },
   "outputs": [
    {
     "data": {
      "image/png": "[encoded data removed]",
      "text/plain": [
       "<matplotlib.figure.Figure at 0x110920400>"
      ]
     },
     "metadata": {},
     "output_type": "display_data"
    }
   ],
   "source": [
    "plt.hist(df.KM.dropna(), color=MC);\n",
    "plt.title('Kilometers - Histogram');\n",
    "plt.xlabel('Kilometers')\n",
    "plt.ylabel('Frequency');"
   ]
  },
  {
   "cell_type": "code",
   "execution_count": 40,
   "metadata": {
    "ExecuteTime": {
     "end_time": "2017-12-04T23:39:59.718041Z",
     "start_time": "2017-12-04T23:39:59.460556Z"
    }
   },
   "outputs": [
    {
     "data": {
      "image/png": "[encoded data removed]",
      "text/plain": [
       "<matplotlib.figure.Figure at 0x10f71c278>"
      ]
     },
     "metadata": {},
     "output_type": "display_data"
    }
   ],
   "source": [
    "plt.hist(df.Age.dropna(), color=MC, bins=36);\n",
    "plt.title('Age - Histogram');"
   ]
  },
  {
   "cell_type": "code",
   "execution_count": 41,
   "metadata": {
    "ExecuteTime": {
     "end_time": "2017-12-04T23:39:59.923541Z",
     "start_time": "2017-12-04T23:39:59.719570Z"
    }
   },
   "outputs": [
    {
     "data": {
      "image/png": "[encoded data removed]",
      "text/plain": [
       "<matplotlib.figure.Figure at 0x10f734908>"
      ]
     },
     "metadata": {},
     "output_type": "display_data"
    }
   ],
   "source": [
    "df.DateCreated.dt.dayofweek.value_counts().plot(kind='bar', color=MC)\n",
    "plt.xticks(range(7), ['Mon', 'Tue', 'Wed', 'Thu', 'Fri', 'Sat', 'Sun']);\n",
    "plt.title('When Ads Are Created - Day of Week');"
   ]
  },
  {
   "cell_type": "markdown",
   "metadata": {},
   "source": [
    "### Categorical Variables "
   ]
  },
  {
   "cell_type": "code",
   "execution_count": null,
   "metadata": {
    "ExecuteTime": {
     "start_time": "2017-12-04T23:39:59.244Z"
    }
   },
   "outputs": [
    {
     "data": {
      "text/html": [
       "<div>\n",
       "<style scoped>\n",
       "    .dataframe tbody tr th:only-of-type {\n",
       "        vertical-align: middle;\n",
       "    }\n",
       "\n",
       "    .dataframe tbody tr th {\n",
       "        vertical-align: top;\n",
       "    }\n",
       "\n",
       "    .dataframe thead th {\n",
       "        text-align: right;\n",
       "    }\n",
       "</style>\n",
       "<table border=\"1\" class=\"dataframe\">\n",
       "  <thead>\n",
       "    <tr style=\"text-align: right;\">\n",
       "      <th></th>\n",
       "      <th>count</th>\n",
       "      <th>unique</th>\n",
       "      <th>top</th>\n",
       "      <th>freq</th>\n",
       "    </tr>\n",
       "  </thead>\n",
       "  <tbody>\n",
       "    <tr>\n",
       "      <th>VehicleType</th>\n",
       "      <td>361477</td>\n",
       "      <td>7</td>\n",
       "      <td>limousine</td>\n",
       "      <td>109213</td>\n",
       "    </tr>\n",
       "    <tr>\n",
       "      <th>Gearbox</th>\n",
       "      <td>351319</td>\n",
       "      <td>2</td>\n",
       "      <td>manuell</td>\n",
       "      <td>274214</td>\n",
       "    </tr>\n",
       "    <tr>\n",
       "      <th>Model</th>\n",
       "      <td>324644</td>\n",
       "      <td>250</td>\n",
       "      <td>golf</td>\n",
       "      <td>30070</td>\n",
       "    </tr>\n",
       "    <tr>\n",
       "      <th>FuelType</th>\n",
       "      <td>337934</td>\n",
       "      <td>6</td>\n",
       "      <td>benzin</td>\n",
       "      <td>223857</td>\n",
       "    </tr>\n",
       "    <tr>\n",
       "      <th>Brand</th>\n",
       "      <td>371528</td>\n",
       "      <td>40</td>\n",
       "      <td>volkswagen</td>\n",
       "      <td>79640</td>\n",
       "    </tr>\n",
       "    <tr>\n",
       "      <th>Damage</th>\n",
       "      <td>299468</td>\n",
       "      <td>2</td>\n",
       "      <td>nein</td>\n",
       "      <td>263182</td>\n",
       "    </tr>\n",
       "  </tbody>\n",
       "</table>\n",
       "</div>"
      ],
      "text/plain": [
       "              count unique         top    freq\n",
       "VehicleType  361477      7   limousine  109213\n",
       "Gearbox      351319      2     manuell  274214\n",
       "Model        324644    250        golf   30070\n",
       "FuelType     337934      6      benzin  223857\n",
       "Brand        371528     40  volkswagen   79640\n",
       "Damage       299468      2        nein  263182"
      ]
     },
     "execution_count": 42,
     "metadata": {},
     "output_type": "execute_result"
    }
   ],
   "source": [
    "df.describe(include=['object']).T"
   ]
  },
  {
   "cell_type": "markdown",
   "metadata": {},
   "source": [
    "For categorical variables, we’ll use frequency table to understand distribution of each category."
   ]
  },
  {
   "cell_type": "code",
   "execution_count": null,
   "metadata": {
    "ExecuteTime": {
     "start_time": "2017-12-04T23:39:59.274Z"
    },
    "scrolled": false
   },
   "outputs": [],
   "source": [
    "# Checking for top frequnet values\n",
    "top_range = 3\n",
    "categorical_cols = [col for col in df.columns if df[col].dtype == 'object']\n",
    "plt.figure(figsize=(12, 20))\n",
    "plt.suptitle('Frequency Of Top {} Values'.format(top_range), y=1.02, fontsize=16)\n",
    "for i, col in enumerate(categorical_cols):\n",
    "    plt.subplot(8, 3, i+1)\n",
    "    plt.title(col, fontsize=12)\n",
    "    df[col].value_counts()[:top_range].plot(kind='barh', color=[colors[0] if i%2 == 0 else colors[1]]);\n",
    "    plt.tight_layout()"
   ]
  },
  {
   "cell_type": "code",
   "execution_count": null,
   "metadata": {
    "ExecuteTime": {
     "start_time": "2017-12-04T23:39:59.300Z"
    }
   },
   "outputs": [],
   "source": [
    "df.FuelType.value_counts()"
   ]
  },
  {
   "cell_type": "code",
   "execution_count": null,
   "metadata": {
    "ExecuteTime": {
     "start_time": "2017-12-04T23:39:59.322Z"
    },
    "scrolled": true
   },
   "outputs": [],
   "source": [
    "df.FuelType.value_counts().plot(kind='bar', color=MC)\n",
    "plt.title('Fuel Type');"
   ]
  },
  {
   "cell_type": "code",
   "execution_count": null,
   "metadata": {
    "ExecuteTime": {
     "start_time": "2017-12-04T23:39:59.348Z"
    }
   },
   "outputs": [],
   "source": [
    "# plt.figure(figsize=(12, 10))\n",
    "df.Brand.value_counts()[:10].sort_values(ascending=True).plot('barh', color=MC);\n",
    "plt.title('Top 20 Models');"
   ]
  },
  {
   "cell_type": "markdown",
   "metadata": {},
   "source": [
    "# 3. Bi-variate Analysis"
   ]
  },
  {
   "cell_type": "markdown",
   "metadata": {},
   "source": [
    "### Continuous & Continuous"
   ]
  },
  {
   "cell_type": "code",
   "execution_count": null,
   "metadata": {
    "ExecuteTime": {
     "start_time": "2017-12-04T23:39:59.383Z"
    }
   },
   "outputs": [],
   "source": [
    "km_price_df = df[['KM', 'Price']][df.Price < 150000]\n",
    "plt.scatter(km_price_df.KM, km_price_df.Price, color=MC, alpha=.1)\n",
    "plt.xlabel('KM');\n",
    "plt.ylabel('Price');\n",
    "plt.title('Price to Kilometers');"
   ]
  },
  {
   "cell_type": "code",
   "execution_count": null,
   "metadata": {
    "ExecuteTime": {
     "start_time": "2017-12-04T23:39:59.413Z"
    }
   },
   "outputs": [],
   "source": [
    "power_price_df = df[['PowerPS', 'Price']][df.Price < 150000]\n",
    "plt.scatter(power_price_df.PowerPS, power_price_df.Price, color=MC, alpha=.1)\n",
    "plt.xlabel('PowerPS');\n",
    "plt.ylabel('Price');\n",
    "plt.title('Price to PowerPS');"
   ]
  },
  {
   "cell_type": "code",
   "execution_count": null,
   "metadata": {
    "ExecuteTime": {
     "start_time": "2017-12-04T23:39:59.442Z"
    }
   },
   "outputs": [],
   "source": [
    "power_km_df = df[['KM', 'PowerPS']]\n",
    "plt.scatter(power_km_df.PowerPS, power_km_df.KM, color=MC, alpha=.1)\n",
    "plt.xlabel('PowerPS');\n",
    "plt.ylabel('KM');\n",
    "plt.title('KM to PowerPS');"
   ]
  },
  {
   "cell_type": "code",
   "execution_count": null,
   "metadata": {
    "ExecuteTime": {
     "start_time": "2017-12-04T23:39:59.469Z"
    }
   },
   "outputs": [],
   "source": [
    "df.groupby('VehicleType').Price.sum().sort_values(ascending=False).plot(kind='bar', color=MC);\n",
    "plt.title('Total Market Value by Vehicle Type');"
   ]
  },
  {
   "cell_type": "code",
   "execution_count": null,
   "metadata": {
    "ExecuteTime": {
     "start_time": "2017-12-04T23:39:59.495Z"
    }
   },
   "outputs": [],
   "source": [
    "df.groupby('Gearbox').Price.sum().sort_values(ascending=False).plot(kind='bar', color=MC);\n",
    "plt.title('Total Market Value by Gearbox');"
   ]
  },
  {
   "cell_type": "code",
   "execution_count": null,
   "metadata": {
    "ExecuteTime": {
     "start_time": "2017-12-04T23:39:59.521Z"
    }
   },
   "outputs": [],
   "source": [
    "plt.figure(figsize=(12, 16))\n",
    "ax = plt.gca()\n",
    "ax.get_xaxis().get_major_formatter().set_scientific(False)\n",
    "df.groupby('Brand').Price.sum().sort_values(ascending=False)[:20].sort_values().plot(kind='barh', color=MC);\n",
    "plt.title('Total Market Value by Brand - Top 20');"
   ]
  },
  {
   "cell_type": "code",
   "execution_count": null,
   "metadata": {
    "ExecuteTime": {
     "start_time": "2017-12-04T23:39:59.547Z"
    }
   },
   "outputs": [],
   "source": [
    "plt.figure(figsize=(12, 16))\n",
    "ax = plt.gca()\n",
    "ax.get_xaxis().get_major_formatter().set_scientific(False)\n",
    "df.groupby('Model').Price.sum().sort_values(ascending=False)[:20].sort_values().plot(kind='barh', color=MC);\n",
    "plt.title('Total Market Value by Model - Top 20');"
   ]
  },
  {
   "cell_type": "code",
   "execution_count": null,
   "metadata": {
    "ExecuteTime": {
     "start_time": "2017-12-04T23:39:59.573Z"
    },
    "scrolled": false
   },
   "outputs": [],
   "source": [
    "plt.figure(figsize=(12, 16))\n",
    "ax = plt.gca()\n",
    "ax.get_xaxis().get_major_formatter().set_scientific(False)\n",
    "df.groupby(['Model', 'Brand']).Price.sum().sort_values(ascending=False)[:20].sort_values().plot(kind='barh', color=MC);\n",
    "plt.legend()\n",
    "plt.title('Total Market Value by Model - Top 20');"
   ]
  },
  {
   "cell_type": "code",
   "execution_count": null,
   "metadata": {
    "ExecuteTime": {
     "start_time": "2017-12-04T23:39:59.602Z"
    }
   },
   "outputs": [],
   "source": [
    "df.columns"
   ]
  },
  {
   "cell_type": "code",
   "execution_count": null,
   "metadata": {
    "ExecuteTime": {
     "start_time": "2017-12-04T23:39:59.625Z"
    }
   },
   "outputs": [],
   "source": [
    "df.groupby('FuelType').Price.sum().sort_values(ascending=False).plot(kind='bar', color=MC);\n",
    "plt.title('Total Market Value by Fuel Type');"
   ]
  },
  {
   "cell_type": "markdown",
   "metadata": {},
   "source": [
    "#### Correlations"
   ]
  },
  {
   "cell_type": "code",
   "execution_count": null,
   "metadata": {
    "ExecuteTime": {
     "start_time": "2017-12-04T23:39:59.650Z"
    }
   },
   "outputs": [],
   "source": [
    "sns.heatmap(df[['Price', 'PowerPS', 'KM']].corr(), cmap=cmap, square=True, annot=True)\n",
    "plt.title('Correlations', y=1.02);"
   ]
  },
  {
   "cell_type": "markdown",
   "metadata": {},
   "source": [
    "### Categorical & Categorical"
   ]
  },
  {
   "cell_type": "markdown",
   "metadata": {},
   "source": [
    "Name, VehicleType, Gearbox, Model, FuelType,\n",
    "                    Brand, NotRepairedDemage"
   ]
  },
  {
   "cell_type": "code",
   "execution_count": null,
   "metadata": {
    "ExecuteTime": {
     "start_time": "2017-12-04T23:39:59.680Z"
    }
   },
   "outputs": [],
   "source": [
    "top_10_brands = df.Brand.value_counts()[:10].index\n",
    "top_20_models = df.Model.value_counts()[:20].index"
   ]
  },
  {
   "cell_type": "code",
   "execution_count": null,
   "metadata": {
    "ExecuteTime": {
     "start_time": "2017-12-04T23:39:59.704Z"
    },
    "scrolled": false
   },
   "outputs": [],
   "source": [
    "# Two-way table\n",
    "pd.crosstab(df.Model, df.Gearbox, ).loc[top_20_models, :].plot(kind='bar', color=colors)\n",
    "plt.title('Top 20 Models - Gearbox')"
   ]
  },
  {
   "cell_type": "code",
   "execution_count": null,
   "metadata": {
    "ExecuteTime": {
     "start_time": "2017-12-04T23:39:59.729Z"
    }
   },
   "outputs": [],
   "source": [
    "pd.crosstab(df.Brand, df.FuelType).loc[top_10_brands, :] \\\n",
    "    .plot(kind='bar', color=colors)\n",
    "plt.title('Top 10 Brands - Fuel Type');"
   ]
  },
  {
   "cell_type": "code",
   "execution_count": null,
   "metadata": {
    "ExecuteTime": {
     "start_time": "2017-12-04T23:39:59.757Z"
    }
   },
   "outputs": [],
   "source": [
    "pd.crosstab(df.Brand, df.FuelType).apply(lambda x: x/x.sum() *100, axis=1).loc[top_10_brands, :] \\\n",
    "    .plot(kind='bar', color=colors)\n",
    "plt.title('Top 10 Brands - Fuel Type [%]');"
   ]
  },
  {
   "cell_type": "code",
   "execution_count": null,
   "metadata": {
    "ExecuteTime": {
     "start_time": "2017-12-04T23:39:59.782Z"
    },
    "scrolled": false
   },
   "outputs": [],
   "source": [
    "pd.crosstab(df.Brand, df.Gearbox).loc[top_10_brands, :] \\\n",
    "    .plot(kind='bar', color=colors)\n",
    "plt.title('Top 10 Brands - Gearbox Type');"
   ]
  },
  {
   "cell_type": "code",
   "execution_count": null,
   "metadata": {
    "ExecuteTime": {
     "start_time": "2017-12-04T23:39:59.809Z"
    }
   },
   "outputs": [],
   "source": [
    "pd.crosstab(df.Brand, df.Gearbox).loc[top_10_brands, :] \\\n",
    "    .plot(kind='bar', color=colors, stacked=True)\n",
    "plt.title('Top 10 Brands - Gearbox Type');"
   ]
  },
  {
   "cell_type": "code",
   "execution_count": null,
   "metadata": {
    "ExecuteTime": {
     "start_time": "2017-12-04T23:39:59.833Z"
    }
   },
   "outputs": [],
   "source": [
    "pd.crosstab(df.Brand, df.Gearbox).apply(lambda x: x/x.sum() * 100, axis=1) \\\n",
    "    .loc[top_10_brands, :] \\\n",
    "    .plot(kind='bar', color=colors)\n",
    "plt.title('Top 10 Brands - Gearbox Type [%]');"
   ]
  },
  {
   "cell_type": "code",
   "execution_count": null,
   "metadata": {
    "ExecuteTime": {
     "start_time": "2017-12-04T23:39:59.857Z"
    }
   },
   "outputs": [],
   "source": [
    "pd.crosstab(df.Brand, df.VehicleType).loc[top_10_brands, :] \\\n",
    "    .plot(kind='bar', color=colors)\n",
    "plt.title('Top 10 Brands - Vehicle Type');"
   ]
  },
  {
   "cell_type": "code",
   "execution_count": null,
   "metadata": {
    "ExecuteTime": {
     "start_time": "2017-12-04T23:39:59.885Z"
    }
   },
   "outputs": [],
   "source": [
    "pd.crosstab(df.Brand, df.VehicleType) \\\n",
    "    .apply(lambda x: x/x.sum() * 100, axis=1) \\\n",
    "    .loc[top_10_brands, :] \\\n",
    "    .plot(kind='bar', color=colors)\n",
    "plt.title('Top 10 Brands - Vehicle Type [%]');"
   ]
  },
  {
   "cell_type": "code",
   "execution_count": null,
   "metadata": {
    "ExecuteTime": {
     "start_time": "2017-12-04T23:39:59.917Z"
    }
   },
   "outputs": [],
   "source": [
    "pd.crosstab(df.Gearbox, df.FuelType).plot(kind='bar', color=colors);"
   ]
  },
  {
   "cell_type": "code",
   "execution_count": null,
   "metadata": {
    "ExecuteTime": {
     "start_time": "2017-12-04T23:39:59.943Z"
    }
   },
   "outputs": [],
   "source": [
    "# Chi-Square Test"
   ]
  },
  {
   "cell_type": "markdown",
   "metadata": {},
   "source": [
    "### Categorical & Continuous"
   ]
  },
  {
   "cell_type": "code",
   "execution_count": null,
   "metadata": {},
   "outputs": [],
   "source": []
  },
  {
   "cell_type": "markdown",
   "metadata": {},
   "source": [
    "# Playground"
   ]
  },
  {
   "cell_type": "code",
   "execution_count": null,
   "metadata": {
    "ExecuteTime": {
     "start_time": "2017-12-04T23:39:59.986Z"
    },
    "scrolled": true
   },
   "outputs": [],
   "source": [
    "for model in top_20_models:\n",
    "\n",
    "    temp_df = df[(df.Model == model) & (df.KM > 5000) & (df.Damage == 'nein')]\n",
    "    # Takes care of price outliers\n",
    "    p_min = temp_df.Price.quantile(.05)\n",
    "    p_max = temp_df.Price.quantile(.95)\n",
    "    temp_df = temp_df[temp_df.Price.between(p_min, p_max)]\n",
    "\n",
    "    plt.scatter(temp_df.KM, temp_df.Price, color=MC, alpha=.05)\n",
    "    plt.xlabel('KM')\n",
    "    plt.ylabel('Price')\n",
    "    plt.title('{} - Price vs KM'.format(model.title()), y=1.02);\n",
    "    temp_df.groupby('KM')['Price'].mean().plot(color='red', linewidth=3, label='Mean')\n",
    "    plt.legend()\n",
    "    plt.show()"
   ]
  },
  {
   "cell_type": "code",
   "execution_count": null,
   "metadata": {
    "ExecuteTime": {
     "start_time": "2017-12-04T23:40:00.012Z"
    }
   },
   "outputs": [],
   "source": [
    "for model in top_20_models:\n",
    "\n",
    "    temp_df = df[(df.Model == model) & (df.KM > 5000) & (df.Damage == 'nein')]\n",
    "    # Takes care of price outliers\n",
    "    p_min = temp_df.Price.quantile(.05)\n",
    "    p_max = temp_df.Price.quantile(.95)\n",
    "    temp_df = temp_df[temp_df.Price.between(p_min, p_max)]\n",
    "    p_min = temp_df.Year.quantile(.05)\n",
    "    p_max = temp_df.Year.quantile(.95)\n",
    "    temp_df = temp_df[temp_df.Year.between(p_min, p_max)]\n",
    "\n",
    "    plt.scatter(temp_df.Year, temp_df.Price, color=MC, alpha=.05)\n",
    "    plt.xlabel('KM')\n",
    "    plt.ylabel('Price')\n",
    "    plt.title('{} - Price vs Year'.format(model.title()), y=1.02);\n",
    "    temp_df.groupby('Year')['Price'].mean().plot(color='red', linewidth=3, label='Mean')\n",
    "    plt.legend()\n",
    "    plt.show()"
   ]
  },
  {
   "cell_type": "markdown",
   "metadata": {},
   "source": [
    "### Outlier tests"
   ]
  },
  {
   "cell_type": "code",
   "execution_count": null,
   "metadata": {
    "ExecuteTime": {
     "start_time": "2017-12-04T23:40:00.035Z"
    }
   },
   "outputs": [],
   "source": [
    "golf_price = df.Price[df.Model == 'golf']"
   ]
  },
  {
   "cell_type": "code",
   "execution_count": null,
   "metadata": {
    "ExecuteTime": {
     "start_time": "2017-12-04T23:40:00.058Z"
    }
   },
   "outputs": [],
   "source": [
    "golf_price.plot(kind='box')"
   ]
  },
  {
   "cell_type": "code",
   "execution_count": null,
   "metadata": {
    "ExecuteTime": {
     "start_time": "2017-12-04T23:40:00.082Z"
    }
   },
   "outputs": [],
   "source": [
    "golf_price.plot()"
   ]
  },
  {
   "cell_type": "markdown",
   "metadata": {},
   "source": [
    "### Outlier Detection - Rolling Median "
   ]
  },
  {
   "cell_type": "code",
   "execution_count": null,
   "metadata": {
    "ExecuteTime": {
     "start_time": "2017-12-04T23:40:00.107Z"
    }
   },
   "outputs": [],
   "source": [
    "threshold = 1\n",
    "p = pd.rolling_median(golf_price, window=3, center=True).fillna(method='bfill').fillna(method='ffill')\n",
    "dif = np.abs(golf_price - p)\n",
    "outlier_idx = dif - threshold\n",
    "outlier_idx\n",
    "fig, ax = plt.subplots()\n",
    "golf_price.plot()\n",
    "\n",
    "golf_price[outlier_idx].plot(**kw)\n",
    "plt.ylim([0, golf_price.max() * 1.2])"
   ]
  },
  {
   "cell_type": "markdown",
   "metadata": {},
   "source": [
    "### Outlier Detection - Outlier Position by FFT"
   ]
  },
  {
   "cell_type": "code",
   "execution_count": null,
   "metadata": {
    "ExecuteTime": {
     "start_time": "2017-12-04T23:40:00.131Z"
    }
   },
   "outputs": [],
   "source": [
    "def detect_outlier_position_by_fft(signal, threshold_freq=.1,\n",
    "                                  frequency_aplitude=.001):\n",
    "    signal = signal.copy()\n",
    "    fft_of_signal = np.fft.fft(signal)\n",
    "    outlier = np.max(signal) if abs(np.max(signal)) > abs(np.min(signal)) else np.min(signal)\n",
    "    if np.any(np.abs(fft_of_signal[threshold_freq:]) > frequency_amplitude):\n",
    "        index_of_outlier = np.where(signal == outlier)\n",
    "        return index_of_outlier[0]\n",
    "    else:\n",
    "        return None\n",
    "    \n",
    "outlier_idx = []\n",
    "\n",
    "y = golf_price.values\n",
    "\n",
    "opt = dict(threshold_freq=0.01, frequency_aplitude=0.001)\n",
    "\n",
    "win = 20\n",
    "for k in range(win*2, y.size, win):\n",
    "    idx = detect_outlier_position_by_fft(y[k-win:k+win], **opt)\n",
    "    if idx is not None:\n",
    "        outlier_idx.append(k + idx[0] - win)\n",
    "outlier_idx = list(set(outlier_idx))\n",
    "\n",
    "fig, ax = plt.subplots()\n",
    "\n",
    "golf_price.plot()\n",
    "golf_price[outlier_idx].plot(**kw)\n",
    "plt.ylim([0, golf_price.max() * 1.2])"
   ]
  },
  {
   "cell_type": "markdown",
   "metadata": {},
   "source": [
    "### Outlier Detection - Median Filltered"
   ]
  },
  {
   "cell_type": "code",
   "execution_count": null,
   "metadata": {
    "ExecuteTime": {
     "start_time": "2017-12-04T23:40:00.155Z"
    },
    "scrolled": false
   },
   "outputs": [],
   "source": [
    "def get_median_filtered(signal, threshold=3):\n",
    "    signal = signal.copy()\n",
    "    difference = np.abs(signal - np.median(signal))\n",
    "    median_difference = np.median(difference)\n",
    "    if median_difference == 0:\n",
    "        s = 0\n",
    "    else:\n",
    "        s = difference / float(median_difference)\n",
    "    mask = s > threshold\n",
    "    signal[mask] = np.median(signal)\n",
    "    return signal\n",
    "\n",
    "kw = dict(marker='o', linestyle='none', color='r', alpha=0.3)\n",
    "\n",
    "median_filtered = get_median_filtered(golf_price, threshold=3)\n",
    "\n",
    "outliers_idx = np.where(golf_price.values != median_filtered)[0]\n",
    "\n",
    "fig, ax = plt.subplots()\n",
    "golf_price.plot()\n",
    "golf_price[outliers_idx].plot(**kw)\n",
    "plt.ylim([0, golf_price.max() * 1.2])"
   ]
  },
  {
   "cell_type": "code",
   "execution_count": null,
   "metadata": {
    "ExecuteTime": {
     "start_time": "2017-12-04T23:40:00.178Z"
    }
   },
   "outputs": [],
   "source": [
    "golf_price_clean = golf_price.drop(outliers_idx, axis=0)\n",
    "plt.figure(figsize=(12, 12))\n",
    "plt.subplot(211)\n",
    "golf_price_clean.plot(kind='kde')\n",
    "plt.xlim([0, golf_price_clean.max() * 1.2])\n",
    "plt.subplot(212)\n",
    "sns.boxplot(golf_price_clean)\n",
    "plt.xlim([0, golf_price_clean.max() * 1.2])"
   ]
  },
  {
   "cell_type": "markdown",
   "metadata": {},
   "source": [
    "### Outlier Detection IRQ Rule"
   ]
  },
  {
   "cell_type": "code",
   "execution_count": null,
   "metadata": {
    "ExecuteTime": {
     "start_time": "2017-12-04T23:40:00.201Z"
    }
   },
   "outputs": [],
   "source": [
    "plt.figure(figsize=(12, 12))\n",
    "plt.subplot(211)\n",
    "golf_price.plot(kind='kde')\n",
    "plt.xlim([0, golf_price.max() * 1.2])\n",
    "plt.subplot(212)\n",
    "sns.boxplot(golf_price)\n",
    "plt.xlim([0, golf_price.max() * 1.2])"
   ]
  },
  {
   "cell_type": "code",
   "execution_count": null,
   "metadata": {
    "ExecuteTime": {
     "start_time": "2017-12-04T23:40:00.224Z"
    }
   },
   "outputs": [],
   "source": [
    "q75 = golf_price.quantile(.75)\n",
    "q25 = golf_price.quantile(.25)\n",
    "iqr = q75 - q25\n",
    "iqr\n",
    "p_min = q25 - (iqr * 1.5)\n",
    "p_max = q75 + (iqr * 1.5)\n",
    "\n",
    "outliers_idx = golf_price[(golf_price < p_min) | (golf_price > p_max)].index\n",
    "print(len(outliers_idx), len(golf_price))\n",
    "golf_price.plot()\n",
    "golf_price[outliers_idx].plot(**kw)\n",
    "plt.ylim([0, golf_price.max() * 1.2])"
   ]
  },
  {
   "cell_type": "code",
   "execution_count": null,
   "metadata": {
    "ExecuteTime": {
     "start_time": "2017-12-04T23:40:00.246Z"
    }
   },
   "outputs": [],
   "source": [
    "golf_price_clean = golf_price.drop(outliers_idx, axis=0)\n",
    "plt.figure(figsize=(12, 12))\n",
    "plt.subplot(211)\n",
    "golf_price_clean.plot(kind='kde')\n",
    "plt.xlim([0, golf_price_clean.max() * 1.2])\n",
    "plt.subplot(212)\n",
    "sns.boxplot(golf_price_clean)\n",
    "plt.xlim([0, golf_price_clean.max() * 1.2])"
   ]
  },
  {
   "cell_type": "markdown",
   "metadata": {},
   "source": [
    "### Outlier Detection: Cutting off below 5 and above 95 percentile"
   ]
  },
  {
   "cell_type": "code",
   "execution_count": null,
   "metadata": {
    "ExecuteTime": {
     "start_time": "2017-12-04T23:40:00.270Z"
    },
    "scrolled": true
   },
   "outputs": [],
   "source": [
    "p_min = df.Price.quantile(.05)\n",
    "p_max = df.Price.quantile(.95)\n",
    "outliers_idx = golf_price[(golf_price > p_max) | (golf_price < p_min)].index\n",
    "print(len(outliers_idx), len(golf_price))\n",
    "golf_price.plot()\n",
    "golf_price[outliers_idx].plot(**kw)\n",
    "plt.ylim([0, golf_price.max() * 1.2])"
   ]
  },
  {
   "cell_type": "code",
   "execution_count": null,
   "metadata": {
    "ExecuteTime": {
     "start_time": "2017-12-04T23:40:00.293Z"
    }
   },
   "outputs": [],
   "source": [
    "golf_price_clean = golf_price.drop(outliers_idx, axis=0)\n",
    "plt.figure(figsize=(12, 12))\n",
    "plt.subplot(211)\n",
    "golf_price_clean.plot(kind='kde')\n",
    "plt.xlim([0, golf_price_clean.max() * 1.2])\n",
    "plt.subplot(212)\n",
    "sns.boxplot(golf_price_clean)\n",
    "plt.xlim([0, golf_price_clean.max() * 1.2])"
   ]
  },
  {
   "cell_type": "code",
   "execution_count": null,
   "metadata": {},
   "outputs": [],
   "source": []
  }
 ],
 "metadata": {
  "kernelspec": {
   "display_name": "Python 3",
   "language": "python",
   "name": "python3"
  },
  "language_info": {
   "codemirror_mode": {
    "name": "ipython",
    "version": 3
   },
   "file_extension": ".py",
   "mimetype": "text/x-python",
   "name": "python",
   "nbconvert_exporter": "python",
   "pygments_lexer": "ipython3",
   "version": "3.6.1"
  },
  "varInspector": {
   "cols": {
    "lenName": 16,
    "lenType": 16,
    "lenVar": 40
   },
   "kernels_config": {
    "python": {
     "delete_cmd_postfix": "",
     "delete_cmd_prefix": "del ",
     "library": "var_list.py",
     "varRefreshCmd": "print(var_dic_list())"
    },
    "r": {
     "delete_cmd_postfix": ") ",
     "delete_cmd_prefix": "rm(",
     "library": "var_list.r",
     "varRefreshCmd": "cat(var_dic_list()) "
    }
   },
   "types_to_exclude": [
    "module",
    "function",
    "builtin_function_or_method",
    "instance",
    "_Feature"
   ],
   "window_display": false
  }
 },
 "nbformat": 4,
 "nbformat_minor": 2
}

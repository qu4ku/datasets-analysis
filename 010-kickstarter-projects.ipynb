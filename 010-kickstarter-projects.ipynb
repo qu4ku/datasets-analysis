{
 "cells": [
  {
   "cell_type": "code",
   "execution_count": 1,
   "metadata": {
    "ExecuteTime": {
     "end_time": "2018-02-20T23:16:43.014857Z",
     "start_time": "2018-02-20T23:16:43.011223Z"
    }
   },
   "outputs": [],
   "source": [
    "# Early WIP"
   ]
  },
  {
   "cell_type": "code",
   "execution_count": 2,
   "metadata": {
    "ExecuteTime": {
     "end_time": "2018-02-20T23:16:48.020087Z",
     "start_time": "2018-02-20T23:16:43.023375Z"
    },
    "scrolled": true
   },
   "outputs": [
    {
     "data": {
      "text/html": [
       "\n",
       "    <div class=\"bk-root\">\n",
       "        <a href=\"https://bokeh.pydata.org\" target=\"_blank\" class=\"bk-logo bk-logo-small bk-logo-notebook\"></a>\n",
       "        <span id=\"e95dea43-1885-4656-bae7-ac5ab61cf4c1\">Loading BokehJS ...</span>\n",
       "    </div>"
      ]
     },
     "metadata": {},
     "output_type": "display_data"
    },
    {
     "data": {
      "application/javascript": [
       "\n",
       "(function(root) {\n",
       "  function now() {\n",
       "    return new Date();\n",
       "  }\n",
       "\n",
       "  var force = true;\n",
       "\n",
       "  if (typeof (root._bokeh_onload_callbacks) === \"undefined\" || force === true) {\n",
       "    root._bokeh_onload_callbacks = [];\n",
       "    root._bokeh_is_loading = undefined;\n",
       "  }\n",
       "\n",
       "  var JS_MIME_TYPE = 'application/javascript';\n",
       "  var HTML_MIME_TYPE = 'text/html';\n",
       "  var EXEC_MIME_TYPE = 'application/vnd.bokehjs_exec.v0+json';\n",
       "  var CLASS_NAME = 'output_bokeh rendered_html';\n",
       "\n",
       "  /**\n",
       "   * Render data to the DOM node\n",
       "   */\n",
       "  function render(props, node) {\n",
       "    var script = document.createElement(\"script\");\n",
       "    node.appendChild(script);\n",
       "  }\n",
       "\n",
       "  /**\n",
       "   * Handle when an output is cleared or removed\n",
       "   */\n",
       "  function handleClearOutput(event, handle) {\n",
       "    var cell = handle.cell;\n",
       "\n",
       "    var id = cell.output_area._bokeh_element_id;\n",
       "    var server_id = cell.output_area._bokeh_server_id;\n",
       "    // Clean up Bokeh references\n",
       "    if (id !== undefined) {\n",
       "      Bokeh.index[id].model.document.clear();\n",
       "      delete Bokeh.index[id];\n",
       "    }\n",
       "\n",
       "    if (server_id !== undefined) {\n",
       "      // Clean up Bokeh references\n",
       "      var cmd = \"from bokeh.io.state import curstate; print(curstate().uuid_to_server['\" + server_id + \"'].get_sessions()[0].document.roots[0]._id)\";\n",
       "      cell.notebook.kernel.execute(cmd, {\n",
       "        iopub: {\n",
       "          output: function(msg) {\n",
       "            var element_id = msg.content.text.trim();\n",
       "            Bokeh.index[element_id].model.document.clear();\n",
       "            delete Bokeh.index[element_id];\n",
       "          }\n",
       "        }\n",
       "      });\n",
       "      // Destroy server and session\n",
       "      var cmd = \"import bokeh.io.notebook as ion; ion.destroy_server('\" + server_id + \"')\";\n",
       "      cell.notebook.kernel.execute(cmd);\n",
       "    }\n",
       "  }\n",
       "\n",
       "  /**\n",
       "   * Handle when a new output is added\n",
       "   */\n",
       "  function handleAddOutput(event, handle) {\n",
       "    var output_area = handle.output_area;\n",
       "    var output = handle.output;\n",
       "\n",
       "    // limit handleAddOutput to display_data with EXEC_MIME_TYPE content only\n",
       "    if ((output.output_type != \"display_data\") || (!output.data.hasOwnProperty(EXEC_MIME_TYPE))) {\n",
       "      return\n",
       "    }\n",
       "\n",
       "    var toinsert = output_area.element.find(`.${CLASS_NAME.split(' ')[0]}`);\n",
       "\n",
       "    if (output.metadata[EXEC_MIME_TYPE][\"id\"] !== undefined) {\n",
       "      toinsert[0].firstChild.textContent = output.data[JS_MIME_TYPE];\n",
       "      // store reference to embed id on output_area\n",
       "      output_area._bokeh_element_id = output.metadata[EXEC_MIME_TYPE][\"id\"];\n",
       "    }\n",
       "    if (output.metadata[EXEC_MIME_TYPE][\"server_id\"] !== undefined) {\n",
       "      var bk_div = document.createElement(\"div\");\n",
       "      bk_div.innerHTML = output.data[HTML_MIME_TYPE];\n",
       "      var script_attrs = bk_div.children[0].attributes;\n",
       "      for (var i = 0; i < script_attrs.length; i++) {\n",
       "        toinsert[0].firstChild.setAttribute(script_attrs[i].name, script_attrs[i].value);\n",
       "      }\n",
       "      // store reference to server id on output_area\n",
       "      output_area._bokeh_server_id = output.metadata[EXEC_MIME_TYPE][\"server_id\"];\n",
       "    }\n",
       "  }\n",
       "\n",
       "  function register_renderer(events, OutputArea) {\n",
       "\n",
       "    function append_mime(data, metadata, element) {\n",
       "      // create a DOM node to render to\n",
       "      var toinsert = this.create_output_subarea(\n",
       "        metadata,\n",
       "        CLASS_NAME,\n",
       "        EXEC_MIME_TYPE\n",
       "      );\n",
       "      this.keyboard_manager.register_events(toinsert);\n",
       "      // Render to node\n",
       "      var props = {data: data, metadata: metadata[EXEC_MIME_TYPE]};\n",
       "      render(props, toinsert[0]);\n",
       "      element.append(toinsert);\n",
       "      return toinsert\n",
       "    }\n",
       "\n",
       "    /* Handle when an output is cleared or removed */\n",
       "    events.on('clear_output.CodeCell', handleClearOutput);\n",
       "    events.on('delete.Cell', handleClearOutput);\n",
       "\n",
       "    /* Handle when a new output is added */\n",
       "    events.on('output_added.OutputArea', handleAddOutput);\n",
       "\n",
       "    /**\n",
       "     * Register the mime type and append_mime function with output_area\n",
       "     */\n",
       "    OutputArea.prototype.register_mime_type(EXEC_MIME_TYPE, append_mime, {\n",
       "      /* Is output safe? */\n",
       "      safe: true,\n",
       "      /* Index of renderer in `output_area.display_order` */\n",
       "      index: 0\n",
       "    });\n",
       "  }\n",
       "\n",
       "  // register the mime type if in Jupyter Notebook environment and previously unregistered\n",
       "  if (root.Jupyter !== undefined) {\n",
       "    var events = require('base/js/events');\n",
       "    var OutputArea = require('notebook/js/outputarea').OutputArea;\n",
       "\n",
       "    if (OutputArea.prototype.mime_types().indexOf(EXEC_MIME_TYPE) == -1) {\n",
       "      register_renderer(events, OutputArea);\n",
       "    }\n",
       "  }\n",
       "\n",
       "  \n",
       "  if (typeof (root._bokeh_timeout) === \"undefined\" || force === true) {\n",
       "    root._bokeh_timeout = Date.now() + 5000;\n",
       "    root._bokeh_failed_load = false;\n",
       "  }\n",
       "\n",
       "  var NB_LOAD_WARNING = {'data': {'text/html':\n",
       "     \"<div style='background-color: #fdd'>\\n\"+\n",
       "     \"<p>\\n\"+\n",
       "     \"BokehJS does not appear to have successfully loaded. If loading BokehJS from CDN, this \\n\"+\n",
       "     \"may be due to a slow or bad network connection. Possible fixes:\\n\"+\n",
       "     \"</p>\\n\"+\n",
       "     \"<ul>\\n\"+\n",
       "     \"<li>re-rerun `output_notebook()` to attempt to load from CDN again, or</li>\\n\"+\n",
       "     \"<li>use INLINE resources instead, as so:</li>\\n\"+\n",
       "     \"</ul>\\n\"+\n",
       "     \"<code>\\n\"+\n",
       "     \"from bokeh.resources import INLINE\\n\"+\n",
       "     \"output_notebook(resources=INLINE)\\n\"+\n",
       "     \"</code>\\n\"+\n",
       "     \"</div>\"}};\n",
       "\n",
       "  function display_loaded() {\n",
       "    var el = document.getElementById(\"e95dea43-1885-4656-bae7-ac5ab61cf4c1\");\n",
       "    if (el != null) {\n",
       "      el.textContent = \"BokehJS is loading...\";\n",
       "    }\n",
       "    if (root.Bokeh !== undefined) {\n",
       "      if (el != null) {\n",
       "        el.textContent = \"BokehJS \" + root.Bokeh.version + \" successfully loaded.\";\n",
       "      }\n",
       "    } else if (Date.now() < root._bokeh_timeout) {\n",
       "      setTimeout(display_loaded, 100)\n",
       "    }\n",
       "  }\n",
       "\n",
       "\n",
       "  function run_callbacks() {\n",
       "    try {\n",
       "      root._bokeh_onload_callbacks.forEach(function(callback) { callback() });\n",
       "    }\n",
       "    finally {\n",
       "      delete root._bokeh_onload_callbacks\n",
       "    }\n",
       "    console.info(\"Bokeh: all callbacks have finished\");\n",
       "  }\n",
       "\n",
       "  function load_libs(js_urls, callback) {\n",
       "    root._bokeh_onload_callbacks.push(callback);\n",
       "    if (root._bokeh_is_loading > 0) {\n",
       "      console.log(\"Bokeh: BokehJS is being loaded, scheduling callback at\", now());\n",
       "      return null;\n",
       "    }\n",
       "    if (js_urls == null || js_urls.length === 0) {\n",
       "      run_callbacks();\n",
       "      return null;\n",
       "    }\n",
       "    console.log(\"Bokeh: BokehJS not loaded, scheduling load and callback at\", now());\n",
       "    root._bokeh_is_loading = js_urls.length;\n",
       "    for (var i = 0; i < js_urls.length; i++) {\n",
       "      var url = js_urls[i];\n",
       "      var s = document.createElement('script');\n",
       "      s.src = url;\n",
       "      s.async = false;\n",
       "      s.onreadystatechange = s.onload = function() {\n",
       "        root._bokeh_is_loading--;\n",
       "        if (root._bokeh_is_loading === 0) {\n",
       "          console.log(\"Bokeh: all BokehJS libraries loaded\");\n",
       "          run_callbacks()\n",
       "        }\n",
       "      };\n",
       "      s.onerror = function() {\n",
       "        console.warn(\"failed to load library \" + url);\n",
       "      };\n",
       "      console.log(\"Bokeh: injecting script tag for BokehJS library: \", url);\n",
       "      document.getElementsByTagName(\"head\")[0].appendChild(s);\n",
       "    }\n",
       "  };var element = document.getElementById(\"e95dea43-1885-4656-bae7-ac5ab61cf4c1\");\n",
       "  if (element == null) {\n",
       "    console.log(\"Bokeh: ERROR: autoload.js configured with elementid 'e95dea43-1885-4656-bae7-ac5ab61cf4c1' but no matching script tag was found. \")\n",
       "    return false;\n",
       "  }\n",
       "\n",
       "  var js_urls = [\"https://cdn.pydata.org/bokeh/release/bokeh-0.12.10.min.js\", \"https://cdn.pydata.org/bokeh/release/bokeh-widgets-0.12.10.min.js\", \"https://cdn.pydata.org/bokeh/release/bokeh-tables-0.12.10.min.js\", \"https://cdn.pydata.org/bokeh/release/bokeh-gl-0.12.10.min.js\"];\n",
       "\n",
       "  var inline_js = [\n",
       "    function(Bokeh) {\n",
       "      Bokeh.set_log_level(\"info\");\n",
       "    },\n",
       "    \n",
       "    function(Bokeh) {\n",
       "      \n",
       "    },\n",
       "    function(Bokeh) {\n",
       "      console.log(\"Bokeh: injecting CSS: https://cdn.pydata.org/bokeh/release/bokeh-0.12.10.min.css\");\n",
       "      Bokeh.embed.inject_css(\"https://cdn.pydata.org/bokeh/release/bokeh-0.12.10.min.css\");\n",
       "      console.log(\"Bokeh: injecting CSS: https://cdn.pydata.org/bokeh/release/bokeh-widgets-0.12.10.min.css\");\n",
       "      Bokeh.embed.inject_css(\"https://cdn.pydata.org/bokeh/release/bokeh-widgets-0.12.10.min.css\");\n",
       "      console.log(\"Bokeh: injecting CSS: https://cdn.pydata.org/bokeh/release/bokeh-tables-0.12.10.min.css\");\n",
       "      Bokeh.embed.inject_css(\"https://cdn.pydata.org/bokeh/release/bokeh-tables-0.12.10.min.css\");\n",
       "    }\n",
       "  ];\n",
       "\n",
       "  function run_inline_js() {\n",
       "    \n",
       "    if ((root.Bokeh !== undefined) || (force === true)) {\n",
       "      for (var i = 0; i < inline_js.length; i++) {\n",
       "        inline_js[i].call(root, root.Bokeh);\n",
       "      }if (force === true) {\n",
       "        display_loaded();\n",
       "      }} else if (Date.now() < root._bokeh_timeout) {\n",
       "      setTimeout(run_inline_js, 100);\n",
       "    } else if (!root._bokeh_failed_load) {\n",
       "      console.log(\"Bokeh: BokehJS failed to load within specified timeout.\");\n",
       "      root._bokeh_failed_load = true;\n",
       "    } else if (force !== true) {\n",
       "      var cell = $(document.getElementById(\"e95dea43-1885-4656-bae7-ac5ab61cf4c1\")).parents('.cell').data().cell;\n",
       "      cell.output_area.append_execute_result(NB_LOAD_WARNING)\n",
       "    }\n",
       "\n",
       "  }\n",
       "\n",
       "  if (root._bokeh_is_loading === 0) {\n",
       "    console.log(\"Bokeh: BokehJS loaded, going straight to plotting\");\n",
       "    run_inline_js();\n",
       "  } else {\n",
       "    load_libs(js_urls, function() {\n",
       "      console.log(\"Bokeh: BokehJS plotting callback run at\", now());\n",
       "      run_inline_js();\n",
       "    });\n",
       "  }\n",
       "}(window));"
      ],
      "application/vnd.bokehjs_load.v0+json": "\n(function(root) {\n  function now() {\n    return new Date();\n  }\n\n  var force = true;\n\n  if (typeof (root._bokeh_onload_callbacks) === \"undefined\" || force === true) {\n    root._bokeh_onload_callbacks = [];\n    root._bokeh_is_loading = undefined;\n  }\n\n  \n\n  \n  if (typeof (root._bokeh_timeout) === \"undefined\" || force === true) {\n    root._bokeh_timeout = Date.now() + 5000;\n    root._bokeh_failed_load = false;\n  }\n\n  var NB_LOAD_WARNING = {'data': {'text/html':\n     \"<div style='background-color: #fdd'>\\n\"+\n     \"<p>\\n\"+\n     \"BokehJS does not appear to have successfully loaded. If loading BokehJS from CDN, this \\n\"+\n     \"may be due to a slow or bad network connection. Possible fixes:\\n\"+\n     \"</p>\\n\"+\n     \"<ul>\\n\"+\n     \"<li>re-rerun `output_notebook()` to attempt to load from CDN again, or</li>\\n\"+\n     \"<li>use INLINE resources instead, as so:</li>\\n\"+\n     \"</ul>\\n\"+\n     \"<code>\\n\"+\n     \"from bokeh.resources import INLINE\\n\"+\n     \"output_notebook(resources=INLINE)\\n\"+\n     \"</code>\\n\"+\n     \"</div>\"}};\n\n  function display_loaded() {\n    var el = document.getElementById(\"e95dea43-1885-4656-bae7-ac5ab61cf4c1\");\n    if (el != null) {\n      el.textContent = \"BokehJS is loading...\";\n    }\n    if (root.Bokeh !== undefined) {\n      if (el != null) {\n        el.textContent = \"BokehJS \" + root.Bokeh.version + \" successfully loaded.\";\n      }\n    } else if (Date.now() < root._bokeh_timeout) {\n      setTimeout(display_loaded, 100)\n    }\n  }\n\n\n  function run_callbacks() {\n    try {\n      root._bokeh_onload_callbacks.forEach(function(callback) { callback() });\n    }\n    finally {\n      delete root._bokeh_onload_callbacks\n    }\n    console.info(\"Bokeh: all callbacks have finished\");\n  }\n\n  function load_libs(js_urls, callback) {\n    root._bokeh_onload_callbacks.push(callback);\n    if (root._bokeh_is_loading > 0) {\n      console.log(\"Bokeh: BokehJS is being loaded, scheduling callback at\", now());\n      return null;\n    }\n    if (js_urls == null || js_urls.length === 0) {\n      run_callbacks();\n      return null;\n    }\n    console.log(\"Bokeh: BokehJS not loaded, scheduling load and callback at\", now());\n    root._bokeh_is_loading = js_urls.length;\n    for (var i = 0; i < js_urls.length; i++) {\n      var url = js_urls[i];\n      var s = document.createElement('script');\n      s.src = url;\n      s.async = false;\n      s.onreadystatechange = s.onload = function() {\n        root._bokeh_is_loading--;\n        if (root._bokeh_is_loading === 0) {\n          console.log(\"Bokeh: all BokehJS libraries loaded\");\n          run_callbacks()\n        }\n      };\n      s.onerror = function() {\n        console.warn(\"failed to load library \" + url);\n      };\n      console.log(\"Bokeh: injecting script tag for BokehJS library: \", url);\n      document.getElementsByTagName(\"head\")[0].appendChild(s);\n    }\n  };var element = document.getElementById(\"e95dea43-1885-4656-bae7-ac5ab61cf4c1\");\n  if (element == null) {\n    console.log(\"Bokeh: ERROR: autoload.js configured with elementid 'e95dea43-1885-4656-bae7-ac5ab61cf4c1' but no matching script tag was found. \")\n    return false;\n  }\n\n  var js_urls = [\"https://cdn.pydata.org/bokeh/release/bokeh-0.12.10.min.js\", \"https://cdn.pydata.org/bokeh/release/bokeh-widgets-0.12.10.min.js\", \"https://cdn.pydata.org/bokeh/release/bokeh-tables-0.12.10.min.js\", \"https://cdn.pydata.org/bokeh/release/bokeh-gl-0.12.10.min.js\"];\n\n  var inline_js = [\n    function(Bokeh) {\n      Bokeh.set_log_level(\"info\");\n    },\n    \n    function(Bokeh) {\n      \n    },\n    function(Bokeh) {\n      console.log(\"Bokeh: injecting CSS: https://cdn.pydata.org/bokeh/release/bokeh-0.12.10.min.css\");\n      Bokeh.embed.inject_css(\"https://cdn.pydata.org/bokeh/release/bokeh-0.12.10.min.css\");\n      console.log(\"Bokeh: injecting CSS: https://cdn.pydata.org/bokeh/release/bokeh-widgets-0.12.10.min.css\");\n      Bokeh.embed.inject_css(\"https://cdn.pydata.org/bokeh/release/bokeh-widgets-0.12.10.min.css\");\n      console.log(\"Bokeh: injecting CSS: https://cdn.pydata.org/bokeh/release/bokeh-tables-0.12.10.min.css\");\n      Bokeh.embed.inject_css(\"https://cdn.pydata.org/bokeh/release/bokeh-tables-0.12.10.min.css\");\n    }\n  ];\n\n  function run_inline_js() {\n    \n    if ((root.Bokeh !== undefined) || (force === true)) {\n      for (var i = 0; i < inline_js.length; i++) {\n        inline_js[i].call(root, root.Bokeh);\n      }if (force === true) {\n        display_loaded();\n      }} else if (Date.now() < root._bokeh_timeout) {\n      setTimeout(run_inline_js, 100);\n    } else if (!root._bokeh_failed_load) {\n      console.log(\"Bokeh: BokehJS failed to load within specified timeout.\");\n      root._bokeh_failed_load = true;\n    } else if (force !== true) {\n      var cell = $(document.getElementById(\"e95dea43-1885-4656-bae7-ac5ab61cf4c1\")).parents('.cell').data().cell;\n      cell.output_area.append_execute_result(NB_LOAD_WARNING)\n    }\n\n  }\n\n  if (root._bokeh_is_loading === 0) {\n    console.log(\"Bokeh: BokehJS loaded, going straight to plotting\");\n    run_inline_js();\n  } else {\n    load_libs(js_urls, function() {\n      console.log(\"Bokeh: BokehJS plotting callback run at\", now());\n      run_inline_js();\n    });\n  }\n}(window));"
     },
     "metadata": {},
     "output_type": "display_data"
    }
   ],
   "source": [
    "# V 1.13\n",
    "# Standard Imports\n",
    "import pandas as pd\n",
    "import numpy as np\n",
    "from zipfile import ZipFile\n",
    "\n",
    "# Plotting \n",
    "import matplotlib.pyplot as plt\n",
    "import matplotlib.colors as mcolors\n",
    "from bokeh.plotting import figure, output_notebook, show, output_file\n",
    "import seaborn as sns\n",
    "\n",
    "output_notebook()\n",
    "%matplotlib inline\n",
    "\n",
    "# Pandas Setup\n",
    "pd.options.mode.chained_assignment = None\n",
    "pd.options.display.max_columns = 999\n",
    "pd.set_option('display.float_format', lambda x: '{:,.2f}'.format(x))\n",
    "\n",
    "# Colour Management\n",
    "MC = '#242a49'  # Main\n",
    "SC = '#ededed'  # Secondary\n",
    "TC = 'red'  # Tertiary \n",
    "\n",
    "colors = ['#202540', '#17b5ff', 'red', 'pink', '#443857', '#bed6f7', '#144c4a']\n",
    "cmap = mcolors.LinearSegmentedColormap.from_list('n', ['red', 'white', MC])\n",
    "cmap2 = mcolors.LinearSegmentedColormap.from_list('n', ['white', MC])\n",
    "boxplot_params = dict(\n",
    "    patch_artist=True,\n",
    "    boxprops=dict(facecolor=SC, color=MC),\n",
    "    capprops=dict(color=MC, linewidth=2),\n",
    "    whiskerprops=dict(color=MC),\n",
    "    flierprops=dict(color=MC, markeredgecolor=MC),\n",
    "    medianprops=dict(color='red', linewidth=2),\n",
    ")\n",
    "\n",
    "#Pyplot Setup\n",
    "plt.rcParams.update({\n",
    "    'font.family': 'monospace',\n",
    "    'font.size': 10,\n",
    "    'figure.figsize': (12, 6),\n",
    "    'axes.titlesize': 16.0,\n",
    "    'axes.facecolor': 'none',\n",
    "    'axes.formatter.useoffset': False,  # Scientific notation\n",
    "    'grid.color': SC,\n",
    "    'figure.frameon': False,\n",
    "#     'axes.grid': True,\n",
    "\n",
    "})\n"
   ]
  },
  {
   "cell_type": "code",
   "execution_count": 3,
   "metadata": {
    "ExecuteTime": {
     "end_time": "2018-02-20T23:16:48.034252Z",
     "start_time": "2018-02-20T23:16:48.021513Z"
    }
   },
   "outputs": [
    {
     "data": {
      "text/plain": [
       "RcParams({'_internal.classic_mode': False,\n",
       "          'agg.path.chunksize': 0,\n",
       "          'animation.avconv_args': [],\n",
       "          'animation.avconv_path': 'avconv',\n",
       "          'animation.bitrate': -1,\n",
       "          'animation.codec': 'h264',\n",
       "          'animation.convert_args': [],\n",
       "          'animation.convert_path': 'convert',\n",
       "          'animation.embed_limit': 20.0,\n",
       "          'animation.ffmpeg_args': [],\n",
       "          'animation.ffmpeg_path': 'ffmpeg',\n",
       "          'animation.frame_format': 'png',\n",
       "          'animation.html': 'none',\n",
       "          'animation.html_args': [],\n",
       "          'animation.mencoder_args': [],\n",
       "          'animation.mencoder_path': 'mencoder',\n",
       "          'animation.writer': 'ffmpeg',\n",
       "          'axes.autolimit_mode': 'data',\n",
       "          'axes.axisbelow': 'line',\n",
       "          'axes.edgecolor': 'k',\n",
       "          'axes.facecolor': 'none',\n",
       "          'axes.formatter.limits': [-7, 7],\n",
       "          'axes.formatter.min_exponent': 0,\n",
       "          'axes.formatter.offset_threshold': 4,\n",
       "          'axes.formatter.use_locale': False,\n",
       "          'axes.formatter.use_mathtext': False,\n",
       "          'axes.formatter.useoffset': False,\n",
       "          'axes.grid': False,\n",
       "          'axes.grid.axis': 'both',\n",
       "          'axes.grid.which': 'major',\n",
       "          'axes.hold': None,\n",
       "          'axes.labelcolor': 'k',\n",
       "          'axes.labelpad': 4.0,\n",
       "          'axes.labelsize': 'medium',\n",
       "          'axes.labelweight': 'normal',\n",
       "          'axes.linewidth': 0.8,\n",
       "          'axes.prop_cycle': cycler('color', ['#1f77b4', '#ff7f0e', '#2ca02c', '#d62728', '#9467bd', '#8c564b', '#e377c2', '#7f7f7f', '#bcbd22', '#17becf']),\n",
       "          'axes.spines.bottom': True,\n",
       "          'axes.spines.left': True,\n",
       "          'axes.spines.right': True,\n",
       "          'axes.spines.top': True,\n",
       "          'axes.titlepad': 6.0,\n",
       "          'axes.titlesize': 16.0,\n",
       "          'axes.titleweight': 'normal',\n",
       "          'axes.unicode_minus': True,\n",
       "          'axes.xmargin': 0.05,\n",
       "          'axes.ymargin': 0.05,\n",
       "          'axes3d.grid': True,\n",
       "          'backend': 'module://ipykernel.pylab.backend_inline',\n",
       "          'backend.qt4': 'PyQt4',\n",
       "          'backend.qt5': 'PyQt5',\n",
       "          'backend_fallback': True,\n",
       "          'boxplot.bootstrap': None,\n",
       "          'boxplot.boxprops.color': 'k',\n",
       "          'boxplot.boxprops.linestyle': '-',\n",
       "          'boxplot.boxprops.linewidth': 1.0,\n",
       "          'boxplot.capprops.color': 'k',\n",
       "          'boxplot.capprops.linestyle': '-',\n",
       "          'boxplot.capprops.linewidth': 1.0,\n",
       "          'boxplot.flierprops.color': 'k',\n",
       "          'boxplot.flierprops.linestyle': 'none',\n",
       "          'boxplot.flierprops.linewidth': 1.0,\n",
       "          'boxplot.flierprops.marker': 'o',\n",
       "          'boxplot.flierprops.markeredgecolor': 'k',\n",
       "          'boxplot.flierprops.markerfacecolor': 'none',\n",
       "          'boxplot.flierprops.markersize': 6.0,\n",
       "          'boxplot.meanline': False,\n",
       "          'boxplot.meanprops.color': 'C2',\n",
       "          'boxplot.meanprops.linestyle': '--',\n",
       "          'boxplot.meanprops.linewidth': 1.0,\n",
       "          'boxplot.meanprops.marker': '^',\n",
       "          'boxplot.meanprops.markeredgecolor': 'C2',\n",
       "          'boxplot.meanprops.markerfacecolor': 'C2',\n",
       "          'boxplot.meanprops.markersize': 6.0,\n",
       "          'boxplot.medianprops.color': 'C1',\n",
       "          'boxplot.medianprops.linestyle': '-',\n",
       "          'boxplot.medianprops.linewidth': 1.0,\n",
       "          'boxplot.notch': False,\n",
       "          'boxplot.patchartist': False,\n",
       "          'boxplot.showbox': True,\n",
       "          'boxplot.showcaps': True,\n",
       "          'boxplot.showfliers': True,\n",
       "          'boxplot.showmeans': False,\n",
       "          'boxplot.vertical': True,\n",
       "          'boxplot.whiskerprops.color': 'k',\n",
       "          'boxplot.whiskerprops.linestyle': '-',\n",
       "          'boxplot.whiskerprops.linewidth': 1.0,\n",
       "          'boxplot.whiskers': 1.5,\n",
       "          'contour.corner_mask': True,\n",
       "          'contour.negative_linestyle': 'dashed',\n",
       "          'datapath': '/Users/kamilwroniewicz/anaconda3/lib/python3.6/site-packages/matplotlib/mpl-data',\n",
       "          'date.autoformatter.day': '%Y-%m-%d',\n",
       "          'date.autoformatter.hour': '%m-%d %H',\n",
       "          'date.autoformatter.microsecond': '%M:%S.%f',\n",
       "          'date.autoformatter.minute': '%d %H:%M',\n",
       "          'date.autoformatter.month': '%Y-%m',\n",
       "          'date.autoformatter.second': '%H:%M:%S',\n",
       "          'date.autoformatter.year': '%Y',\n",
       "          'docstring.hardcopy': False,\n",
       "          'errorbar.capsize': 0.0,\n",
       "          'examples.directory': '',\n",
       "          'figure.autolayout': False,\n",
       "          'figure.dpi': 72.0,\n",
       "          'figure.edgecolor': (1, 1, 1, 0),\n",
       "          'figure.facecolor': (1, 1, 1, 0),\n",
       "          'figure.figsize': [12.0, 6.0],\n",
       "          'figure.frameon': False,\n",
       "          'figure.max_open_warning': 20,\n",
       "          'figure.subplot.bottom': 0.125,\n",
       "          'figure.subplot.hspace': 0.2,\n",
       "          'figure.subplot.left': 0.125,\n",
       "          'figure.subplot.right': 0.9,\n",
       "          'figure.subplot.top': 0.88,\n",
       "          'figure.subplot.wspace': 0.2,\n",
       "          'figure.titlesize': 'large',\n",
       "          'figure.titleweight': 'normal',\n",
       "          'font.cursive': ['Apple Chancery',\n",
       "                           'Textile',\n",
       "                           'Zapf Chancery',\n",
       "                           'Sand',\n",
       "                           'Script MT',\n",
       "                           'Felipa',\n",
       "                           'cursive'],\n",
       "          'font.family': ['monospace'],\n",
       "          'font.fantasy': ['Comic Sans MS',\n",
       "                           'Chicago',\n",
       "                           'Charcoal',\n",
       "                           'ImpactWestern',\n",
       "                           'Humor Sans',\n",
       "                           'xkcd',\n",
       "                           'fantasy'],\n",
       "          'font.monospace': ['DejaVu Sans Mono',\n",
       "                             'Bitstream Vera Sans Mono',\n",
       "                             'Computer Modern Typewriter',\n",
       "                             'Andale Mono',\n",
       "                             'Nimbus Mono L',\n",
       "                             'Courier New',\n",
       "                             'Courier',\n",
       "                             'Fixed',\n",
       "                             'Terminal',\n",
       "                             'monospace'],\n",
       "          'font.sans-serif': ['DejaVu Sans',\n",
       "                              'Bitstream Vera Sans',\n",
       "                              'Computer Modern Sans Serif',\n",
       "                              'Lucida Grande',\n",
       "                              'Verdana',\n",
       "                              'Geneva',\n",
       "                              'Lucid',\n",
       "                              'Arial',\n",
       "                              'Helvetica',\n",
       "                              'Avant Garde',\n",
       "                              'sans-serif'],\n",
       "          'font.serif': ['DejaVu Serif',\n",
       "                         'Bitstream Vera Serif',\n",
       "                         'Computer Modern Roman',\n",
       "                         'New Century Schoolbook',\n",
       "                         'Century Schoolbook L',\n",
       "                         'Utopia',\n",
       "                         'ITC Bookman',\n",
       "                         'Bookman',\n",
       "                         'Nimbus Roman No9 L',\n",
       "                         'Times New Roman',\n",
       "                         'Times',\n",
       "                         'Palatino',\n",
       "                         'Charter',\n",
       "                         'serif'],\n",
       "          'font.size': 10.0,\n",
       "          'font.stretch': 'normal',\n",
       "          'font.style': 'normal',\n",
       "          'font.variant': 'normal',\n",
       "          'font.weight': 'normal',\n",
       "          'grid.alpha': 1.0,\n",
       "          'grid.color': '#ededed',\n",
       "          'grid.linestyle': '-',\n",
       "          'grid.linewidth': 0.8,\n",
       "          'hatch.color': 'k',\n",
       "          'hatch.linewidth': 1.0,\n",
       "          'hist.bins': 10,\n",
       "          'image.aspect': 'equal',\n",
       "          'image.cmap': 'viridis',\n",
       "          'image.composite_image': True,\n",
       "          'image.interpolation': 'nearest',\n",
       "          'image.lut': 256,\n",
       "          'image.origin': 'upper',\n",
       "          'image.resample': True,\n",
       "          'interactive': True,\n",
       "          'keymap.all_axes': ['a'],\n",
       "          'keymap.back': ['left', 'c', 'backspace'],\n",
       "          'keymap.forward': ['right', 'v'],\n",
       "          'keymap.fullscreen': ['f', 'ctrl+f'],\n",
       "          'keymap.grid': ['g'],\n",
       "          'keymap.grid_minor': ['G'],\n",
       "          'keymap.home': ['h', 'r', 'home'],\n",
       "          'keymap.pan': ['p'],\n",
       "          'keymap.quit': ['ctrl+w', 'cmd+w', 'q'],\n",
       "          'keymap.quit_all': ['W', 'cmd+W', 'Q'],\n",
       "          'keymap.save': ['s', 'ctrl+s'],\n",
       "          'keymap.xscale': ['k', 'L'],\n",
       "          'keymap.yscale': ['l'],\n",
       "          'keymap.zoom': ['o'],\n",
       "          'legend.borderaxespad': 0.5,\n",
       "          'legend.borderpad': 0.4,\n",
       "          'legend.columnspacing': 2.0,\n",
       "          'legend.edgecolor': '0.8',\n",
       "          'legend.facecolor': 'inherit',\n",
       "          'legend.fancybox': True,\n",
       "          'legend.fontsize': 'medium',\n",
       "          'legend.framealpha': 0.8,\n",
       "          'legend.frameon': True,\n",
       "          'legend.handleheight': 0.7,\n",
       "          'legend.handlelength': 2.0,\n",
       "          'legend.handletextpad': 0.8,\n",
       "          'legend.labelspacing': 0.5,\n",
       "          'legend.loc': 'best',\n",
       "          'legend.markerscale': 1.0,\n",
       "          'legend.numpoints': 1,\n",
       "          'legend.scatterpoints': 1,\n",
       "          'legend.shadow': False,\n",
       "          'lines.antialiased': True,\n",
       "          'lines.color': 'C0',\n",
       "          'lines.dash_capstyle': 'butt',\n",
       "          'lines.dash_joinstyle': 'round',\n",
       "          'lines.dashdot_pattern': [6.4, 1.6, 1.0, 1.6],\n",
       "          'lines.dashed_pattern': [3.7, 1.6],\n",
       "          'lines.dotted_pattern': [1.0, 1.65],\n",
       "          'lines.linestyle': '-',\n",
       "          'lines.linewidth': 1.5,\n",
       "          'lines.marker': 'None',\n",
       "          'lines.markeredgewidth': 1.0,\n",
       "          'lines.markersize': 6.0,\n",
       "          'lines.scale_dashes': True,\n",
       "          'lines.solid_capstyle': 'projecting',\n",
       "          'lines.solid_joinstyle': 'round',\n",
       "          'markers.fillstyle': 'full',\n",
       "          'mathtext.bf': 'sans:bold',\n",
       "          'mathtext.cal': 'cursive',\n",
       "          'mathtext.default': 'it',\n",
       "          'mathtext.fallback_to_cm': True,\n",
       "          'mathtext.fontset': 'dejavusans',\n",
       "          'mathtext.it': 'sans:italic',\n",
       "          'mathtext.rm': 'sans',\n",
       "          'mathtext.sf': 'sans',\n",
       "          'mathtext.tt': 'monospace',\n",
       "          'nbagg.transparent': True,\n",
       "          'patch.antialiased': True,\n",
       "          'patch.edgecolor': 'k',\n",
       "          'patch.facecolor': 'C0',\n",
       "          'patch.force_edgecolor': False,\n",
       "          'patch.linewidth': 1.0,\n",
       "          'path.effects': [],\n",
       "          'path.simplify': True,\n",
       "          'path.simplify_threshold': 0.1111111111111111,\n",
       "          'path.sketch': None,\n",
       "          'path.snap': True,\n",
       "          'pdf.compression': 6,\n",
       "          'pdf.fonttype': 3,\n",
       "          'pdf.inheritcolor': False,\n",
       "          'pdf.use14corefonts': False,\n",
       "          'pgf.debug': False,\n",
       "          'pgf.preamble': [],\n",
       "          'pgf.rcfonts': True,\n",
       "          'pgf.texsystem': 'xelatex',\n",
       "          'plugins.directory': '.matplotlib_plugins',\n",
       "          'polaraxes.grid': True,\n",
       "          'ps.distiller.res': 6000,\n",
       "          'ps.fonttype': 3,\n",
       "          'ps.papersize': 'letter',\n",
       "          'ps.useafm': False,\n",
       "          'ps.usedistiller': False,\n",
       "          'savefig.bbox': None,\n",
       "          'savefig.directory': '~',\n",
       "          'savefig.dpi': 'figure',\n",
       "          'savefig.edgecolor': 'w',\n",
       "          'savefig.facecolor': 'w',\n",
       "          'savefig.format': 'png',\n",
       "          'savefig.frameon': True,\n",
       "          'savefig.jpeg_quality': 95,\n",
       "          'savefig.orientation': 'portrait',\n",
       "          'savefig.pad_inches': 0.1,\n",
       "          'savefig.transparent': False,\n",
       "          'scatter.marker': 'o',\n",
       "          'svg.fonttype': 'path',\n",
       "          'svg.hashsalt': None,\n",
       "          'svg.image_inline': True,\n",
       "          'text.antialiased': True,\n",
       "          'text.color': 'k',\n",
       "          'text.hinting': 'auto',\n",
       "          'text.hinting_factor': 8,\n",
       "          'text.latex.preamble': [],\n",
       "          'text.latex.preview': False,\n",
       "          'text.latex.unicode': False,\n",
       "          'text.usetex': False,\n",
       "          'timezone': 'UTC',\n",
       "          'tk.window_focus': False,\n",
       "          'toolbar': 'toolbar2',\n",
       "          'verbose.fileo': 'sys.stdout',\n",
       "          'verbose.level': 'silent',\n",
       "          'webagg.open_in_browser': True,\n",
       "          'webagg.port': 8988,\n",
       "          'webagg.port_retries': 50,\n",
       "          'xtick.alignment': 'center',\n",
       "          'xtick.bottom': True,\n",
       "          'xtick.color': 'k',\n",
       "          'xtick.direction': 'out',\n",
       "          'xtick.labelsize': 'medium',\n",
       "          'xtick.major.bottom': True,\n",
       "          'xtick.major.pad': 3.5,\n",
       "          'xtick.major.size': 3.5,\n",
       "          'xtick.major.top': True,\n",
       "          'xtick.major.width': 0.8,\n",
       "          'xtick.minor.bottom': True,\n",
       "          'xtick.minor.pad': 3.4,\n",
       "          'xtick.minor.size': 2.0,\n",
       "          'xtick.minor.top': True,\n",
       "          'xtick.minor.visible': False,\n",
       "          'xtick.minor.width': 0.6,\n",
       "          'xtick.top': False,\n",
       "          'ytick.alignment': 'center_baseline',\n",
       "          'ytick.color': 'k',\n",
       "          'ytick.direction': 'out',\n",
       "          'ytick.labelsize': 'medium',\n",
       "          'ytick.left': True,\n",
       "          'ytick.major.left': True,\n",
       "          'ytick.major.pad': 3.5,\n",
       "          'ytick.major.right': True,\n",
       "          'ytick.major.size': 3.5,\n",
       "          'ytick.major.width': 0.8,\n",
       "          'ytick.minor.left': True,\n",
       "          'ytick.minor.pad': 3.4,\n",
       "          'ytick.minor.right': True,\n",
       "          'ytick.minor.size': 2.0,\n",
       "          'ytick.minor.visible': False,\n",
       "          'ytick.minor.width': 0.6,\n",
       "          'ytick.right': False})"
      ]
     },
     "execution_count": 3,
     "metadata": {},
     "output_type": "execute_result"
    }
   ],
   "source": [
    "plt.rcParams"
   ]
  },
  {
   "cell_type": "code",
   "execution_count": 4,
   "metadata": {
    "ExecuteTime": {
     "end_time": "2018-02-20T23:16:48.042277Z",
     "start_time": "2018-02-20T23:16:48.036126Z"
    }
   },
   "outputs": [],
   "source": [
    "# Additional imports\n",
    "from bokeh.layouts import layout, widgetbox\n",
    "from bokeh.models import ColumnDataSource, HoverTool, BoxZoomTool, ResetTool, PanTool\n",
    "from bokeh.models.widgets import Slider, Select, TextInput, Div\n",
    "from bokeh.models import WheelZoomTool, SaveTool, LassoSelectTool\n",
    "from bokeh.io import curdoc\n",
    "from functools import lru_cache"
   ]
  },
  {
   "cell_type": "code",
   "execution_count": 5,
   "metadata": {
    "ExecuteTime": {
     "end_time": "2018-02-20T23:16:50.473433Z",
     "start_time": "2018-02-20T23:16:48.043917Z"
    },
    "scrolled": true
   },
   "outputs": [
    {
     "data": {
      "text/html": [
       "<div>\n",
       "<style scoped>\n",
       "    .dataframe tbody tr th:only-of-type {\n",
       "        vertical-align: middle;\n",
       "    }\n",
       "\n",
       "    .dataframe tbody tr th {\n",
       "        vertical-align: top;\n",
       "    }\n",
       "\n",
       "    .dataframe thead th {\n",
       "        text-align: right;\n",
       "    }\n",
       "</style>\n",
       "<table border=\"1\" class=\"dataframe\">\n",
       "  <thead>\n",
       "    <tr style=\"text-align: right;\">\n",
       "      <th></th>\n",
       "      <th>ID</th>\n",
       "      <th>name</th>\n",
       "      <th>category</th>\n",
       "      <th>main_category</th>\n",
       "      <th>currency</th>\n",
       "      <th>deadline</th>\n",
       "      <th>goal</th>\n",
       "      <th>launched</th>\n",
       "      <th>pledged</th>\n",
       "      <th>state</th>\n",
       "      <th>backers</th>\n",
       "      <th>country</th>\n",
       "      <th>usd pledged</th>\n",
       "      <th>usd_pledged_real</th>\n",
       "      <th>usd_goal_real</th>\n",
       "    </tr>\n",
       "  </thead>\n",
       "  <tbody>\n",
       "    <tr>\n",
       "      <th>0</th>\n",
       "      <td>1000002330</td>\n",
       "      <td>The Songs of Adelaide &amp; Abullah</td>\n",
       "      <td>Poetry</td>\n",
       "      <td>Publishing</td>\n",
       "      <td>GBP</td>\n",
       "      <td>2015-10-09</td>\n",
       "      <td>1,000.00</td>\n",
       "      <td>2015-08-11 12:12:28</td>\n",
       "      <td>0.00</td>\n",
       "      <td>failed</td>\n",
       "      <td>0</td>\n",
       "      <td>GB</td>\n",
       "      <td>0.00</td>\n",
       "      <td>0.00</td>\n",
       "      <td>1,533.95</td>\n",
       "    </tr>\n",
       "    <tr>\n",
       "      <th>1</th>\n",
       "      <td>1000003930</td>\n",
       "      <td>Greeting From Earth: ZGAC Arts Capsule For ET</td>\n",
       "      <td>Narrative Film</td>\n",
       "      <td>Film &amp; Video</td>\n",
       "      <td>USD</td>\n",
       "      <td>2017-11-01</td>\n",
       "      <td>30,000.00</td>\n",
       "      <td>2017-09-02 04:43:57</td>\n",
       "      <td>2,421.00</td>\n",
       "      <td>failed</td>\n",
       "      <td>15</td>\n",
       "      <td>US</td>\n",
       "      <td>100.00</td>\n",
       "      <td>2,421.00</td>\n",
       "      <td>30,000.00</td>\n",
       "    </tr>\n",
       "    <tr>\n",
       "      <th>2</th>\n",
       "      <td>1000004038</td>\n",
       "      <td>Where is Hank?</td>\n",
       "      <td>Narrative Film</td>\n",
       "      <td>Film &amp; Video</td>\n",
       "      <td>USD</td>\n",
       "      <td>2013-02-26</td>\n",
       "      <td>45,000.00</td>\n",
       "      <td>2013-01-12 00:20:50</td>\n",
       "      <td>220.00</td>\n",
       "      <td>failed</td>\n",
       "      <td>3</td>\n",
       "      <td>US</td>\n",
       "      <td>220.00</td>\n",
       "      <td>220.00</td>\n",
       "      <td>45,000.00</td>\n",
       "    </tr>\n",
       "  </tbody>\n",
       "</table>\n",
       "</div>"
      ],
      "text/plain": [
       "           ID                                           name        category  \\\n",
       "0  1000002330                The Songs of Adelaide & Abullah          Poetry   \n",
       "1  1000003930  Greeting From Earth: ZGAC Arts Capsule For ET  Narrative Film   \n",
       "2  1000004038                                 Where is Hank?  Narrative Film   \n",
       "\n",
       "  main_category currency   deadline      goal            launched  pledged  \\\n",
       "0    Publishing      GBP 2015-10-09  1,000.00 2015-08-11 12:12:28     0.00   \n",
       "1  Film & Video      USD 2017-11-01 30,000.00 2017-09-02 04:43:57 2,421.00   \n",
       "2  Film & Video      USD 2013-02-26 45,000.00 2013-01-12 00:20:50   220.00   \n",
       "\n",
       "    state  backers country  usd pledged  usd_pledged_real  usd_goal_real  \n",
       "0  failed        0      GB         0.00              0.00       1,533.95  \n",
       "1  failed       15      US       100.00          2,421.00      30,000.00  \n",
       "2  failed        3      US       220.00            220.00      45,000.00  "
      ]
     },
     "execution_count": 5,
     "metadata": {},
     "output_type": "execute_result"
    }
   ],
   "source": [
    "df = pd.read_csv(\n",
    "    ZipFile('data/ks-projects-201801.csv.zip').open('ks-projects-201801.csv'), \n",
    "    parse_dates=['deadline', 'launched'])\n",
    "df.head(3)"
   ]
  },
  {
   "cell_type": "code",
   "execution_count": 6,
   "metadata": {
    "ExecuteTime": {
     "end_time": "2018-02-20T23:16:50.480566Z",
     "start_time": "2018-02-20T23:16:50.475435Z"
    }
   },
   "outputs": [
    {
     "data": {
      "text/plain": [
       "(378661, 15)"
      ]
     },
     "execution_count": 6,
     "metadata": {},
     "output_type": "execute_result"
    }
   ],
   "source": [
    "df.shape"
   ]
  },
  {
   "cell_type": "code",
   "execution_count": 7,
   "metadata": {
    "ExecuteTime": {
     "end_time": "2018-02-20T23:16:50.489905Z",
     "start_time": "2018-02-20T23:16:50.482567Z"
    }
   },
   "outputs": [],
   "source": [
    "old_columns = df.columns"
   ]
  },
  {
   "cell_type": "code",
   "execution_count": 8,
   "metadata": {
    "ExecuteTime": {
     "end_time": "2018-02-20T23:16:50.498609Z",
     "start_time": "2018-02-20T23:16:50.492368Z"
    }
   },
   "outputs": [
    {
     "data": {
      "text/plain": [
       "Index(['ID', 'name', 'category', 'main_category', 'currency', 'deadline',\n",
       "       'goal', 'launched', 'pledged', 'state', 'backers', 'country',\n",
       "       'usd pledged', 'usd_pledged_real', 'usd_goal_real'],\n",
       "      dtype='object')"
      ]
     },
     "execution_count": 8,
     "metadata": {},
     "output_type": "execute_result"
    }
   ],
   "source": [
    "old_columns"
   ]
  },
  {
   "cell_type": "code",
   "execution_count": 9,
   "metadata": {
    "ExecuteTime": {
     "end_time": "2018-02-20T23:16:50.509227Z",
     "start_time": "2018-02-20T23:16:50.500342Z"
    }
   },
   "outputs": [
    {
     "data": {
      "text/plain": [
       "['Id',\n",
       " 'Name',\n",
       " 'Category',\n",
       " 'MainCategory',\n",
       " 'Currency',\n",
       " 'Deadline',\n",
       " 'Goal',\n",
       " 'Launched',\n",
       " 'Pledged',\n",
       " 'State',\n",
       " 'Backers',\n",
       " 'Country',\n",
       " 'USDPledged',\n",
       " 'USDPledgedReal',\n",
       " 'USDGoalReal']"
      ]
     },
     "execution_count": 9,
     "metadata": {},
     "output_type": "execute_result"
    }
   ],
   "source": [
    "# Changing columns to 'camel case'\n",
    "new_cols = []\n",
    "for col in old_columns:\n",
    "    col = col.replace('_', ' ')\n",
    "    col = col.title()\n",
    "    col = col.replace(' ', '')\n",
    "    col = col.replace('Usd', 'USD')\n",
    "    new_cols.append(col)\n",
    "new_cols"
   ]
  },
  {
   "cell_type": "code",
   "execution_count": 10,
   "metadata": {
    "ExecuteTime": {
     "end_time": "2018-02-20T23:16:50.516971Z",
     "start_time": "2018-02-20T23:16:50.511082Z"
    }
   },
   "outputs": [],
   "source": [
    "df.columns = new_cols"
   ]
  },
  {
   "cell_type": "code",
   "execution_count": 11,
   "metadata": {
    "ExecuteTime": {
     "end_time": "2018-02-20T23:16:50.539957Z",
     "start_time": "2018-02-20T23:16:50.518690Z"
    }
   },
   "outputs": [
    {
     "data": {
      "text/html": [
       "<div>\n",
       "<style scoped>\n",
       "    .dataframe tbody tr th:only-of-type {\n",
       "        vertical-align: middle;\n",
       "    }\n",
       "\n",
       "    .dataframe tbody tr th {\n",
       "        vertical-align: top;\n",
       "    }\n",
       "\n",
       "    .dataframe thead th {\n",
       "        text-align: right;\n",
       "    }\n",
       "</style>\n",
       "<table border=\"1\" class=\"dataframe\">\n",
       "  <thead>\n",
       "    <tr style=\"text-align: right;\">\n",
       "      <th></th>\n",
       "      <th>Id</th>\n",
       "      <th>Name</th>\n",
       "      <th>Category</th>\n",
       "      <th>MainCategory</th>\n",
       "      <th>Currency</th>\n",
       "      <th>Deadline</th>\n",
       "      <th>Goal</th>\n",
       "      <th>Launched</th>\n",
       "      <th>Pledged</th>\n",
       "      <th>State</th>\n",
       "      <th>Backers</th>\n",
       "      <th>Country</th>\n",
       "      <th>USDPledged</th>\n",
       "      <th>USDPledgedReal</th>\n",
       "      <th>USDGoalReal</th>\n",
       "    </tr>\n",
       "  </thead>\n",
       "  <tbody>\n",
       "    <tr>\n",
       "      <th>0</th>\n",
       "      <td>1000002330</td>\n",
       "      <td>The Songs of Adelaide &amp; Abullah</td>\n",
       "      <td>Poetry</td>\n",
       "      <td>Publishing</td>\n",
       "      <td>GBP</td>\n",
       "      <td>2015-10-09</td>\n",
       "      <td>1,000.00</td>\n",
       "      <td>2015-08-11 12:12:28</td>\n",
       "      <td>0.00</td>\n",
       "      <td>failed</td>\n",
       "      <td>0</td>\n",
       "      <td>GB</td>\n",
       "      <td>0.00</td>\n",
       "      <td>0.00</td>\n",
       "      <td>1,533.95</td>\n",
       "    </tr>\n",
       "    <tr>\n",
       "      <th>1</th>\n",
       "      <td>1000003930</td>\n",
       "      <td>Greeting From Earth: ZGAC Arts Capsule For ET</td>\n",
       "      <td>Narrative Film</td>\n",
       "      <td>Film &amp; Video</td>\n",
       "      <td>USD</td>\n",
       "      <td>2017-11-01</td>\n",
       "      <td>30,000.00</td>\n",
       "      <td>2017-09-02 04:43:57</td>\n",
       "      <td>2,421.00</td>\n",
       "      <td>failed</td>\n",
       "      <td>15</td>\n",
       "      <td>US</td>\n",
       "      <td>100.00</td>\n",
       "      <td>2,421.00</td>\n",
       "      <td>30,000.00</td>\n",
       "    </tr>\n",
       "  </tbody>\n",
       "</table>\n",
       "</div>"
      ],
      "text/plain": [
       "           Id                                           Name        Category  \\\n",
       "0  1000002330                The Songs of Adelaide & Abullah          Poetry   \n",
       "1  1000003930  Greeting From Earth: ZGAC Arts Capsule For ET  Narrative Film   \n",
       "\n",
       "   MainCategory Currency   Deadline      Goal            Launched  Pledged  \\\n",
       "0    Publishing      GBP 2015-10-09  1,000.00 2015-08-11 12:12:28     0.00   \n",
       "1  Film & Video      USD 2017-11-01 30,000.00 2017-09-02 04:43:57 2,421.00   \n",
       "\n",
       "    State  Backers Country  USDPledged  USDPledgedReal  USDGoalReal  \n",
       "0  failed        0      GB        0.00            0.00     1,533.95  \n",
       "1  failed       15      US      100.00        2,421.00    30,000.00  "
      ]
     },
     "execution_count": 11,
     "metadata": {},
     "output_type": "execute_result"
    }
   ],
   "source": [
    "df.head(2)"
   ]
  },
  {
   "cell_type": "code",
   "execution_count": 12,
   "metadata": {
    "ExecuteTime": {
     "end_time": "2018-02-20T23:16:50.751214Z",
     "start_time": "2018-02-20T23:16:50.541975Z"
    }
   },
   "outputs": [
    {
     "name": "stdout",
     "output_type": "stream",
     "text": [
      "<class 'pandas.core.frame.DataFrame'>\n",
      "RangeIndex: 378661 entries, 0 to 378660\n",
      "Data columns (total 15 columns):\n",
      "Id                378661 non-null int64\n",
      "Name              378657 non-null object\n",
      "Category          378661 non-null object\n",
      "MainCategory      378661 non-null object\n",
      "Currency          378661 non-null object\n",
      "Deadline          378661 non-null datetime64[ns]\n",
      "Goal              378661 non-null float64\n",
      "Launched          378661 non-null datetime64[ns]\n",
      "Pledged           378661 non-null float64\n",
      "State             378661 non-null object\n",
      "Backers           378661 non-null int64\n",
      "Country           378661 non-null object\n",
      "USDPledged        374864 non-null float64\n",
      "USDPledgedReal    378661 non-null float64\n",
      "USDGoalReal       378661 non-null float64\n",
      "dtypes: datetime64[ns](2), float64(5), int64(2), object(6)\n",
      "memory usage: 43.3+ MB\n"
     ]
    }
   ],
   "source": [
    "df.info()"
   ]
  },
  {
   "cell_type": "code",
   "execution_count": 13,
   "metadata": {
    "ExecuteTime": {
     "end_time": "2018-02-20T23:16:51.306080Z",
     "start_time": "2018-02-20T23:16:50.753445Z"
    }
   },
   "outputs": [
    {
     "data": {
      "image/png": "[encoded data removed]",
      "text/plain": [
       "<matplotlib.figure.Figure at 0x1144ba4e0>"
      ]
     },
     "metadata": {},
     "output_type": "display_data"
    }
   ],
   "source": [
    "plt.figure(figsize=(12, 12))\n",
    "plt.axes(frameon=False)\n",
    "df.MainCategory.value_counts().sort_values(ascending=True).plot(kind='barh', color=MC);\n",
    "plt.grid(axis='x', color=SC)\n",
    "plt.title('Main Categories');"
   ]
  },
  {
   "cell_type": "code",
   "execution_count": 14,
   "metadata": {
    "ExecuteTime": {
     "end_time": "2018-02-20T23:16:51.418788Z",
     "start_time": "2018-02-20T23:16:51.308268Z"
    }
   },
   "outputs": [
    {
     "name": "stdout",
     "output_type": "stream",
     "text": [
      "THERE ARE 159 CATEGORIES.\n"
     ]
    },
    {
     "data": {
      "text/plain": [
       "Product Design       22314\n",
       "Documentary          16139\n",
       "Music                15727\n",
       "Tabletop Games       14180\n",
       "Shorts               12357\n",
       "Video Games          11830\n",
       "Food                 11493\n",
       "Film & Video         10108\n",
       "Fiction               9169\n",
       "Fashion               8554\n",
       "Nonfiction            8318\n",
       "Art                   8253\n",
       "Apparel               7166\n",
       "Theater               7057\n",
       "Technology            6930\n",
       "Rock                  6758\n",
       "Children's Books      6756\n",
       "Apps                  6345\n",
       "Publishing            6018\n",
       "Webseries             5762\n",
       "Photography           5752\n",
       "Indie Rock            5657\n",
       "Narrative Film        5188\n",
       "Web                   5153\n",
       "Comics                4996\n",
       "Crafts                4664\n",
       "Country & Folk        4451\n",
       "Design                4199\n",
       "Hip-Hop               3912\n",
       "Hardware              3663\n",
       "                     ...  \n",
       "Couture                275\n",
       "Blues                  268\n",
       "Animals                255\n",
       "Fabrication Tools      250\n",
       "Makerspaces            238\n",
       "Printing               238\n",
       "Movie Theaters         232\n",
       "Puzzles                231\n",
       "Bacon                  221\n",
       "Stationery             219\n",
       "Photo                  196\n",
       "Video Art              194\n",
       "Romance                190\n",
       "Knitting               181\n",
       "Workshops              164\n",
       "Crochet                162\n",
       "Translations           153\n",
       "Pet Fashion            139\n",
       "Glass                  138\n",
       "Latin                  137\n",
       "Embroidery             113\n",
       "Typography             108\n",
       "Pottery                100\n",
       "Weaving                 93\n",
       "Quilts                  81\n",
       "Residencies             69\n",
       "Letterpress             49\n",
       "Chiptune                35\n",
       "Literary Spaces         27\n",
       "Taxidermy               13\n",
       "Name: Category, Length: 159, dtype: int64"
      ]
     },
     "execution_count": 14,
     "metadata": {},
     "output_type": "execute_result"
    }
   ],
   "source": [
    "categories_num = len(df.Category.value_counts())\n",
    "print(f'There are {categories_num} categories.'.upper())\n",
    "df.Category.value_counts()"
   ]
  },
  {
   "cell_type": "code",
   "execution_count": 15,
   "metadata": {
    "ExecuteTime": {
     "end_time": "2018-02-20T23:16:51.753522Z",
     "start_time": "2018-02-20T23:16:51.420641Z"
    }
   },
   "outputs": [
    {
     "data": {
      "image/png": "[encoded data removed]",
      "text/plain": [
       "<matplotlib.figure.Figure at 0x11d8150b8>"
      ]
     },
     "metadata": {},
     "output_type": "display_data"
    }
   ],
   "source": [
    "plt.figure(figsize=(8, 12))\n",
    "plt.axes(frameon=False)\n",
    "df.Category.value_counts()[:20].sort_values(ascending=True).plot(kind='barh', color=MC);\n",
    "plt.grid(axis='x', color=SC)\n",
    "plt.title('Top 20 Categories');"
   ]
  },
  {
   "cell_type": "code",
   "execution_count": 16,
   "metadata": {
    "ExecuteTime": {
     "end_time": "2018-02-20T23:16:51.770813Z",
     "start_time": "2018-02-20T23:16:51.755998Z"
    }
   },
   "outputs": [
    {
     "data": {
      "text/html": [
       "<div>\n",
       "<style scoped>\n",
       "    .dataframe tbody tr th:only-of-type {\n",
       "        vertical-align: middle;\n",
       "    }\n",
       "\n",
       "    .dataframe tbody tr th {\n",
       "        vertical-align: top;\n",
       "    }\n",
       "\n",
       "    .dataframe thead th {\n",
       "        text-align: right;\n",
       "    }\n",
       "</style>\n",
       "<table border=\"1\" class=\"dataframe\">\n",
       "  <thead>\n",
       "    <tr style=\"text-align: right;\">\n",
       "      <th></th>\n",
       "      <th>Id</th>\n",
       "      <th>Name</th>\n",
       "      <th>Category</th>\n",
       "      <th>MainCategory</th>\n",
       "      <th>Currency</th>\n",
       "      <th>Deadline</th>\n",
       "      <th>Goal</th>\n",
       "      <th>Launched</th>\n",
       "      <th>Pledged</th>\n",
       "      <th>State</th>\n",
       "      <th>Backers</th>\n",
       "      <th>Country</th>\n",
       "      <th>USDPledged</th>\n",
       "      <th>USDPledgedReal</th>\n",
       "      <th>USDGoalReal</th>\n",
       "    </tr>\n",
       "  </thead>\n",
       "  <tbody>\n",
       "    <tr>\n",
       "      <th>0</th>\n",
       "      <td>1000002330</td>\n",
       "      <td>The Songs of Adelaide &amp; Abullah</td>\n",
       "      <td>Poetry</td>\n",
       "      <td>Publishing</td>\n",
       "      <td>GBP</td>\n",
       "      <td>2015-10-09</td>\n",
       "      <td>1,000.00</td>\n",
       "      <td>2015-08-11 12:12:28</td>\n",
       "      <td>0.00</td>\n",
       "      <td>failed</td>\n",
       "      <td>0</td>\n",
       "      <td>GB</td>\n",
       "      <td>0.00</td>\n",
       "      <td>0.00</td>\n",
       "      <td>1,533.95</td>\n",
       "    </tr>\n",
       "    <tr>\n",
       "      <th>1</th>\n",
       "      <td>1000003930</td>\n",
       "      <td>Greeting From Earth: ZGAC Arts Capsule For ET</td>\n",
       "      <td>Narrative Film</td>\n",
       "      <td>Film &amp; Video</td>\n",
       "      <td>USD</td>\n",
       "      <td>2017-11-01</td>\n",
       "      <td>30,000.00</td>\n",
       "      <td>2017-09-02 04:43:57</td>\n",
       "      <td>2,421.00</td>\n",
       "      <td>failed</td>\n",
       "      <td>15</td>\n",
       "      <td>US</td>\n",
       "      <td>100.00</td>\n",
       "      <td>2,421.00</td>\n",
       "      <td>30,000.00</td>\n",
       "    </tr>\n",
       "    <tr>\n",
       "      <th>2</th>\n",
       "      <td>1000004038</td>\n",
       "      <td>Where is Hank?</td>\n",
       "      <td>Narrative Film</td>\n",
       "      <td>Film &amp; Video</td>\n",
       "      <td>USD</td>\n",
       "      <td>2013-02-26</td>\n",
       "      <td>45,000.00</td>\n",
       "      <td>2013-01-12 00:20:50</td>\n",
       "      <td>220.00</td>\n",
       "      <td>failed</td>\n",
       "      <td>3</td>\n",
       "      <td>US</td>\n",
       "      <td>220.00</td>\n",
       "      <td>220.00</td>\n",
       "      <td>45,000.00</td>\n",
       "    </tr>\n",
       "    <tr>\n",
       "      <th>3</th>\n",
       "      <td>1000007540</td>\n",
       "      <td>ToshiCapital Rekordz Needs Help to Complete Album</td>\n",
       "      <td>Music</td>\n",
       "      <td>Music</td>\n",
       "      <td>USD</td>\n",
       "      <td>2012-04-16</td>\n",
       "      <td>5,000.00</td>\n",
       "      <td>2012-03-17 03:24:11</td>\n",
       "      <td>1.00</td>\n",
       "      <td>failed</td>\n",
       "      <td>1</td>\n",
       "      <td>US</td>\n",
       "      <td>1.00</td>\n",
       "      <td>1.00</td>\n",
       "      <td>5,000.00</td>\n",
       "    </tr>\n",
       "    <tr>\n",
       "      <th>4</th>\n",
       "      <td>1000011046</td>\n",
       "      <td>Community Film Project: The Art of Neighborhoo...</td>\n",
       "      <td>Film &amp; Video</td>\n",
       "      <td>Film &amp; Video</td>\n",
       "      <td>USD</td>\n",
       "      <td>2015-08-29</td>\n",
       "      <td>19,500.00</td>\n",
       "      <td>2015-07-04 08:35:03</td>\n",
       "      <td>1,283.00</td>\n",
       "      <td>canceled</td>\n",
       "      <td>14</td>\n",
       "      <td>US</td>\n",
       "      <td>1,283.00</td>\n",
       "      <td>1,283.00</td>\n",
       "      <td>19,500.00</td>\n",
       "    </tr>\n",
       "  </tbody>\n",
       "</table>\n",
       "</div>"
      ],
      "text/plain": [
       "           Id                                               Name  \\\n",
       "0  1000002330                    The Songs of Adelaide & Abullah   \n",
       "1  1000003930      Greeting From Earth: ZGAC Arts Capsule For ET   \n",
       "2  1000004038                                     Where is Hank?   \n",
       "3  1000007540  ToshiCapital Rekordz Needs Help to Complete Album   \n",
       "4  1000011046  Community Film Project: The Art of Neighborhoo...   \n",
       "\n",
       "         Category  MainCategory Currency   Deadline      Goal  \\\n",
       "0          Poetry    Publishing      GBP 2015-10-09  1,000.00   \n",
       "1  Narrative Film  Film & Video      USD 2017-11-01 30,000.00   \n",
       "2  Narrative Film  Film & Video      USD 2013-02-26 45,000.00   \n",
       "3           Music         Music      USD 2012-04-16  5,000.00   \n",
       "4    Film & Video  Film & Video      USD 2015-08-29 19,500.00   \n",
       "\n",
       "             Launched  Pledged     State  Backers Country  USDPledged  \\\n",
       "0 2015-08-11 12:12:28     0.00    failed        0      GB        0.00   \n",
       "1 2017-09-02 04:43:57 2,421.00    failed       15      US      100.00   \n",
       "2 2013-01-12 00:20:50   220.00    failed        3      US      220.00   \n",
       "3 2012-03-17 03:24:11     1.00    failed        1      US        1.00   \n",
       "4 2015-07-04 08:35:03 1,283.00  canceled       14      US    1,283.00   \n",
       "\n",
       "   USDPledgedReal  USDGoalReal  \n",
       "0            0.00     1,533.95  \n",
       "1        2,421.00    30,000.00  \n",
       "2          220.00    45,000.00  \n",
       "3            1.00     5,000.00  \n",
       "4        1,283.00    19,500.00  "
      ]
     },
     "execution_count": 16,
     "metadata": {},
     "output_type": "execute_result"
    }
   ],
   "source": [
    "df.head()"
   ]
  },
  {
   "cell_type": "code",
   "execution_count": 17,
   "metadata": {
    "ExecuteTime": {
     "end_time": "2018-02-20T23:16:52.142801Z",
     "start_time": "2018-02-20T23:16:51.772338Z"
    }
   },
   "outputs": [
    {
     "data": {
      "image/png": "[encoded data removed]",
      "text/plain": [
       "<matplotlib.figure.Figure at 0x11679cf28>"
      ]
     },
     "metadata": {},
     "output_type": "display_data"
    }
   ],
   "source": [
    "plt.figure(figsize=(12, 12))\n",
    "plt.axes(frameon=False)\n",
    "df.Currency.value_counts().sort_values(ascending=True).plot(kind='barh', color=MC);\n",
    "plt.grid(axis='x', color=SC)\n",
    "plt.title('Top Currencies');"
   ]
  },
  {
   "cell_type": "code",
   "execution_count": 18,
   "metadata": {
    "ExecuteTime": {
     "end_time": "2018-02-20T23:16:52.216426Z",
     "start_time": "2018-02-20T23:16:52.144584Z"
    }
   },
   "outputs": [
    {
     "data": {
      "text/plain": [
       "failed        197719\n",
       "successful    133956\n",
       "canceled       38779\n",
       "undefined       3562\n",
       "live            2799\n",
       "suspended       1846\n",
       "Name: State, dtype: int64"
      ]
     },
     "execution_count": 18,
     "metadata": {},
     "output_type": "execute_result"
    }
   ],
   "source": [
    "df.State.value_counts()"
   ]
  },
  {
   "cell_type": "code",
   "execution_count": 19,
   "metadata": {
    "ExecuteTime": {
     "end_time": "2018-02-20T23:16:52.466232Z",
     "start_time": "2018-02-20T23:16:52.217816Z"
    }
   },
   "outputs": [
    {
     "data": {
      "image/png": "[encoded data removed]",
      "text/plain": [
       "<matplotlib.figure.Figure at 0x119b00f28>"
      ]
     },
     "metadata": {},
     "output_type": "display_data"
    }
   ],
   "source": [
    "plt.axes(frameon=False)\n",
    "df.State.value_counts().sort_values(ascending=True).plot(kind='barh', color=MC);\n",
    "plt.grid(axis='x', color=SC)\n",
    "plt.title('Top Currencies');"
   ]
  },
  {
   "cell_type": "code",
   "execution_count": 20,
   "metadata": {
    "ExecuteTime": {
     "end_time": "2018-02-20T23:16:52.831591Z",
     "start_time": "2018-02-20T23:16:52.467897Z"
    }
   },
   "outputs": [
    {
     "data": {
      "image/png": "[encoded data removed]",
      "text/plain": [
       "<matplotlib.figure.Figure at 0x11611aac8>"
      ]
     },
     "metadata": {},
     "output_type": "display_data"
    }
   ],
   "source": [
    "plt.figure(figsize=(12, 12))\n",
    "plt.axes(frameon=False)\n",
    "df.Country.value_counts().sort_values(ascending=True).plot(kind='barh', color=MC);\n",
    "plt.grid(axis='x', color=SC)\n",
    "plt.title('Top Countries');"
   ]
  },
  {
   "cell_type": "code",
   "execution_count": 21,
   "metadata": {
    "ExecuteTime": {
     "end_time": "2018-02-20T23:16:52.839807Z",
     "start_time": "2018-02-20T23:16:52.833064Z"
    }
   },
   "outputs": [],
   "source": [
    "df[df.Launched < '2000'].Launched = np.nan"
   ]
  },
  {
   "cell_type": "code",
   "execution_count": 22,
   "metadata": {
    "ExecuteTime": {
     "end_time": "2018-02-20T23:16:52.864002Z",
     "start_time": "2018-02-20T23:16:52.841445Z"
    }
   },
   "outputs": [
    {
     "data": {
      "text/html": [
       "<div>\n",
       "<style scoped>\n",
       "    .dataframe tbody tr th:only-of-type {\n",
       "        vertical-align: middle;\n",
       "    }\n",
       "\n",
       "    .dataframe tbody tr th {\n",
       "        vertical-align: top;\n",
       "    }\n",
       "\n",
       "    .dataframe thead th {\n",
       "        text-align: right;\n",
       "    }\n",
       "</style>\n",
       "<table border=\"1\" class=\"dataframe\">\n",
       "  <thead>\n",
       "    <tr style=\"text-align: right;\">\n",
       "      <th></th>\n",
       "      <th>Id</th>\n",
       "      <th>Name</th>\n",
       "      <th>Category</th>\n",
       "      <th>MainCategory</th>\n",
       "      <th>Currency</th>\n",
       "      <th>Deadline</th>\n",
       "      <th>Goal</th>\n",
       "      <th>Launched</th>\n",
       "      <th>Pledged</th>\n",
       "      <th>State</th>\n",
       "      <th>Backers</th>\n",
       "      <th>Country</th>\n",
       "      <th>USDPledged</th>\n",
       "      <th>USDPledgedReal</th>\n",
       "      <th>USDGoalReal</th>\n",
       "    </tr>\n",
       "  </thead>\n",
       "  <tbody>\n",
       "    <tr>\n",
       "      <th>2842</th>\n",
       "      <td>1014746686</td>\n",
       "      <td>Salt of the Earth: A Dead Sea Movie (Canceled)</td>\n",
       "      <td>Film &amp; Video</td>\n",
       "      <td>Film &amp; Video</td>\n",
       "      <td>USD</td>\n",
       "      <td>2010-09-15</td>\n",
       "      <td>5,000.00</td>\n",
       "      <td>1970-01-01 01:00:00</td>\n",
       "      <td>0.00</td>\n",
       "      <td>canceled</td>\n",
       "      <td>0</td>\n",
       "      <td>US</td>\n",
       "      <td>0.00</td>\n",
       "      <td>0.00</td>\n",
       "      <td>5,000.00</td>\n",
       "    </tr>\n",
       "    <tr>\n",
       "      <th>48147</th>\n",
       "      <td>1245461087</td>\n",
       "      <td>1st Super-Size Painting - Social Network Owned...</td>\n",
       "      <td>Art</td>\n",
       "      <td>Art</td>\n",
       "      <td>USD</td>\n",
       "      <td>2010-08-14</td>\n",
       "      <td>15,000.00</td>\n",
       "      <td>1970-01-01 01:00:00</td>\n",
       "      <td>0.00</td>\n",
       "      <td>canceled</td>\n",
       "      <td>0</td>\n",
       "      <td>US</td>\n",
       "      <td>0.00</td>\n",
       "      <td>0.00</td>\n",
       "      <td>15,000.00</td>\n",
       "    </tr>\n",
       "    <tr>\n",
       "      <th>75397</th>\n",
       "      <td>1384087152</td>\n",
       "      <td>\"ICHOR\"  (Canceled)</td>\n",
       "      <td>Film &amp; Video</td>\n",
       "      <td>Film &amp; Video</td>\n",
       "      <td>USD</td>\n",
       "      <td>2010-05-21</td>\n",
       "      <td>700.00</td>\n",
       "      <td>1970-01-01 01:00:00</td>\n",
       "      <td>0.00</td>\n",
       "      <td>canceled</td>\n",
       "      <td>0</td>\n",
       "      <td>US</td>\n",
       "      <td>0.00</td>\n",
       "      <td>0.00</td>\n",
       "      <td>700.00</td>\n",
       "    </tr>\n",
       "    <tr>\n",
       "      <th>94579</th>\n",
       "      <td>1480763647</td>\n",
       "      <td>Support Solo Theater! Help \"Ungrateful Daughte...</td>\n",
       "      <td>Theater</td>\n",
       "      <td>Theater</td>\n",
       "      <td>USD</td>\n",
       "      <td>2010-06-01</td>\n",
       "      <td>4,000.00</td>\n",
       "      <td>1970-01-01 01:00:00</td>\n",
       "      <td>0.00</td>\n",
       "      <td>canceled</td>\n",
       "      <td>0</td>\n",
       "      <td>US</td>\n",
       "      <td>0.00</td>\n",
       "      <td>0.00</td>\n",
       "      <td>4,000.00</td>\n",
       "    </tr>\n",
       "    <tr>\n",
       "      <th>247913</th>\n",
       "      <td>330942060</td>\n",
       "      <td>Help RIZ Make A Charity Album: 8 Songs, 8 Caus...</td>\n",
       "      <td>Music</td>\n",
       "      <td>Music</td>\n",
       "      <td>USD</td>\n",
       "      <td>2010-05-04</td>\n",
       "      <td>10,000.00</td>\n",
       "      <td>1970-01-01 01:00:00</td>\n",
       "      <td>0.00</td>\n",
       "      <td>canceled</td>\n",
       "      <td>0</td>\n",
       "      <td>US</td>\n",
       "      <td>0.00</td>\n",
       "      <td>0.00</td>\n",
       "      <td>10,000.00</td>\n",
       "    </tr>\n",
       "    <tr>\n",
       "      <th>273779</th>\n",
       "      <td>462917959</td>\n",
       "      <td>Identity Communications Infographic (Canceled)</td>\n",
       "      <td>Design</td>\n",
       "      <td>Design</td>\n",
       "      <td>USD</td>\n",
       "      <td>2010-04-10</td>\n",
       "      <td>500.00</td>\n",
       "      <td>1970-01-01 01:00:00</td>\n",
       "      <td>0.00</td>\n",
       "      <td>canceled</td>\n",
       "      <td>0</td>\n",
       "      <td>US</td>\n",
       "      <td>0.00</td>\n",
       "      <td>0.00</td>\n",
       "      <td>500.00</td>\n",
       "    </tr>\n",
       "    <tr>\n",
       "      <th>319002</th>\n",
       "      <td>69489148</td>\n",
       "      <td>Student Auditions Music 2015</td>\n",
       "      <td>Publishing</td>\n",
       "      <td>Publishing</td>\n",
       "      <td>CHF</td>\n",
       "      <td>2015-10-31</td>\n",
       "      <td>1,900.00</td>\n",
       "      <td>1970-01-01 01:00:00</td>\n",
       "      <td>0.00</td>\n",
       "      <td>suspended</td>\n",
       "      <td>0</td>\n",
       "      <td>CH</td>\n",
       "      <td>0.00</td>\n",
       "      <td>0.00</td>\n",
       "      <td>1,905.97</td>\n",
       "    </tr>\n",
       "  </tbody>\n",
       "</table>\n",
       "</div>"
      ],
      "text/plain": [
       "                Id                                               Name  \\\n",
       "2842    1014746686     Salt of the Earth: A Dead Sea Movie (Canceled)   \n",
       "48147   1245461087  1st Super-Size Painting - Social Network Owned...   \n",
       "75397   1384087152                                \"ICHOR\"  (Canceled)   \n",
       "94579   1480763647  Support Solo Theater! Help \"Ungrateful Daughte...   \n",
       "247913   330942060  Help RIZ Make A Charity Album: 8 Songs, 8 Caus...   \n",
       "273779   462917959     Identity Communications Infographic (Canceled)   \n",
       "319002    69489148                       Student Auditions Music 2015   \n",
       "\n",
       "            Category  MainCategory Currency   Deadline      Goal  \\\n",
       "2842    Film & Video  Film & Video      USD 2010-09-15  5,000.00   \n",
       "48147            Art           Art      USD 2010-08-14 15,000.00   \n",
       "75397   Film & Video  Film & Video      USD 2010-05-21    700.00   \n",
       "94579        Theater       Theater      USD 2010-06-01  4,000.00   \n",
       "247913         Music         Music      USD 2010-05-04 10,000.00   \n",
       "273779        Design        Design      USD 2010-04-10    500.00   \n",
       "319002    Publishing    Publishing      CHF 2015-10-31  1,900.00   \n",
       "\n",
       "                  Launched  Pledged      State  Backers Country  USDPledged  \\\n",
       "2842   1970-01-01 01:00:00     0.00   canceled        0      US        0.00   \n",
       "48147  1970-01-01 01:00:00     0.00   canceled        0      US        0.00   \n",
       "75397  1970-01-01 01:00:00     0.00   canceled        0      US        0.00   \n",
       "94579  1970-01-01 01:00:00     0.00   canceled        0      US        0.00   \n",
       "247913 1970-01-01 01:00:00     0.00   canceled        0      US        0.00   \n",
       "273779 1970-01-01 01:00:00     0.00   canceled        0      US        0.00   \n",
       "319002 1970-01-01 01:00:00     0.00  suspended        0      CH        0.00   \n",
       "\n",
       "        USDPledgedReal  USDGoalReal  \n",
       "2842              0.00     5,000.00  \n",
       "48147             0.00    15,000.00  \n",
       "75397             0.00       700.00  \n",
       "94579             0.00     4,000.00  \n",
       "247913            0.00    10,000.00  \n",
       "273779            0.00       500.00  \n",
       "319002            0.00     1,905.97  "
      ]
     },
     "execution_count": 22,
     "metadata": {},
     "output_type": "execute_result"
    }
   ],
   "source": [
    "df[df.Launched < '2000']"
   ]
  },
  {
   "cell_type": "code",
   "execution_count": 23,
   "metadata": {
    "ExecuteTime": {
     "end_time": "2018-02-20T23:16:53.199204Z",
     "start_time": "2018-02-20T23:16:52.865536Z"
    }
   },
   "outputs": [
    {
     "data": {
      "image/png": "[encoded data removed]",
      "text/plain": [
       "<matplotlib.figure.Figure at 0x11488ca90>"
      ]
     },
     "metadata": {},
     "output_type": "display_data"
    }
   ],
   "source": [
    "df.Launched.dt.round('D').value_counts().sort_values().plot(color=MC)\n",
    "plt.xlim(['2009', '2018']);\n",
    "plt.title('Frequency of Launches by Day', y=1.02);"
   ]
  },
  {
   "cell_type": "code",
   "execution_count": 28,
   "metadata": {
    "ExecuteTime": {
     "end_time": "2018-02-20T23:20:11.089902Z",
     "start_time": "2018-02-20T23:20:11.010058Z"
    }
   },
   "outputs": [
    {
     "data": {
      "text/plain": [
       "Product Design       22314\n",
       "Documentary          16139\n",
       "Music                15727\n",
       "Tabletop Games       14180\n",
       "Shorts               12357\n",
       "Video Games          11830\n",
       "Food                 11493\n",
       "Film & Video         10108\n",
       "Fiction               9169\n",
       "Fashion               8554\n",
       "Nonfiction            8318\n",
       "Art                   8253\n",
       "Apparel               7166\n",
       "Theater               7057\n",
       "Technology            6930\n",
       "Rock                  6758\n",
       "Children's Books      6756\n",
       "Apps                  6345\n",
       "Publishing            6018\n",
       "Webseries             5762\n",
       "Photography           5752\n",
       "Indie Rock            5657\n",
       "Narrative Film        5188\n",
       "Web                   5153\n",
       "Comics                4996\n",
       "Crafts                4664\n",
       "Country & Folk        4451\n",
       "Design                4199\n",
       "Hip-Hop               3912\n",
       "Hardware              3663\n",
       "                     ...  \n",
       "Couture                275\n",
       "Blues                  268\n",
       "Animals                255\n",
       "Fabrication Tools      250\n",
       "Makerspaces            238\n",
       "Printing               238\n",
       "Movie Theaters         232\n",
       "Puzzles                231\n",
       "Bacon                  221\n",
       "Stationery             219\n",
       "Photo                  196\n",
       "Video Art              194\n",
       "Romance                190\n",
       "Knitting               181\n",
       "Workshops              164\n",
       "Crochet                162\n",
       "Translations           153\n",
       "Pet Fashion            139\n",
       "Glass                  138\n",
       "Latin                  137\n",
       "Embroidery             113\n",
       "Typography             108\n",
       "Pottery                100\n",
       "Weaving                 93\n",
       "Quilts                  81\n",
       "Residencies             69\n",
       "Letterpress             49\n",
       "Chiptune                35\n",
       "Literary Spaces         27\n",
       "Taxidermy               13\n",
       "Name: Category, Length: 159, dtype: int64"
      ]
     },
     "execution_count": 28,
     "metadata": {},
     "output_type": "execute_result"
    }
   ],
   "source": [
    "df.Category.value_counts()"
   ]
  },
  {
   "cell_type": "code",
   "execution_count": 47,
   "metadata": {
    "ExecuteTime": {
     "end_time": "2018-02-20T23:25:05.582209Z",
     "start_time": "2018-02-20T23:25:05.332564Z"
    }
   },
   "outputs": [
    {
     "data": {
      "image/png": "[encoded data removed]",
      "text/plain": [
       "<matplotlib.figure.Figure at 0x116dafe80>"
      ]
     },
     "metadata": {},
     "output_type": "display_data"
    }
   ],
   "source": [
    "top_num = 10\n",
    "plt.axes(frameon=False)\n",
    "df.groupby('Category').Pledged.mean().sort_values(ascending=False)[:top_num].sort_values().plot(kind='barh', color=MC)\n",
    "plt.grid(axis='x', color=SC)\n",
    "plt.title(f'Top {top_num} Countries by Average Pledge', y=1.02);"
   ]
  },
  {
   "cell_type": "code",
   "execution_count": 51,
   "metadata": {
    "ExecuteTime": {
     "end_time": "2018-02-20T23:27:22.000774Z",
     "start_time": "2018-02-20T23:27:21.994602Z"
    }
   },
   "outputs": [],
   "source": [
    "df['GoalPledged'] = df.Pledged - df.Goal"
   ]
  },
  {
   "cell_type": "code",
   "execution_count": 54,
   "metadata": {
    "ExecuteTime": {
     "end_time": "2018-02-20T23:27:58.398839Z",
     "start_time": "2018-02-20T23:27:58.372955Z"
    }
   },
   "outputs": [
    {
     "data": {
      "text/plain": [
       "Category\n",
       "Movie Theaters      -1,545,067.39\n",
       "Fantasy               -597,699.29\n",
       "Space Exploration     -584,319.91\n",
       "Video                 -556,386.31\n",
       "Architecture          -459,162.51\n",
       "Science Fiction       -416,504.39\n",
       "Television            -405,268.22\n",
       "Action                -332,741.41\n",
       "Translations          -256,397.07\n",
       "Thrillers             -244,584.79\n",
       "Robots                -220,172.61\n",
       "Drama                 -203,585.98\n",
       "Live Games            -174,479.29\n",
       "Fabrication Tools     -164,807.96\n",
       "Technology            -161,087.45\n",
       "Installations         -151,354.39\n",
       "Civic Design          -147,004.55\n",
       "Immersive             -145,973.59\n",
       "Young Adult           -145,713.20\n",
       "Horror                -142,386.10\n",
       "Software              -141,910.15\n",
       "Makerspaces           -132,263.76\n",
       "Flight                -119,533.70\n",
       "Farms                 -115,832.94\n",
       "Restaurants           -106,074.30\n",
       "Spaces                 -97,444.63\n",
       "Web                    -89,185.47\n",
       "Animation              -85,965.17\n",
       "Family                 -85,037.08\n",
       "Gaming Hardware        -83,363.99\n",
       "                         ...     \n",
       "Art Books               -6,267.75\n",
       "Literary Journals       -5,689.44\n",
       "Rock                    -5,662.44\n",
       "Classical Music         -5,660.01\n",
       "Candles                 -5,088.78\n",
       "Jazz                    -4,516.37\n",
       "Dance                   -4,399.91\n",
       "Pottery                 -4,253.45\n",
       "Poetry                  -4,077.16\n",
       "Product Design          -3,975.99\n",
       "Wearables               -3,485.82\n",
       "Crochet                 -3,476.70\n",
       "Playing Cards           -3,276.19\n",
       "Embroidery              -2,923.00\n",
       "Graphic Novels          -2,908.69\n",
       "Calendars               -2,537.41\n",
       "Comic Books             -2,418.72\n",
       "Indie Rock              -2,243.15\n",
       "Knitting                -1,718.72\n",
       "Graphic Design          -1,679.37\n",
       "Webcomics               -1,395.48\n",
       "Stationery                 123.91\n",
       "Anthologies                370.63\n",
       "Letterpress              3,640.14\n",
       "Typography               6,273.81\n",
       "Chiptune                10,793.06\n",
       "Sound                   15,323.96\n",
       "Tabletop Games          18,306.56\n",
       "3D Printing             23,388.95\n",
       "Camera Equipment        42,876.93\n",
       "Name: GoalPledged, Length: 159, dtype: float64"
      ]
     },
     "execution_count": 54,
     "metadata": {},
     "output_type": "execute_result"
    }
   ],
   "source": [
    "df.groupby('Category').GoalPledged.mean().sort_values()"
   ]
  },
  {
   "cell_type": "code",
   "execution_count": 108,
   "metadata": {
    "ExecuteTime": {
     "end_time": "2018-02-20T23:42:38.977904Z",
     "start_time": "2018-02-20T23:42:38.637499Z"
    }
   },
   "outputs": [
    {
     "data": {
      "image/png": "[encoded data removed]",
      "text/plain": [
       "<matplotlib.figure.Figure at 0x11a376390>"
      ]
     },
     "metadata": {},
     "output_type": "display_data"
    }
   ],
   "source": [
    "plt.axes(frameon=False)\n",
    "df.groupby('Category').GoalPledged.mean().sort_values(ascending=False)[:top_num].sort_values().plot(kind='barh', color=MC)\n",
    "plt.grid(axis='x', color=SC)\n",
    "plt.title(f'Hopes vs Reality [Average Goal and Pleadged difference] - Top Categories', y=1.02);"
   ]
  },
  {
   "cell_type": "code",
   "execution_count": 109,
   "metadata": {
    "ExecuteTime": {
     "end_time": "2018-02-20T23:42:39.735279Z",
     "start_time": "2018-02-20T23:42:39.457438Z"
    }
   },
   "outputs": [
    {
     "data": {
      "image/png": "[encoded data removed]",
      "text/plain": [
       "<matplotlib.figure.Figure at 0x11a0caeb8>"
      ]
     },
     "metadata": {},
     "output_type": "display_data"
    }
   ],
   "source": [
    "plt.axes(frameon=False)\n",
    "df.groupby('Category').GoalPledged.mean().sort_values()[:top_num].sort_values(ascending=False).plot(kind='barh', color=MC)\n",
    "plt.grid(axis='x', color=SC)\n",
    "plt.title(f'Hopes vs Reality [Average Goal and Pleadged difference] - Worst Categories', y=1.02);"
   ]
  },
  {
   "cell_type": "code",
   "execution_count": 72,
   "metadata": {
    "ExecuteTime": {
     "end_time": "2018-02-20T23:33:08.807862Z",
     "start_time": "2018-02-20T23:33:08.737799Z"
    }
   },
   "outputs": [
    {
     "data": {
      "text/html": [
       "<div>\n",
       "<style scoped>\n",
       "    .dataframe tbody tr th:only-of-type {\n",
       "        vertical-align: middle;\n",
       "    }\n",
       "\n",
       "    .dataframe tbody tr th {\n",
       "        vertical-align: top;\n",
       "    }\n",
       "\n",
       "    .dataframe thead th {\n",
       "        text-align: right;\n",
       "    }\n",
       "</style>\n",
       "<table border=\"1\" class=\"dataframe\">\n",
       "  <thead>\n",
       "    <tr style=\"text-align: right;\">\n",
       "      <th></th>\n",
       "      <th>Name</th>\n",
       "      <th>Pledged</th>\n",
       "    </tr>\n",
       "  </thead>\n",
       "  <tbody>\n",
       "    <tr>\n",
       "      <th>157270</th>\n",
       "      <td>Pebble Time - Awesome Smartwatch, No Compromises</td>\n",
       "      <td>20,338,986.27</td>\n",
       "    </tr>\n",
       "    <tr>\n",
       "      <th>250254</th>\n",
       "      <td>COOLEST COOLER: 21st Century Cooler that's Act...</td>\n",
       "      <td>13,285,226.36</td>\n",
       "    </tr>\n",
       "    <tr>\n",
       "      <th>216629</th>\n",
       "      <td>Pebble 2, Time 2 + All-New Pebble Core</td>\n",
       "      <td>12,779,843.49</td>\n",
       "    </tr>\n",
       "    <tr>\n",
       "      <th>289915</th>\n",
       "      <td>Kingdom Death: Monster 1.5</td>\n",
       "      <td>12,393,139.69</td>\n",
       "    </tr>\n",
       "    <tr>\n",
       "      <th>282416</th>\n",
       "      <td>Pebble: E-Paper Watch for iPhone and Android</td>\n",
       "      <td>10,266,845.74</td>\n",
       "    </tr>\n",
       "    <tr>\n",
       "      <th>218147</th>\n",
       "      <td>Expect the Unexpected. digiFilm™ Camera by YAS...</td>\n",
       "      <td>10,035,296.00</td>\n",
       "    </tr>\n",
       "    <tr>\n",
       "      <th>293861</th>\n",
       "      <td>The World's Best TRAVEL JACKET with 15 Feature...</td>\n",
       "      <td>9,192,055.66</td>\n",
       "    </tr>\n",
       "    <tr>\n",
       "      <th>187652</th>\n",
       "      <td>Exploding Kittens</td>\n",
       "      <td>8,782,571.99</td>\n",
       "    </tr>\n",
       "    <tr>\n",
       "      <th>6665</th>\n",
       "      <td>OUYA: A New Kind of Video Game Console</td>\n",
       "      <td>8,596,474.58</td>\n",
       "    </tr>\n",
       "    <tr>\n",
       "      <th>309630</th>\n",
       "      <td>THE 7th CONTINENT – What Goes Up, Must Come Down.</td>\n",
       "      <td>7,072,757.00</td>\n",
       "    </tr>\n",
       "    <tr>\n",
       "      <th>271276</th>\n",
       "      <td>The Everyday Backpack, Tote, and Sling</td>\n",
       "      <td>6,565,782.50</td>\n",
       "    </tr>\n",
       "    <tr>\n",
       "      <th>75900</th>\n",
       "      <td>Fidget Cube: A Vinyl Desk Toy</td>\n",
       "      <td>6,465,690.30</td>\n",
       "    </tr>\n",
       "    <tr>\n",
       "      <th>368573</th>\n",
       "      <td>Shenmue 3</td>\n",
       "      <td>6,333,295.77</td>\n",
       "    </tr>\n",
       "    <tr>\n",
       "      <th>30041</th>\n",
       "      <td>Pono Music - Where Your Soul Rediscovers Music</td>\n",
       "      <td>6,225,354.98</td>\n",
       "    </tr>\n",
       "    <tr>\n",
       "      <th>89481</th>\n",
       "      <td>Bring Back MYSTERY SCIENCE THEATER 3000</td>\n",
       "      <td>5,764,229.38</td>\n",
       "    </tr>\n",
       "    <tr>\n",
       "      <th>148585</th>\n",
       "      <td>The Veronica Mars Movie Project</td>\n",
       "      <td>5,702,153.38</td>\n",
       "    </tr>\n",
       "    <tr>\n",
       "      <th>14850</th>\n",
       "      <td>Bloodstained: Ritual of the Night</td>\n",
       "      <td>5,545,991.70</td>\n",
       "    </tr>\n",
       "    <tr>\n",
       "      <th>292244</th>\n",
       "      <td>Bring Reading Rainbow Back for Every Child, Ev...</td>\n",
       "      <td>5,408,916.95</td>\n",
       "    </tr>\n",
       "    <tr>\n",
       "      <th>143661</th>\n",
       "      <td>ZeTime: World's first smartwatch with hands ov...</td>\n",
       "      <td>5,333,792.84</td>\n",
       "    </tr>\n",
       "    <tr>\n",
       "      <th>157517</th>\n",
       "      <td>Zombicide: Green Horde</td>\n",
       "      <td>5,004,494.58</td>\n",
       "    </tr>\n",
       "  </tbody>\n",
       "</table>\n",
       "</div>"
      ],
      "text/plain": [
       "                                                     Name       Pledged\n",
       "157270   Pebble Time - Awesome Smartwatch, No Compromises 20,338,986.27\n",
       "250254  COOLEST COOLER: 21st Century Cooler that's Act... 13,285,226.36\n",
       "216629             Pebble 2, Time 2 + All-New Pebble Core 12,779,843.49\n",
       "289915                         Kingdom Death: Monster 1.5 12,393,139.69\n",
       "282416       Pebble: E-Paper Watch for iPhone and Android 10,266,845.74\n",
       "218147  Expect the Unexpected. digiFilm™ Camera by YAS... 10,035,296.00\n",
       "293861  The World's Best TRAVEL JACKET with 15 Feature...  9,192,055.66\n",
       "187652                                  Exploding Kittens  8,782,571.99\n",
       "6665               OUYA: A New Kind of Video Game Console  8,596,474.58\n",
       "309630  THE 7th CONTINENT – What Goes Up, Must Come Down.  7,072,757.00\n",
       "271276             The Everyday Backpack, Tote, and Sling  6,565,782.50\n",
       "75900                       Fidget Cube: A Vinyl Desk Toy  6,465,690.30\n",
       "368573                                          Shenmue 3  6,333,295.77\n",
       "30041      Pono Music - Where Your Soul Rediscovers Music  6,225,354.98\n",
       "89481             Bring Back MYSTERY SCIENCE THEATER 3000  5,764,229.38\n",
       "148585                    The Veronica Mars Movie Project  5,702,153.38\n",
       "14850                   Bloodstained: Ritual of the Night  5,545,991.70\n",
       "292244  Bring Reading Rainbow Back for Every Child, Ev...  5,408,916.95\n",
       "143661  ZeTime: World's first smartwatch with hands ov...  5,333,792.84\n",
       "157517                             Zombicide: Green Horde  5,004,494.58"
      ]
     },
     "execution_count": 72,
     "metadata": {},
     "output_type": "execute_result"
    }
   ],
   "source": [
    "top_idx = df.Pledged.sort_values(ascending=False)[:20].index\n",
    "df.loc[top_idx, ['Name', 'Pledged']]"
   ]
  },
  {
   "cell_type": "code",
   "execution_count": 107,
   "metadata": {
    "ExecuteTime": {
     "end_time": "2018-02-20T23:41:53.880931Z",
     "start_time": "2018-02-20T23:41:53.436334Z"
    }
   },
   "outputs": [
    {
     "data": {
      "text/plain": [
       "<matplotlib.figure.Figure at 0x11a0ac748>"
      ]
     },
     "metadata": {},
     "output_type": "display_data"
    },
    {
     "data": {
      "image/png": "[encoded data removed]",
      "text/plain": [
       "<matplotlib.figure.Figure at 0x1189fb780>"
      ]
     },
     "metadata": {},
     "output_type": "display_data"
    }
   ],
   "source": [
    "plt.figure(figsize=(12, 8))\n",
    "top_idx = df.Pledged.sort_values(ascending=False)[:20].index\n",
    "df.loc[top_idx, ['Name', 'Pledged']].set_index('Name').plot(kind='bar', color=MC)\n",
    "from matplotlib.ticker import ScalarFormatter, FormatStrFormatter\n",
    "\n",
    "# Turn off scientific notation\n",
    "ax = plt.gca()\n",
    "ax.yaxis.set_major_formatter(FormatStrFormatter('%.0f'))\n",
    "\n",
    "plt.grid(axis='y', color=SC)\n",
    "plt.title(f'Best Funded Projects', y=1.02);"
   ]
  },
  {
   "cell_type": "code",
   "execution_count": 114,
   "metadata": {
    "ExecuteTime": {
     "end_time": "2018-02-20T23:44:06.945627Z",
     "start_time": "2018-02-20T23:44:06.697081Z"
    }
   },
   "outputs": [
    {
     "data": {
      "image/png": "[encoded data removed]",
      "text/plain": [
       "<matplotlib.figure.Figure at 0x118a5ea20>"
      ]
     },
     "metadata": {},
     "output_type": "display_data"
    }
   ],
   "source": [
    "plt.axes(frameon=False)\n",
    "df.groupby('Category').Backers.mean().sort_values(ascending=False)[:top_num].sort_values().plot(kind='barh', color=MC)\n",
    "plt.grid(axis='x', color=SC)\n",
    "plt.title(f'Average Number of Backers by Category', y=1.02);"
   ]
  },
  {
   "cell_type": "code",
   "execution_count": 123,
   "metadata": {
    "ExecuteTime": {
     "end_time": "2018-02-20T23:46:01.989420Z",
     "start_time": "2018-02-20T23:46:01.740244Z"
    }
   },
   "outputs": [
    {
     "data": {
      "image/png": "[encoded data removed]",
      "text/plain": [
       "<matplotlib.figure.Figure at 0x1160c0c50>"
      ]
     },
     "metadata": {},
     "output_type": "display_data"
    }
   ],
   "source": [
    "plt.axes(frameon=False)\n",
    "df.State.value_counts().plot(kind='bar', color=MC)\n",
    "plt.grid(axis='y', color=SC)"
   ]
  },
  {
   "cell_type": "code",
   "execution_count": 135,
   "metadata": {
    "ExecuteTime": {
     "end_time": "2018-02-20T23:56:59.766911Z",
     "start_time": "2018-02-20T23:56:59.270615Z"
    }
   },
   "outputs": [
    {
     "data": {
      "image/png": "[encoded data removed]",
      "text/plain": [
       "<matplotlib.figure.Figure at 0x12fbfbcf8>"
      ]
     },
     "metadata": {},
     "output_type": "display_data"
    }
   ],
   "source": [
    "sns.distplot(df.Pledged)\n",
    "\n",
    "# Turn off scientific notation\n",
    "# ax = plt.gca()\n",
    "# ax.xaxis.set_major_formatter(FormatStrFormatter('%.0f'))\n",
    "\n",
    "# plt.xscale('log')\n",
    "# plt.yscale('log')"
   ]
  },
  {
   "cell_type": "code",
   "execution_count": null,
   "metadata": {},
   "outputs": [],
   "source": []
  }
 ],
 "metadata": {
  "kernelspec": {
   "display_name": "Python 3",
   "language": "python",
   "name": "python3"
  },
  "language_info": {
   "codemirror_mode": {
    "name": "ipython",
    "version": 3
   },
   "file_extension": ".py",
   "mimetype": "text/x-python",
   "name": "python",
   "nbconvert_exporter": "python",
   "pygments_lexer": "ipython3",
   "version": "3.6.1"
  },
  "varInspector": {
   "cols": {
    "lenName": 16,
    "lenType": 16,
    "lenVar": 40
   },
   "kernels_config": {
    "python": {
     "delete_cmd_postfix": "",
     "delete_cmd_prefix": "del ",
     "library": "var_list.py",
     "varRefreshCmd": "print(var_dic_list())"
    },
    "r": {
     "delete_cmd_postfix": ") ",
     "delete_cmd_prefix": "rm(",
     "library": "var_list.r",
     "varRefreshCmd": "cat(var_dic_list()) "
    }
   },
   "types_to_exclude": [
    "module",
    "function",
    "builtin_function_or_method",
    "instance",
    "_Feature"
   ],
   "window_display": false
  }
 },
 "nbformat": 4,
 "nbformat_minor": 2
}
